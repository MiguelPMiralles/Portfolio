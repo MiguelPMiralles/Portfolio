{
 "cells": [
  {
   "cell_type": "markdown",
   "id": "116cb916",
   "metadata": {},
   "source": [
    "# Traffic Accidents in Toronto "
   ]
  },
  {
   "cell_type": "markdown",
   "id": "3fd37988",
   "metadata": {},
   "source": [
    "## Exploring the Killed or Seriously Injured (KSI) Data from 2006 to 2020"
   ]
  },
  {
   "cell_type": "markdown",
   "id": "34143d74",
   "metadata": {},
   "source": [
    "The following project is an attempt of exploring the data availabe and put forth by the Toronto Police Service in regards to traffic accidents resulting in a casualty or serious injuries. The data spans from 2006 to 2020.\n",
    "\n",
    "As well as exploring dimensions such as yearly distribution, neighbourhood distribution and demographic aspects of a KSI-type accident, I want to assess whether the causes for accidents, the parties involved in it, and the road and light/visiblity conditions are good dimensions to discern whether an accident is fatal or not.\n",
    "\n",
    "Data was collected from the Toronto Police Service's [Public Safety Data Portal](https://data.torontopolice.on.ca/datasets/ksi/explore).\n"
   ]
  },
  {
   "cell_type": "code",
   "execution_count": 348,
   "id": "4b4c2b7e-08ca-4d37-a027-18d7552fb255",
   "metadata": {},
   "outputs": [],
   "source": [
    "import numpy as np\n",
    "from numpy import array\n",
    "import pandas as pd\n",
    "import matplotlib.pyplot as plt\n",
    "import datetime as date\n",
    "import seaborn as sns\n",
    "%matplotlib inline\n",
    "\n",
    "from sklearn.tree import DecisionTreeClassifier\n",
    "from sklearn.linear_model import LogisticRegression\n",
    "from sklearn.neighbors import KNeighborsClassifier\n",
    "from sklearn.svm import SVC\n",
    "from sklearn.ensemble import RandomForestClassifier\n",
    "from imblearn.ensemble import BalancedRandomForestClassifier\n",
    "from sklearn.model_selection import RepeatedStratifiedKFold\n",
    "from sklearn import metrics as mt\n",
    "from sklearn.model_selection import train_test_split\n",
    "from sklearn.metrics import plot_confusion_matrix\n",
    "from sklearn.metrics import classification_report\n",
    "from sklearn.metrics import precision_score, recall_score, accuracy_score, f1_score\n",
    "from sklearn.model_selection import cross_val_score\n",
    "from sklearn.model_selection import cross_validate\n",
    "from sklearn.preprocessing import StandardScaler\n",
    "from sklearn.decomposition import PCA\n",
    "from sklearn.cluster import KMeans\n",
    "from scipy.spatial.distance import cdist\n",
    "from sklearn.model_selection import RandomizedSearchCV\n",
    "from sklearn.model_selection import GridSearchCV, StratifiedKFold\n",
    "from imblearn.under_sampling import RandomUnderSampler\n",
    "from sklearn.utils import resample\n",
    "\n",
    "import graphviz\n",
    "import scikitplot as skplt\n",
    "from mlxtend.plotting import plot_decision_regions\n",
    "from mlxtend.plotting import category_scatter"
   ]
  },
  {
   "cell_type": "markdown",
   "id": "a5dda998",
   "metadata": {},
   "source": [
    "The way incidents and features are reported, it lends to lots of Null values (which might indicate abscence of the observable feature).\n",
    "\n",
    "* 'Null' values where processed on Sheets by replacing them in categorical variables with 'No Record.' \n",
    "\n",
    "* Dimensions related to the parties involved in accidents were codified with 1s (for 'True' values) and 0s (for 'Null' values). 'True' and 'Null' implies existence or lack of thereof, but records for parties involved are not aggregated. Accidents with multiple parties involved had more than one row input, there affecting all dimensions involved. Hence the amount of missing data. It can due to an absence of injury, or that the information was not recorded.\n",
    "\n",
    "* Thus, a single accident has different counts for dimensions such as age, type of injure, fatality, party involved and even vehicle.\n",
    "\n",
    "* Initial EDA was showing double bleeps and offering a skewed representation of the data.\n",
    "\n",
    "* Dropping duplicates is not a possibility, as valuble information might be lost. \n",
    "\n",
    "* A different approach was needed, one that required reducing the amount of dimensions of interest, focusing on those who have the most complete data.\n"
   ]
  },
  {
   "cell_type": "code",
   "execution_count": 349,
   "id": "cd6ff2d0-c855-4008-a9fd-d178199c0a6c",
   "metadata": {},
   "outputs": [
    {
     "data": {
      "text/plain": [
       "X                   0.000000\n",
       "Y                   0.000000\n",
       "INDEX_              0.000000\n",
       "ACCNUM              0.000000\n",
       "YEAR                0.000000\n",
       "DATE                0.000000\n",
       "TIME                0.000000\n",
       "HOUR                0.000000\n",
       "STREET1             0.000000\n",
       "STREET2             8.956109\n",
       "STREET              0.000000\n",
       "OFFSET             83.712930\n",
       "ROAD_CLASS          2.947805\n",
       "DISTRICT            0.836299\n",
       "WARDNUM             1.162515\n",
       "DIVISION            1.162515\n",
       "LATITUDE            0.000000\n",
       "LONGITUDE           0.000000\n",
       "LOCCOORD            0.622776\n",
       "ACCLOC             32.325030\n",
       "TRAFFCTL            0.172005\n",
       "VISIBILITY          0.106762\n",
       "LIGHT               0.000000\n",
       "RDSFCOND            0.136418\n",
       "ACCLASS             0.000000\n",
       "IMPACTYPE           0.023725\n",
       "INVTYPE             0.071174\n",
       "INVAGE              0.000000\n",
       "INJURY              9.561091\n",
       "FATAL_NO           95.771056\n",
       "INITDIR            29.027284\n",
       "VEHTYPE            16.684460\n",
       "MANOEUVER          42.900356\n",
       "DRIVACT            49.810202\n",
       "DRIVCOND           49.798339\n",
       "PEDTYPE            83.475682\n",
       "PEDACT             83.517200\n",
       "PEDCOND            83.185053\n",
       "CYCLISTYPE         95.848161\n",
       "CYCACT             95.806643\n",
       "CYCCOND            95.812574\n",
       "PEDESTRIAN          0.000000\n",
       "CYCLIST             0.000000\n",
       "AUTOMOBILE          0.000000\n",
       "MOTORCYCLE          0.000000\n",
       "TRUCK               0.000000\n",
       "TRSN_CITY_VEH       0.000000\n",
       "EMERG_VEH           0.000000\n",
       "PASSENGER           0.000000\n",
       "SPEEDING            0.000000\n",
       "AG_DRIV             0.000000\n",
       "REDLIGHT            0.000000\n",
       "ALCOHOL             0.000000\n",
       "DISABILITY          0.000000\n",
       "POLICE_DIVISION     0.000000\n",
       "HOOD_ID             0.000000\n",
       "NEIGHBOURHOOD       0.000000\n",
       "ObjectId            0.000000\n",
       "dtype: float64"
      ]
     },
     "execution_count": 349,
     "metadata": {},
     "output_type": "execute_result"
    }
   ],
   "source": [
    "#reverted to a method to see how many 'No Record'/NaN markers are in the whole dataset\n",
    "df = pd.read_csv(r\"C:\\Users\\migue\\Downloads\\KSI.csv\")\n",
    "df_nulls = df.replace('No record', np.nan) \n",
    "\n",
    "#count of values considered as null\n",
    "null_count = df_nulls.isna().sum()\n",
    "\n",
    "#frequency of nulls for each dimension\n",
    "null_freq = null_count / len(df_nulls) * 100\n",
    "null_freq"
   ]
  },
  {
   "cell_type": "markdown",
   "id": "e246b45e-84f2-4bf0-8112-e784f5f7a3b6",
   "metadata": {},
   "source": [
    "The above calculation renders the following dimensions:"
   ]
  },
  {
   "cell_type": "code",
   "execution_count": 350,
   "id": "d1016a87-cb78-4d6f-a223-3643f70fc7f9",
   "metadata": {},
   "outputs": [
    {
     "data": {
      "text/plain": [
       "(16860, 58)"
      ]
     },
     "execution_count": 350,
     "metadata": {},
     "output_type": "execute_result"
    }
   ],
   "source": [
    "#there are 58 dimensions, and many of them show a high number or nan/no record values\n",
    "df_nulls.shape"
   ]
  },
  {
   "cell_type": "markdown",
   "id": "c3286f39-3e3f-4d54-9617-1820130310e0",
   "metadata": {},
   "source": [
    "With so many columns displaying high percentages of unreported values, I downsized the shape the dataset."
   ]
  },
  {
   "cell_type": "code",
   "execution_count": 351,
   "id": "9c5e6645-b658-443b-b4bc-e6d333f84f94",
   "metadata": {},
   "outputs": [],
   "source": [
    "#dropping the columns with a high volume of nan/no record, plus Street, which was concatenated on Sheets, but of little value\n",
    "df_nulls.drop(columns = ['STREET', 'OFFSET', 'FATAL_NO', 'PEDTYPE', 'PEDACT', 'PEDCOND', 'CYCLISTYPE', 'CYCACT','CYCCOND'], inplace = True)"
   ]
  },
  {
   "cell_type": "code",
   "execution_count": 352,
   "id": "e40d867b-f21c-45c7-b861-ddc1b7c06468",
   "metadata": {},
   "outputs": [
    {
     "data": {
      "text/plain": [
       "(16860, 49)"
      ]
     },
     "execution_count": 352,
     "metadata": {},
     "output_type": "execute_result"
    }
   ],
   "source": [
    "#downsizing the df to 49 columns\n",
    "df_nulls.shape"
   ]
  },
  {
   "cell_type": "markdown",
   "id": "0e985834-1aba-4860-801a-c12c4fae58bb",
   "metadata": {},
   "source": [
    "Accidents reported are recoded more than once, depending on the parties involved. Such multiciplity of entries might result in issues when aggregating and visualizing data, so it helps to bear in mind the amount of unique accident numbers present in the data set. As stated above, duplicity control is of the utmost importance has to be checked at every stage of the exploratory process."
   ]
  },
  {
   "cell_type": "code",
   "execution_count": 353,
   "id": "3da9bdad-42df-4b5a-8aa7-6a8cdfa93f8f",
   "metadata": {},
   "outputs": [
    {
     "data": {
      "text/plain": [
       "6002"
      ]
     },
     "execution_count": 353,
     "metadata": {},
     "output_type": "execute_result"
    }
   ],
   "source": [
    "df_nulls['ACCNUM'].nunique()"
   ]
  },
  {
   "cell_type": "markdown",
   "id": "0d4d51d4-89c1-4759-b76a-fb3bd224f71f",
   "metadata": {},
   "source": [
    "Initially, 'ACCLASS' column is almost binary in how it's reported, and 'Property Damage Only', by definition, is non-fatal, so it can be grouped.\n",
    "It will be of help when correlating 'ACCLASS' against other variables."
   ]
  },
  {
   "cell_type": "code",
   "execution_count": 403,
   "id": "c2c2fb88-ca89-43e2-9ca7-a17050acf2a1",
   "metadata": {},
   "outputs": [],
   "source": [
    "#passing condition so the two counts of Property Damage Only are part of the Non-Fatal count\n",
    "#where method helps in adding the two values to non-fatal group, counting as non-fatal, what its labeled as damage to property\n",
    "df_nulls['ACCLASS'] = np.where(df['ACCLASS'] == 'Property Damage Only', 'Non-Fatal Injury', df_nulls['ACCLASS'])"
   ]
  },
  {
   "cell_type": "markdown",
   "id": "3e6c312d-d938-458e-b3ea-b87b5ff7855b",
   "metadata": {},
   "source": [
    "For further analysis purposes, let's remap the string in values into integer ones. The labels are dummified as 0 for letality and 1 for non-letality."
   ]
  },
  {
   "cell_type": "code",
   "execution_count": 420,
   "id": "d5d6fe1b-42f0-410f-9489-0c85cf17efc5",
   "metadata": {},
   "outputs": [
    {
     "data": {
      "text/plain": [
       "0    14561\n",
       "1     2299\n",
       "Name: ACCLASS, dtype: int64"
      ]
     },
     "execution_count": 420,
     "metadata": {},
     "output_type": "execute_result"
    }
   ],
   "source": [
    "df_nulls['ACCLASS'] = pd.get_dummies(data = df_nulls['ACCLASS'])\n",
    "df_nulls['ACCLASS'].value_counts()"
   ]
  },
  {
   "cell_type": "code",
   "execution_count": 357,
   "id": "21653c45",
   "metadata": {},
   "outputs": [],
   "source": [
    "#changing object type columns into categorical data, to reflect the way they are input in the dataset\n",
    "for col in df_nulls.select_dtypes(['object']):\n",
    "    df_nulls[col] = df_nulls[col].astype('category')"
   ]
  },
  {
   "cell_type": "code",
   "execution_count": 358,
   "id": "7767fb97-6e03-4aa2-b1b4-e15d6e7c3dcf",
   "metadata": {},
   "outputs": [
    {
     "data": {
      "text/plain": [
       "X                   float64\n",
       "Y                   float64\n",
       "INDEX_                int64\n",
       "ACCNUM                int64\n",
       "YEAR                  int64\n",
       "DATE               category\n",
       "TIME                  int64\n",
       "HOUR                  int64\n",
       "STREET1            category\n",
       "STREET2            category\n",
       "ROAD_CLASS         category\n",
       "DISTRICT           category\n",
       "WARDNUM            category\n",
       "DIVISION           category\n",
       "LATITUDE            float64\n",
       "LONGITUDE           float64\n",
       "LOCCOORD           category\n",
       "ACCLOC             category\n",
       "TRAFFCTL           category\n",
       "VISIBILITY         category\n",
       "LIGHT              category\n",
       "RDSFCOND           category\n",
       "ACCLASS               uint8\n",
       "IMPACTYPE          category\n",
       "INVTYPE            category\n",
       "INVAGE             category\n",
       "INJURY             category\n",
       "INITDIR            category\n",
       "VEHTYPE            category\n",
       "MANOEUVER          category\n",
       "DRIVACT            category\n",
       "DRIVCOND           category\n",
       "PEDESTRIAN            int64\n",
       "CYCLIST               int64\n",
       "AUTOMOBILE            int64\n",
       "MOTORCYCLE            int64\n",
       "TRUCK                 int64\n",
       "TRSN_CITY_VEH         int64\n",
       "EMERG_VEH             int64\n",
       "PASSENGER             int64\n",
       "SPEEDING              int64\n",
       "AG_DRIV               int64\n",
       "REDLIGHT              int64\n",
       "ALCOHOL               int64\n",
       "DISABILITY            int64\n",
       "POLICE_DIVISION    category\n",
       "HOOD_ID               int64\n",
       "NEIGHBOURHOOD      category\n",
       "ObjectId              int64\n",
       "dtype: object"
      ]
     },
     "execution_count": 358,
     "metadata": {},
     "output_type": "execute_result"
    }
   ],
   "source": [
    "df_nulls.dtypes"
   ]
  },
  {
   "cell_type": "markdown",
   "id": "2e894202-794c-4003-a687-db47d7d5a9f7",
   "metadata": {},
   "source": [
    "Road conditions, light and visibility conditions are also going to be part of the classification analysis. Let's also encode them before moving forward."
   ]
  },
  {
   "cell_type": "markdown",
   "id": "71512ade-aafc-4a52-b88a-3e5c71cb9c18",
   "metadata": {},
   "source": [
    "Most of the dimensions in this dataset are categorial, so at this point, turning them into categories will be of help mpving forward, especially when enconding them for regression/classifications analyses."
   ]
  },
  {
   "cell_type": "code",
   "execution_count": 405,
   "id": "b08da797-68c0-4607-b341-82abcb756aa7",
   "metadata": {},
   "outputs": [],
   "source": [
    "#one-hot encoding road, light and visibility conditions\n",
    "df_nulls['RDSFCOND'] = pd.get_dummies(data = df_nulls, columns = ['RDSFCOND'])\n",
    "df_nulls['VISIBILITY'] = pd.get_dummies(data = df_nulls, columns = ['VISIBILITY'])\n",
    "df_nulls['LIGHT'] = pd.get_dummies(data = df_nulls, columns = ['LIGHT'])"
   ]
  },
  {
   "cell_type": "markdown",
   "id": "69f451b5-23da-4142-bada-dd0dfe519e28",
   "metadata": {},
   "source": [
    "'Date' was converted in the batch. Let's reverse that and create ad-hoc columns for features such as month or day of the week, which will help in retrieving more inisght about when accidents took place on an aggregate scale."
   ]
  },
  {
   "cell_type": "code",
   "execution_count": 360,
   "id": "6b11ef3f-a0be-40a3-830f-75477e12ee04",
   "metadata": {},
   "outputs": [],
   "source": [
    "#convert into date time, same for hour and time\n",
    "df_nulls['DATE'] = pd.to_datetime(df_nulls['DATE'])"
   ]
  },
  {
   "cell_type": "code",
   "execution_count": 361,
   "id": "9fff4fcb-17ac-4792-8ca6-9aa4e4cddfc6",
   "metadata": {},
   "outputs": [
    {
     "data": {
      "text/html": [
       "<div>\n",
       "<style scoped>\n",
       "    .dataframe tbody tr th:only-of-type {\n",
       "        vertical-align: middle;\n",
       "    }\n",
       "\n",
       "    .dataframe tbody tr th {\n",
       "        vertical-align: top;\n",
       "    }\n",
       "\n",
       "    .dataframe thead th {\n",
       "        text-align: right;\n",
       "    }\n",
       "</style>\n",
       "<table border=\"1\" class=\"dataframe\">\n",
       "  <thead>\n",
       "    <tr style=\"text-align: right;\">\n",
       "      <th></th>\n",
       "      <th>X</th>\n",
       "      <th>Y</th>\n",
       "      <th>INDEX_</th>\n",
       "      <th>ACCNUM</th>\n",
       "      <th>YEAR</th>\n",
       "      <th>TIME</th>\n",
       "      <th>HOUR</th>\n",
       "      <th>LATITUDE</th>\n",
       "      <th>LONGITUDE</th>\n",
       "      <th>ACCLASS</th>\n",
       "      <th>...</th>\n",
       "      <th>PASSENGER</th>\n",
       "      <th>SPEEDING</th>\n",
       "      <th>AG_DRIV</th>\n",
       "      <th>REDLIGHT</th>\n",
       "      <th>ALCOHOL</th>\n",
       "      <th>DISABILITY</th>\n",
       "      <th>HOOD_ID</th>\n",
       "      <th>ObjectId</th>\n",
       "      <th>MONTH</th>\n",
       "      <th>DAY OF WEEK</th>\n",
       "    </tr>\n",
       "  </thead>\n",
       "  <tbody>\n",
       "    <tr>\n",
       "      <th>count</th>\n",
       "      <td>1.686000e+04</td>\n",
       "      <td>1.686000e+04</td>\n",
       "      <td>1.686000e+04</td>\n",
       "      <td>1.686000e+04</td>\n",
       "      <td>16860.000000</td>\n",
       "      <td>16860.000000</td>\n",
       "      <td>16860.000000</td>\n",
       "      <td>16860.000000</td>\n",
       "      <td>16860.000000</td>\n",
       "      <td>16860.000000</td>\n",
       "      <td>...</td>\n",
       "      <td>16860.000000</td>\n",
       "      <td>16860.000000</td>\n",
       "      <td>16860.000000</td>\n",
       "      <td>16860.000000</td>\n",
       "      <td>16860.000000</td>\n",
       "      <td>16860.000000</td>\n",
       "      <td>16860.000000</td>\n",
       "      <td>16860.000000</td>\n",
       "      <td>16860.000000</td>\n",
       "      <td>16860.000000</td>\n",
       "    </tr>\n",
       "    <tr>\n",
       "      <th>mean</th>\n",
       "      <td>-8.838272e+06</td>\n",
       "      <td>5.420819e+06</td>\n",
       "      <td>3.475220e+07</td>\n",
       "      <td>2.263460e+09</td>\n",
       "      <td>2012.256168</td>\n",
       "      <td>1352.106821</td>\n",
       "      <td>13.241103</td>\n",
       "      <td>43.710920</td>\n",
       "      <td>-79.395546</td>\n",
       "      <td>0.136240</td>\n",
       "      <td>...</td>\n",
       "      <td>0.377343</td>\n",
       "      <td>0.135528</td>\n",
       "      <td>0.516192</td>\n",
       "      <td>0.083571</td>\n",
       "      <td>0.043832</td>\n",
       "      <td>0.027758</td>\n",
       "      <td>74.003618</td>\n",
       "      <td>8430.500000</td>\n",
       "      <td>6.802610</td>\n",
       "      <td>3.003796</td>\n",
       "    </tr>\n",
       "    <tr>\n",
       "      <th>std</th>\n",
       "      <td>1.159490e+04</td>\n",
       "      <td>8.664361e+03</td>\n",
       "      <td>3.657126e+07</td>\n",
       "      <td>3.263836e+09</td>\n",
       "      <td>4.252797</td>\n",
       "      <td>629.726747</td>\n",
       "      <td>6.302679</td>\n",
       "      <td>0.056254</td>\n",
       "      <td>0.104159</td>\n",
       "      <td>0.343053</td>\n",
       "      <td>...</td>\n",
       "      <td>0.484736</td>\n",
       "      <td>0.342297</td>\n",
       "      <td>0.499753</td>\n",
       "      <td>0.276751</td>\n",
       "      <td>0.204726</td>\n",
       "      <td>0.164284</td>\n",
       "      <td>41.411541</td>\n",
       "      <td>4867.207105</td>\n",
       "      <td>3.288337</td>\n",
       "      <td>1.971048</td>\n",
       "    </tr>\n",
       "    <tr>\n",
       "      <th>min</th>\n",
       "      <td>-8.865305e+06</td>\n",
       "      <td>5.402256e+06</td>\n",
       "      <td>3.363207e+06</td>\n",
       "      <td>2.530100e+04</td>\n",
       "      <td>2006.000000</td>\n",
       "      <td>0.000000</td>\n",
       "      <td>0.000000</td>\n",
       "      <td>43.590289</td>\n",
       "      <td>-79.638390</td>\n",
       "      <td>0.000000</td>\n",
       "      <td>...</td>\n",
       "      <td>0.000000</td>\n",
       "      <td>0.000000</td>\n",
       "      <td>0.000000</td>\n",
       "      <td>0.000000</td>\n",
       "      <td>0.000000</td>\n",
       "      <td>0.000000</td>\n",
       "      <td>1.000000</td>\n",
       "      <td>1.000000</td>\n",
       "      <td>1.000000</td>\n",
       "      <td>0.000000</td>\n",
       "    </tr>\n",
       "    <tr>\n",
       "      <th>25%</th>\n",
       "      <td>-8.846402e+06</td>\n",
       "      <td>5.413345e+06</td>\n",
       "      <td>5.358714e+06</td>\n",
       "      <td>1.065135e+06</td>\n",
       "      <td>2009.000000</td>\n",
       "      <td>913.000000</td>\n",
       "      <td>9.000000</td>\n",
       "      <td>43.662398</td>\n",
       "      <td>-79.468578</td>\n",
       "      <td>0.000000</td>\n",
       "      <td>...</td>\n",
       "      <td>0.000000</td>\n",
       "      <td>0.000000</td>\n",
       "      <td>0.000000</td>\n",
       "      <td>0.000000</td>\n",
       "      <td>0.000000</td>\n",
       "      <td>0.000000</td>\n",
       "      <td>39.000000</td>\n",
       "      <td>4215.750000</td>\n",
       "      <td>4.000000</td>\n",
       "      <td>1.000000</td>\n",
       "    </tr>\n",
       "    <tr>\n",
       "      <th>50%</th>\n",
       "      <td>-8.838358e+06</td>\n",
       "      <td>5.419639e+06</td>\n",
       "      <td>7.474276e+06</td>\n",
       "      <td>1.293196e+06</td>\n",
       "      <td>2012.000000</td>\n",
       "      <td>1442.000000</td>\n",
       "      <td>14.000000</td>\n",
       "      <td>43.703284</td>\n",
       "      <td>-79.396323</td>\n",
       "      <td>0.000000</td>\n",
       "      <td>...</td>\n",
       "      <td>0.000000</td>\n",
       "      <td>0.000000</td>\n",
       "      <td>1.000000</td>\n",
       "      <td>0.000000</td>\n",
       "      <td>0.000000</td>\n",
       "      <td>0.000000</td>\n",
       "      <td>77.000000</td>\n",
       "      <td>8430.500000</td>\n",
       "      <td>7.000000</td>\n",
       "      <td>3.000000</td>\n",
       "    </tr>\n",
       "    <tr>\n",
       "      <th>75%</th>\n",
       "      <td>-8.829527e+06</td>\n",
       "      <td>5.427906e+06</td>\n",
       "      <td>8.063194e+07</td>\n",
       "      <td>5.001806e+09</td>\n",
       "      <td>2016.000000</td>\n",
       "      <td>1845.000000</td>\n",
       "      <td>18.000000</td>\n",
       "      <td>43.756945</td>\n",
       "      <td>-79.316990</td>\n",
       "      <td>0.000000</td>\n",
       "      <td>...</td>\n",
       "      <td>1.000000</td>\n",
       "      <td>0.000000</td>\n",
       "      <td>1.000000</td>\n",
       "      <td>0.000000</td>\n",
       "      <td>0.000000</td>\n",
       "      <td>0.000000</td>\n",
       "      <td>112.000000</td>\n",
       "      <td>12645.250000</td>\n",
       "      <td>10.000000</td>\n",
       "      <td>5.000000</td>\n",
       "    </tr>\n",
       "    <tr>\n",
       "      <th>max</th>\n",
       "      <td>-8.808254e+06</td>\n",
       "      <td>5.443099e+06</td>\n",
       "      <td>8.154201e+07</td>\n",
       "      <td>9.085345e+09</td>\n",
       "      <td>2020.000000</td>\n",
       "      <td>2359.000000</td>\n",
       "      <td>23.000000</td>\n",
       "      <td>43.855445</td>\n",
       "      <td>-79.125896</td>\n",
       "      <td>1.000000</td>\n",
       "      <td>...</td>\n",
       "      <td>1.000000</td>\n",
       "      <td>1.000000</td>\n",
       "      <td>1.000000</td>\n",
       "      <td>1.000000</td>\n",
       "      <td>1.000000</td>\n",
       "      <td>1.000000</td>\n",
       "      <td>140.000000</td>\n",
       "      <td>16860.000000</td>\n",
       "      <td>12.000000</td>\n",
       "      <td>6.000000</td>\n",
       "    </tr>\n",
       "  </tbody>\n",
       "</table>\n",
       "<p>8 rows × 27 columns</p>\n",
       "</div>"
      ],
      "text/plain": [
       "                  X             Y        INDEX_        ACCNUM          YEAR  \\\n",
       "count  1.686000e+04  1.686000e+04  1.686000e+04  1.686000e+04  16860.000000   \n",
       "mean  -8.838272e+06  5.420819e+06  3.475220e+07  2.263460e+09   2012.256168   \n",
       "std    1.159490e+04  8.664361e+03  3.657126e+07  3.263836e+09      4.252797   \n",
       "min   -8.865305e+06  5.402256e+06  3.363207e+06  2.530100e+04   2006.000000   \n",
       "25%   -8.846402e+06  5.413345e+06  5.358714e+06  1.065135e+06   2009.000000   \n",
       "50%   -8.838358e+06  5.419639e+06  7.474276e+06  1.293196e+06   2012.000000   \n",
       "75%   -8.829527e+06  5.427906e+06  8.063194e+07  5.001806e+09   2016.000000   \n",
       "max   -8.808254e+06  5.443099e+06  8.154201e+07  9.085345e+09   2020.000000   \n",
       "\n",
       "               TIME          HOUR      LATITUDE     LONGITUDE       ACCLASS  \\\n",
       "count  16860.000000  16860.000000  16860.000000  16860.000000  16860.000000   \n",
       "mean    1352.106821     13.241103     43.710920    -79.395546      0.136240   \n",
       "std      629.726747      6.302679      0.056254      0.104159      0.343053   \n",
       "min        0.000000      0.000000     43.590289    -79.638390      0.000000   \n",
       "25%      913.000000      9.000000     43.662398    -79.468578      0.000000   \n",
       "50%     1442.000000     14.000000     43.703284    -79.396323      0.000000   \n",
       "75%     1845.000000     18.000000     43.756945    -79.316990      0.000000   \n",
       "max     2359.000000     23.000000     43.855445    -79.125896      1.000000   \n",
       "\n",
       "       ...     PASSENGER      SPEEDING       AG_DRIV      REDLIGHT  \\\n",
       "count  ...  16860.000000  16860.000000  16860.000000  16860.000000   \n",
       "mean   ...      0.377343      0.135528      0.516192      0.083571   \n",
       "std    ...      0.484736      0.342297      0.499753      0.276751   \n",
       "min    ...      0.000000      0.000000      0.000000      0.000000   \n",
       "25%    ...      0.000000      0.000000      0.000000      0.000000   \n",
       "50%    ...      0.000000      0.000000      1.000000      0.000000   \n",
       "75%    ...      1.000000      0.000000      1.000000      0.000000   \n",
       "max    ...      1.000000      1.000000      1.000000      1.000000   \n",
       "\n",
       "            ALCOHOL    DISABILITY       HOOD_ID      ObjectId         MONTH  \\\n",
       "count  16860.000000  16860.000000  16860.000000  16860.000000  16860.000000   \n",
       "mean       0.043832      0.027758     74.003618   8430.500000      6.802610   \n",
       "std        0.204726      0.164284     41.411541   4867.207105      3.288337   \n",
       "min        0.000000      0.000000      1.000000      1.000000      1.000000   \n",
       "25%        0.000000      0.000000     39.000000   4215.750000      4.000000   \n",
       "50%        0.000000      0.000000     77.000000   8430.500000      7.000000   \n",
       "75%        0.000000      0.000000    112.000000  12645.250000     10.000000   \n",
       "max        1.000000      1.000000    140.000000  16860.000000     12.000000   \n",
       "\n",
       "        DAY OF WEEK  \n",
       "count  16860.000000  \n",
       "mean       3.003796  \n",
       "std        1.971048  \n",
       "min        0.000000  \n",
       "25%        1.000000  \n",
       "50%        3.000000  \n",
       "75%        5.000000  \n",
       "max        6.000000  \n",
       "\n",
       "[8 rows x 27 columns]"
      ]
     },
     "execution_count": 361,
     "metadata": {},
     "output_type": "execute_result"
    }
   ],
   "source": [
    "#at this point, it helps to have the month and week extracted out of Date\n",
    "df_nulls['MONTH'] = pd.DatetimeIndex(df_nulls['DATE']).month\n",
    "df_nulls['DAY OF WEEK'] = df_nulls['DATE'].dt.weekday\n",
    "df_nulls.head()\n",
    "df_nulls.describe()"
   ]
  },
  {
   "cell_type": "markdown",
   "id": "7c1f95b0-c9a8-42a1-9536-9477423d155c",
   "metadata": {},
   "source": [
    "# EDA\n",
    "\n",
    "Let's start by getting a top-view visual of the KSI incidents in Toronto. Police keeps records of multiple dimensiones of a traffic accident that results in a death or produces serious injuries. \n",
    "\n",
    "The [metadata](https://data.torontopolice.on.ca/datasets/ksi-metadata/explore) can be found at the Public Safety Data Portal.\n",
    "\n",
    "However, for the purposes of this section, these are some of the definitions of the dimensions used:\n",
    "\n",
    "*  VISIBILITY\tEnvironment Condition\n",
    "* LIGHT\tLight Condition\n",
    "* INVTYPE\tInvolvement Type \n",
    "* INVAGE\tAge of Involved Party\n",
    "* PEDESTRIAN\tPedestrian Involved In Collision\n",
    "* CYCLIST\tCyclists Involved in Collision\n",
    "* AUTOMOBILE\tDriver  Involved in Collision\n",
    "* MOTORCYCLE\tMotorcyclist  Involved in Collision\n",
    "* TRUCK\tTruck Driver  Involved in Collision\n",
    "* TRSN_CITY_VEH\tTransit or City Vehicle  Involved in Collision\n",
    "* EMERG_VEH\tEmergency Vehicle  Involved in Collision\n",
    "* PASSENGER\tPassenger Involved in Collision\n",
    "* SPEEDING\tSpeeding Related Collision\n",
    "* AG_DRIV\tAggressive and Distracted Driving Collision\n",
    "* REDLIGHT\tRed Light Related Collision\n",
    "* ALCOHOL\tAlcohol Related Collision\n",
    "* DISABILITY\tMedical or Physical Disability Related Collision\n"
   ]
  },
  {
   "cell_type": "markdown",
   "id": "fbbc8e0a-3e75-4b23-a242-715c13fd04f9",
   "metadata": {},
   "source": [
    "It helps to get an idea of the general trend in accidents to see the yearly evolution of accidents reported. While results only span to 2020, there seems to be downward trend, in general terms."
   ]
  },
  {
   "cell_type": "code",
   "execution_count": 362,
   "id": "68057ce2-1123-40eb-8057-299f02e95dee",
   "metadata": {},
   "outputs": [
    {
     "data": {
      "text/plain": [
       "YEAR\n",
       "2006    481\n",
       "2007    453\n",
       "2008    417\n",
       "2009    438\n",
       "2010    400\n",
       "2011    399\n",
       "2012    453\n",
       "2013    431\n",
       "2014    350\n",
       "2015    350\n",
       "2016    386\n",
       "2017    392\n",
       "2018    422\n",
       "2019    365\n",
       "2020    265\n",
       "Name: ACCNUM, dtype: int64"
      ]
     },
     "execution_count": 362,
     "metadata": {},
     "output_type": "execute_result"
    }
   ],
   "source": [
    "#check accidents per year \n",
    "yearly_ksi_instances = df_nulls.groupby('YEAR')['ACCNUM'].nunique()\n",
    "yearly_ksi_instances"
   ]
  },
  {
   "cell_type": "code",
   "execution_count": 363,
   "id": "d9dae6c1-8932-44ac-9b63-1f2f3cd4b3b6",
   "metadata": {},
   "outputs": [
    {
     "data": {
      "text/plain": [
       "<AxesSubplot:xlabel='YEAR'>"
      ]
     },
     "execution_count": 363,
     "metadata": {},
     "output_type": "execute_result"
    },
    {
     "data": {
      "image/png": "[encoded data removed]",
      "text/plain": [
       "<Figure size 1080x720 with 1 Axes>"
      ]
     },
     "metadata": {
      "needs_background": "light"
     },
     "output_type": "display_data"
    }
   ],
   "source": [
    "yearly_ksi_instances.plot(kind = 'bar', figsize=(15, 10))"
   ]
  },
  {
   "cell_type": "markdown",
   "id": "d29316b7",
   "metadata": {},
   "source": [
    "If those are to the total numbers per year, what is the distribution per district? Toronto Police has records for the following districts, revealing that Toronto and East York is the district with the highest count of reports:"
   ]
  },
  {
   "cell_type": "code",
   "execution_count": 364,
   "id": "a6217572-1f4a-49b6-bb2a-91baff161e4b",
   "metadata": {},
   "outputs": [
    {
     "data": {
      "text/plain": [
       "DISTRICT\n",
       "Etobicoke York           1373\n",
       "North York               1185\n",
       "Scarborough              1317\n",
       "Toronto and East York    2065\n",
       "Name: ACCNUM, dtype: int64"
      ]
     },
     "execution_count": 364,
     "metadata": {},
     "output_type": "execute_result"
    }
   ],
   "source": [
    "#first, regroup the labels with similar wording, like I did with fatal and non-fatal accidents, as there was a Toronto East York label\n",
    "df_nulls['DISTRICT'] = np.where(df['DISTRICT'] == 'Toronto East York', 'Toronto and East York', df_nulls['DISTRICT'])\n",
    "df_nulls.groupby('DISTRICT')['ACCNUM'].nunique()"
   ]
  },
  {
   "cell_type": "markdown",
   "id": "0da0149d-faf9-4c48-8bec-15143f18ef8f",
   "metadata": {},
   "source": [
    "That's the account for districts, but which are the neighbourhood with the highets count of accidents? Let's take a look at the the top-20:"
   ]
  },
  {
   "cell_type": "code",
   "execution_count": 365,
   "id": "e3b66c34-cda3-4bd9-8619-d487c2b2de82",
   "metadata": {},
   "outputs": [
    {
     "data": {
      "text/plain": [
       "(<AxesSubplot:xlabel='NEIGHBOURHOOD'>,\n",
       " NEIGHBOURHOOD\n",
       " Waterfront Communities-The Island (77)      222\n",
       " West Humber-Clairville (1)                  170\n",
       " Bay Street Corridor (76)                    141\n",
       " Rouge (131)                                 132\n",
       " Woburn (137)                                120\n",
       " South Riverdale (70)                        118\n",
       " Wexford/Maryvale (119)                      117\n",
       " Islington-City Centre West (14)             102\n",
       " Moss Park (73)                               98\n",
       " Church-Yonge Corridor (75)                   96\n",
       " Downsview-Roding-CFB (26)                    94\n",
       " South Parkdale (85)                          88\n",
       " Clairlea-Birchmount (120)                    87\n",
       " York University Heights (27)                 84\n",
       " Kensington-Chinatown (78)                    83\n",
       " Dovercourt-Wallace Emerson-Junction (93)     81\n",
       " Annex (95)                                   79\n",
       " Mimico (17)                                  79\n",
       " Milliken (130)                               75\n",
       " Malvern (132)                                71\n",
       " Name: ACCNUM, dtype: int64)"
      ]
     },
     "execution_count": 365,
     "metadata": {},
     "output_type": "execute_result"
    },
    {
     "data": {
      "image/png": "[encoded data removed]",
      "text/plain": [
       "<Figure size 1080x720 with 1 Axes>"
      ]
     },
     "metadata": {
      "needs_background": "light"
     },
     "output_type": "display_data"
    }
   ],
   "source": [
    "#accidents per neighborhood, counting top-20\n",
    "ksi_neighbourhood_top = df_nulls.groupby('NEIGHBOURHOOD')['ACCNUM'].nunique().nlargest(20)\n",
    "(ksi_neighbourhood_top.plot(kind='bar', figsize=(15, 10)), ksi_neighbourhood_top)"
   ]
  },
  {
   "cell_type": "markdown",
   "id": "2082f38d-88bc-48eb-8c17-5700b4723cac",
   "metadata": {},
   "source": [
    "These are the neighbourhood that have logged the lowest number of accidents over 14 years. While it overreaches the scope of the analysis and this data, it would be of interest to learn about the population density and road makeup of these neighbourhoods."
   ]
  },
  {
   "cell_type": "code",
   "execution_count": 366,
   "id": "c07feefb-0ae0-4546-b22b-463576ff7b44",
   "metadata": {},
   "outputs": [
    {
     "data": {
      "text/plain": [
       "(<AxesSubplot:xlabel='NEIGHBOURHOOD'>,\n",
       " NEIGHBOURHOOD\n",
       " Lambton Baby Point (114)          4\n",
       " Maple Leaf (29)                   7\n",
       " Guildwood (140)                  10\n",
       " Lawrence Park North (105)        10\n",
       " Playter Estates-Danforth (67)    10\n",
       " Humewood-Cedarvale (106)         11\n",
       " North St.James Town (74)         12\n",
       " Caledonia-Fairbank (109)         13\n",
       " Highland Creek (134)             13\n",
       " Pleasant View (46)               14\n",
       " Taylor-Massey (61)               14\n",
       " Danforth (66)                    15\n",
       " Elms-Old Rexdale (5)             15\n",
       " Ionview (125)                    15\n",
       " Westminster-Branson (35)         15\n",
       " Yonge-St.Clair (97)              15\n",
       " Markland Wood (12)               16\n",
       " Woodbine-Lumsden (60)            16\n",
       " Bayview Woods-Steeles (49)       17\n",
       " Blake-Jones (69)                 17\n",
       " Name: ACCNUM, dtype: int64)"
      ]
     },
     "execution_count": 366,
     "metadata": {},
     "output_type": "execute_result"
    },
    {
     "data": {
      "image/png": "[encoded data removed]",
      "text/plain": [
       "<Figure size 1080x720 with 1 Axes>"
      ]
     },
     "metadata": {
      "needs_background": "light"
     },
     "output_type": "display_data"
    }
   ],
   "source": [
    "bottom_20 = df_nulls.groupby('NEIGHBOURHOOD')['ACCNUM'].nunique().nsmallest(20)\n",
    "bottom_20.plot(kind='bar', figsize=(15, 10)), bottom_20"
   ]
  },
  {
   "cell_type": "markdown",
   "id": "daa9210d-6972-42ee-8ed3-a281b19a892f",
   "metadata": {},
   "source": [
    "Moving on to the main dimension of the dataset, we will now take a look at the distriburion of fatal and non-fatal accidents. It should be noted that fatal are the injuries where death occurs in less than 366 days as result of the collision. “Fatal” does not include death from natural causes (heart attack, stroke, epilated seizure, etc.) or suicide."
   ]
  },
  {
   "cell_type": "code",
   "execution_count": 367,
   "id": "f93fe367-b6ca-4a72-9a70-74e0d14f6b53",
   "metadata": {},
   "outputs": [
    {
     "data": {
      "text/plain": [
       "YEAR  ACCLASS\n",
       "2006  0          1294\n",
       "      1           189\n",
       "2007  0          1305\n",
       "      1           169\n",
       "2008  0          1060\n",
       "      1           179\n",
       "2009  0          1109\n",
       "      1           133\n",
       "2010  0          1033\n",
       "      1           157\n",
       "2011  0          1056\n",
       "      1           123\n",
       "2012  0          1223\n",
       "      1           125\n",
       "2013  0          1020\n",
       "      1           212\n",
       "2014  0           782\n",
       "      1           134\n",
       "2015  0           772\n",
       "      1           157\n",
       "2016  0           818\n",
       "      1           188\n",
       "2017  0           836\n",
       "      1           144\n",
       "2018  0           923\n",
       "      1           151\n",
       "2019  0           788\n",
       "      1           147\n",
       "2020  0           544\n",
       "      1            89\n",
       "Name: ACCLASS, dtype: int64"
      ]
     },
     "execution_count": 367,
     "metadata": {},
     "output_type": "execute_result"
    }
   ],
   "source": [
    "#How many fatal accidents have taken place per year?\n",
    "accident_type = df_nulls.groupby('YEAR')['ACCLASS'].value_counts()\n",
    "accident_type"
   ]
  },
  {
   "cell_type": "markdown",
   "id": "b34dc96a",
   "metadata": {},
   "source": [
    "Zooming on the type of injury, there are 5 types of injuries a person involved in an accident can sustain fatal injuries are the least to occur, but major injuries occur at a worrisome rate. It should be noted that a major injury is a non-fatal injury that is severe enough to require the injured person to be admitted to hospital, even if only for observation at the time of the collision. Examples of that are fractures, internal injuries, severe cuts, crushing, burns, concussions, or severe general shocks. It should also be noted that one accident might have multiple outcomes. "
   ]
  },
  {
   "cell_type": "code",
   "execution_count": 368,
   "id": "8cbfecc7-68bc-49aa-86ec-408ad4e8a984",
   "metadata": {},
   "outputs": [
    {
     "data": {
      "text/plain": [
       "None       6406\n",
       "Major      5668\n",
       "Minor      1311\n",
       "Minimal    1042\n",
       "Fatal       821\n",
       "Name: INJURY, dtype: int64"
      ]
     },
     "execution_count": 368,
     "metadata": {},
     "output_type": "execute_result"
    }
   ],
   "source": [
    "injuries = df_nulls['INJURY'].value_counts() #relative frequencies of the injury types\n",
    "injuries"
   ]
  },
  {
   "cell_type": "code",
   "execution_count": 369,
   "id": "11175953-b06e-4c63-94a9-137045e1cc46",
   "metadata": {},
   "outputs": [
    {
     "data": {
      "text/plain": [
       "<AxesSubplot:>"
      ]
     },
     "execution_count": 369,
     "metadata": {},
     "output_type": "execute_result"
    },
    {
     "data": {
      "image/png": "[encoded data removed]",
      "text/plain": [
       "<Figure size 1080x720 with 1 Axes>"
      ]
     },
     "metadata": {
      "needs_background": "light"
     },
     "output_type": "display_data"
    }
   ],
   "source": [
    "injuries.plot(kind='bar', figsize=(15, 10))"
   ]
  },
  {
   "cell_type": "markdown",
   "id": "6a9df688-c1ee-4b1a-b7ec-59a26494f1ce",
   "metadata": {},
   "source": [
    "Let's take a look now a what groups have recorded more incidents. Not surprsingly, drivers, pedestrians and passengers are sitting atop of the list."
   ]
  },
  {
   "cell_type": "code",
   "execution_count": 370,
   "id": "f2d2b216-72c8-49cb-bdbe-c02a96876d23",
   "metadata": {},
   "outputs": [
    {
     "data": {
      "text/plain": [
       "Driver                  7618\n",
       "Pedestrian              2871\n",
       "Passenger               2543\n",
       "Vehicle Owner           1636\n",
       "Cyclist                  726\n",
       "Motorcycle Driver        607\n",
       "Truck Driver             316\n",
       "Other Property Owner     257\n",
       "Other                    174\n",
       "Motorcycle Passenger      32\n",
       "Moped Driver              27\n",
       "Driver - Not Hit          17\n",
       "Wheelchair                13\n",
       "In-Line Skater             5\n",
       "Cyclist Passenger          2\n",
       "Trailer Owner              2\n",
       "Pedestrian - Not Hit       1\n",
       "Witness                    1\n",
       "Name: INVTYPE, dtype: int64"
      ]
     },
     "execution_count": 370,
     "metadata": {},
     "output_type": "execute_result"
    }
   ],
   "source": [
    "df_nulls['INVTYPE'].value_counts()"
   ]
  },
  {
   "cell_type": "markdown",
   "id": "86e668c0-ccf1-4ace-b72a-9fce4507a5ff",
   "metadata": {},
   "source": [
    "## SEASONALITY, WEEKLY AND HOURLY FREQUENCY OF ACCIDENTS"
   ]
  },
  {
   "cell_type": "markdown",
   "id": "d16b2897",
   "metadata": {},
   "source": [
    "Let's check which are the months with the highest accident frequency.\n",
    "\n",
    "Overall, is during Summer and Early Fall when the most accidents take place. "
   ]
  },
  {
   "cell_type": "code",
   "execution_count": 371,
   "id": "5d241559-852b-40eb-bf36-783116e88f5b",
   "metadata": {},
   "outputs": [
    {
     "data": {
      "text/plain": [
       "<AxesSubplot:xlabel='MONTH'>"
      ]
     },
     "execution_count": 371,
     "metadata": {},
     "output_type": "execute_result"
    },
    {
     "data": {
      "image/png": "[encoded data removed]",
      "text/plain": [
       "<Figure size 1080x720 with 1 Axes>"
      ]
     },
     "metadata": {
      "needs_background": "light"
     },
     "output_type": "display_data"
    }
   ],
   "source": [
    "ksi_month = df_nulls.groupby('MONTH')['ACCNUM'].nunique()\n",
    "ksi_month.plot(kind = 'bar', figsize=(15, 10))"
   ]
  },
  {
   "cell_type": "markdown",
   "id": "726042bd",
   "metadata": {},
   "source": [
    "Looking at the distribution of accidents per day of the week, Friday is the day with most accidents reported."
   ]
  },
  {
   "cell_type": "code",
   "execution_count": 372,
   "id": "dbf28608-813d-44c7-9951-a913daa5797c",
   "metadata": {},
   "outputs": [
    {
     "data": {
      "text/plain": [
       "(<AxesSubplot:xlabel='DAY OF WEEK'>,\n",
       " DAY OF WEEK\n",
       " 0    819\n",
       " 1    895\n",
       " 2    889\n",
       " 3    875\n",
       " 4    952\n",
       " 5    804\n",
       " 6    768\n",
       " Name: ACCNUM, dtype: int64)"
      ]
     },
     "execution_count": 372,
     "metadata": {},
     "output_type": "execute_result"
    },
    {
     "data": {
      "image/png": "[encoded data removed]",
      "text/plain": [
       "<Figure size 1080x720 with 1 Axes>"
      ]
     },
     "metadata": {
      "needs_background": "light"
     },
     "output_type": "display_data"
    }
   ],
   "source": [
    "ksi_day = df_nulls.groupby('DAY OF WEEK')['ACCNUM'].nunique()\n",
    "ksi_day.plot(kind = 'bar', figsize=(15, 10)), ksi_day"
   ]
  },
  {
   "cell_type": "markdown",
   "id": "00cbcafa",
   "metadata": {},
   "source": [
    "What the following chart and plot tells us is that the evening holds the highest number of accident, especially the cluster of hours between 3PM and 7PM, hours of gigh density of traffic, as people are commuting home."
   ]
  },
  {
   "cell_type": "code",
   "execution_count": 373,
   "id": "58fc0152-6248-45ce-b34a-2d39b005a638",
   "metadata": {},
   "outputs": [
    {
     "data": {
      "text/plain": [
       "(<AxesSubplot:xlabel='HOUR'>,\n",
       " HOUR\n",
       " 0     173\n",
       " 1     144\n",
       " 2     162\n",
       " 3     134\n",
       " 4      61\n",
       " 5     104\n",
       " 6     203\n",
       " 7     210\n",
       " 8     242\n",
       " 9     264\n",
       " 10    259\n",
       " 11    253\n",
       " 12    265\n",
       " 13    282\n",
       " 14    325\n",
       " 15    358\n",
       " 16    340\n",
       " 17    392\n",
       " 18    424\n",
       " 19    345\n",
       " 20    317\n",
       " 21    302\n",
       " 22    244\n",
       " 23    199\n",
       " Name: ACCNUM, dtype: int64)"
      ]
     },
     "execution_count": 373,
     "metadata": {},
     "output_type": "execute_result"
    },
    {
     "data": {
      "image/png": "[encoded data removed]",
      "text/plain": [
       "<Figure size 1080x720 with 1 Axes>"
      ]
     },
     "metadata": {
      "needs_background": "light"
     },
     "output_type": "display_data"
    }
   ],
   "source": [
    "ksi_hour = df_nulls.groupby('HOUR')['ACCNUM'].nunique()\n",
    "(ksi_hour.plot(kind = 'bar', figsize=(15, 10)), ksi_hour)"
   ]
  },
  {
   "cell_type": "markdown",
   "id": "9f54e3af-8033-4537-b4ba-958841156497",
   "metadata": {},
   "source": [
    "# Distribution of Accident Causes"
   ]
  },
  {
   "cell_type": "markdown",
   "id": "336e5c93-3106-4672-ad37-d2bf4bfadef9",
   "metadata": {},
   "source": [
    "The following chart and plot were created to offer an overview of the accidentS, both yearly and by district. Aggresive driving has consistently be the main reason behind many episodes of fatal or near-fatal traffic accidents."
   ]
  },
  {
   "cell_type": "code",
   "execution_count": 374,
   "id": "5e90dcbf-0ff0-4782-9c11-572fe7098126",
   "metadata": {},
   "outputs": [
    {
     "data": {
      "text/html": [
       "<div>\n",
       "<style scoped>\n",
       "    .dataframe tbody tr th:only-of-type {\n",
       "        vertical-align: middle;\n",
       "    }\n",
       "\n",
       "    .dataframe tbody tr th {\n",
       "        vertical-align: top;\n",
       "    }\n",
       "\n",
       "    .dataframe thead th {\n",
       "        text-align: right;\n",
       "    }\n",
       "</style>\n",
       "<table border=\"1\" class=\"dataframe\">\n",
       "  <thead>\n",
       "    <tr style=\"text-align: right;\">\n",
       "      <th></th>\n",
       "      <th>AG_DRIV</th>\n",
       "      <th>ALCOHOL</th>\n",
       "      <th>DISABILITY</th>\n",
       "      <th>REDLIGHT</th>\n",
       "      <th>SPEEDING</th>\n",
       "    </tr>\n",
       "    <tr>\n",
       "      <th>YEAR</th>\n",
       "      <th></th>\n",
       "      <th></th>\n",
       "      <th></th>\n",
       "      <th></th>\n",
       "      <th></th>\n",
       "    </tr>\n",
       "  </thead>\n",
       "  <tbody>\n",
       "    <tr>\n",
       "      <th>2006</th>\n",
       "      <td>715</td>\n",
       "      <td>95</td>\n",
       "      <td>47</td>\n",
       "      <td>136</td>\n",
       "      <td>227</td>\n",
       "    </tr>\n",
       "    <tr>\n",
       "      <th>2007</th>\n",
       "      <td>771</td>\n",
       "      <td>85</td>\n",
       "      <td>31</td>\n",
       "      <td>190</td>\n",
       "      <td>224</td>\n",
       "    </tr>\n",
       "    <tr>\n",
       "      <th>2008</th>\n",
       "      <td>627</td>\n",
       "      <td>77</td>\n",
       "      <td>67</td>\n",
       "      <td>122</td>\n",
       "      <td>168</td>\n",
       "    </tr>\n",
       "    <tr>\n",
       "      <th>2009</th>\n",
       "      <td>581</td>\n",
       "      <td>55</td>\n",
       "      <td>43</td>\n",
       "      <td>97</td>\n",
       "      <td>110</td>\n",
       "    </tr>\n",
       "    <tr>\n",
       "      <th>2010</th>\n",
       "      <td>600</td>\n",
       "      <td>74</td>\n",
       "      <td>31</td>\n",
       "      <td>78</td>\n",
       "      <td>125</td>\n",
       "    </tr>\n",
       "    <tr>\n",
       "      <th>2011</th>\n",
       "      <td>601</td>\n",
       "      <td>44</td>\n",
       "      <td>46</td>\n",
       "      <td>60</td>\n",
       "      <td>153</td>\n",
       "    </tr>\n",
       "    <tr>\n",
       "      <th>2012</th>\n",
       "      <td>708</td>\n",
       "      <td>44</td>\n",
       "      <td>24</td>\n",
       "      <td>113</td>\n",
       "      <td>138</td>\n",
       "    </tr>\n",
       "    <tr>\n",
       "      <th>2013</th>\n",
       "      <td>610</td>\n",
       "      <td>40</td>\n",
       "      <td>24</td>\n",
       "      <td>91</td>\n",
       "      <td>143</td>\n",
       "    </tr>\n",
       "    <tr>\n",
       "      <th>2014</th>\n",
       "      <td>521</td>\n",
       "      <td>33</td>\n",
       "      <td>22</td>\n",
       "      <td>105</td>\n",
       "      <td>103</td>\n",
       "    </tr>\n",
       "    <tr>\n",
       "      <th>2015</th>\n",
       "      <td>468</td>\n",
       "      <td>32</td>\n",
       "      <td>30</td>\n",
       "      <td>68</td>\n",
       "      <td>120</td>\n",
       "    </tr>\n",
       "    <tr>\n",
       "      <th>2016</th>\n",
       "      <td>575</td>\n",
       "      <td>29</td>\n",
       "      <td>14</td>\n",
       "      <td>71</td>\n",
       "      <td>216</td>\n",
       "    </tr>\n",
       "    <tr>\n",
       "      <th>2017</th>\n",
       "      <td>504</td>\n",
       "      <td>34</td>\n",
       "      <td>29</td>\n",
       "      <td>81</td>\n",
       "      <td>149</td>\n",
       "    </tr>\n",
       "    <tr>\n",
       "      <th>2018</th>\n",
       "      <td>555</td>\n",
       "      <td>36</td>\n",
       "      <td>14</td>\n",
       "      <td>77</td>\n",
       "      <td>165</td>\n",
       "    </tr>\n",
       "    <tr>\n",
       "      <th>2019</th>\n",
       "      <td>528</td>\n",
       "      <td>41</td>\n",
       "      <td>29</td>\n",
       "      <td>75</td>\n",
       "      <td>136</td>\n",
       "    </tr>\n",
       "    <tr>\n",
       "      <th>2020</th>\n",
       "      <td>339</td>\n",
       "      <td>20</td>\n",
       "      <td>17</td>\n",
       "      <td>45</td>\n",
       "      <td>108</td>\n",
       "    </tr>\n",
       "  </tbody>\n",
       "</table>\n",
       "</div>"
      ],
      "text/plain": [
       "      AG_DRIV  ALCOHOL  DISABILITY  REDLIGHT  SPEEDING\n",
       "YEAR                                                  \n",
       "2006      715       95          47       136       227\n",
       "2007      771       85          31       190       224\n",
       "2008      627       77          67       122       168\n",
       "2009      581       55          43        97       110\n",
       "2010      600       74          31        78       125\n",
       "2011      601       44          46        60       153\n",
       "2012      708       44          24       113       138\n",
       "2013      610       40          24        91       143\n",
       "2014      521       33          22       105       103\n",
       "2015      468       32          30        68       120\n",
       "2016      575       29          14        71       216\n",
       "2017      504       34          29        81       149\n",
       "2018      555       36          14        77       165\n",
       "2019      528       41          29        75       136\n",
       "2020      339       20          17        45       108"
      ]
     },
     "execution_count": 374,
     "metadata": {},
     "output_type": "execute_result"
    }
   ],
   "source": [
    "causes = pd.pivot_table(index = 'YEAR', data = df_nulls, values = ['ALCOHOL', 'AG_DRIV', 'DISABILITY', 'REDLIGHT', 'SPEEDING'], aggfunc = np.sum)\n",
    "causes"
   ]
  },
  {
   "cell_type": "code",
   "execution_count": 375,
   "id": "0d2c5eff-966a-489c-955c-fcfa8a3d5456",
   "metadata": {},
   "outputs": [
    {
     "data": {
      "text/plain": [
       "<AxesSubplot:xlabel='YEAR'>"
      ]
     },
     "execution_count": 375,
     "metadata": {},
     "output_type": "execute_result"
    },
    {
     "data": {
      "image/png": "[encoded data removed]",
      "text/plain": [
       "<Figure size 1080x720 with 1 Axes>"
      ]
     },
     "metadata": {
      "needs_background": "light"
     },
     "output_type": "display_data"
    }
   ],
   "source": [
    "causes.plot(figsize=(15, 10))"
   ]
  },
  {
   "cell_type": "markdown",
   "id": "2e28284c-d49f-4e8d-b3de-89e7e05fe3ed",
   "metadata": {},
   "source": [
    "Let's see as well how the causes are distributed among the districts."
   ]
  },
  {
   "cell_type": "code",
   "execution_count": 376,
   "id": "292036c6-6f5f-40f6-b8d4-c1e89c587ec1",
   "metadata": {},
   "outputs": [
    {
     "data": {
      "text/plain": [
       "(                       AG_DRIV  ALCOHOL  DISABILITY  REDLIGHT  SPEEDING\n",
       " DISTRICT                                                               \n",
       " Etobicoke York            2123      202         128       357       616\n",
       " North York                1837      109         109       279       432\n",
       " Scarborough               2091      196         102       429       548\n",
       " Toronto and East York     2591      223         127       340       668,\n",
       " <AxesSubplot:xlabel='DISTRICT'>)"
      ]
     },
     "execution_count": 376,
     "metadata": {},
     "output_type": "execute_result"
    },
    {
     "data": {
      "image/png": "[encoded data removed]",
      "text/plain": [
       "<Figure size 1080x720 with 1 Axes>"
      ]
     },
     "metadata": {
      "needs_background": "light"
     },
     "output_type": "display_data"
    }
   ],
   "source": [
    "causes_neighborhood = pd.pivot_table(index = 'DISTRICT', data = df_nulls, values = ['ALCOHOL', 'AG_DRIV', 'DISABILITY', 'REDLIGHT', 'SPEEDING'], aggfunc = np.sum)\n",
    "(causes_neighborhood, causes_neighborhood.plot(figsize=(15, 10), kind = 'bar'))"
   ]
  },
  {
   "cell_type": "markdown",
   "id": "3f093d82-d0f0-4c3f-9582-f01db0af5c06",
   "metadata": {},
   "source": [
    "Aggresive driving is also behind most of the cases that produce major injuries, but is also present in the situations where no injuries are reported. Again, this might have to do with the way they are reported, as a case might leave a party injured and the other not."
   ]
  },
  {
   "cell_type": "code",
   "execution_count": 377,
   "id": "a9c8af8a-f132-444a-8a7b-8f2ae61a1ac7",
   "metadata": {},
   "outputs": [
    {
     "data": {
      "text/plain": [
       "(         AG_DRIV  ALCOHOL  DISABILITY  REDLIGHT  SPEEDING\n",
       " INJURY                                                   \n",
       " Fatal        376       40          18        53       162\n",
       " Major       2844      246         162       392       689\n",
       " Minimal      689       63          47       187       206\n",
       " Minor        824      123          49       217       310\n",
       " None        3157      185         134       431       675,\n",
       " <AxesSubplot:xlabel='INJURY'>)"
      ]
     },
     "execution_count": 377,
     "metadata": {},
     "output_type": "execute_result"
    },
    {
     "data": {
      "image/png": "[encoded data removed]",
      "text/plain": [
       "<Figure size 1080x720 with 1 Axes>"
      ]
     },
     "metadata": {
      "needs_background": "light"
     },
     "output_type": "display_data"
    }
   ],
   "source": [
    "causes_injury = pd.pivot_table(index = 'INJURY', data = df_nulls, values = ['ALCOHOL', 'AG_DRIV', 'DISABILITY', 'REDLIGHT', 'SPEEDING'], aggfunc = np.sum)\n",
    "(causes_injury, causes_injury.plot(figsize=(15, 10), kind = 'bar'))"
   ]
  },
  {
   "cell_type": "markdown",
   "id": "739ba078-43ea-4687-9950-d648e4ff0f00",
   "metadata": {},
   "source": [
    "# Distribution of Severity of Injuries per Party Involved"
   ]
  },
  {
   "cell_type": "markdown",
   "id": "52034e18-8920-444e-8b00-b26bddb57afb",
   "metadata": {},
   "source": [
    "The following chart shows the injuries sustained by the parties involved in accidents. Both pedestrians and drivers attract the highest number"
   ]
  },
  {
   "cell_type": "code",
   "execution_count": 378,
   "id": "e9788ab4-9c06-410a-8b88-aba938d3bbc5",
   "metadata": {},
   "outputs": [
    {
     "data": {
      "text/html": [
       "<div>\n",
       "<style scoped>\n",
       "    .dataframe tbody tr th:only-of-type {\n",
       "        vertical-align: middle;\n",
       "    }\n",
       "\n",
       "    .dataframe tbody tr th {\n",
       "        vertical-align: top;\n",
       "    }\n",
       "\n",
       "    .dataframe thead th {\n",
       "        text-align: right;\n",
       "    }\n",
       "</style>\n",
       "<table border=\"1\" class=\"dataframe\">\n",
       "  <thead>\n",
       "    <tr style=\"text-align: right;\">\n",
       "      <th></th>\n",
       "      <th>AUTOMOBILE</th>\n",
       "      <th>CYCLIST</th>\n",
       "      <th>EMERG_VEH</th>\n",
       "      <th>MOTORCYCLE</th>\n",
       "      <th>PASSENGER</th>\n",
       "      <th>PEDESTRIAN</th>\n",
       "      <th>TRSN_CITY_VEH</th>\n",
       "      <th>TRUCK</th>\n",
       "    </tr>\n",
       "    <tr>\n",
       "      <th>INJURY</th>\n",
       "      <th></th>\n",
       "      <th></th>\n",
       "      <th></th>\n",
       "      <th></th>\n",
       "      <th></th>\n",
       "      <th></th>\n",
       "      <th></th>\n",
       "      <th></th>\n",
       "    </tr>\n",
       "  </thead>\n",
       "  <tbody>\n",
       "    <tr>\n",
       "      <th>Fatal</th>\n",
       "      <td>680</td>\n",
       "      <td>41</td>\n",
       "      <td>0</td>\n",
       "      <td>75</td>\n",
       "      <td>201</td>\n",
       "      <td>466</td>\n",
       "      <td>64</td>\n",
       "      <td>94</td>\n",
       "    </tr>\n",
       "    <tr>\n",
       "      <th>Major</th>\n",
       "      <td>5117</td>\n",
       "      <td>718</td>\n",
       "      <td>8</td>\n",
       "      <td>558</td>\n",
       "      <td>1647</td>\n",
       "      <td>2318</td>\n",
       "      <td>271</td>\n",
       "      <td>245</td>\n",
       "    </tr>\n",
       "    <tr>\n",
       "      <th>Minimal</th>\n",
       "      <td>1002</td>\n",
       "      <td>36</td>\n",
       "      <td>1</td>\n",
       "      <td>54</td>\n",
       "      <td>764</td>\n",
       "      <td>151</td>\n",
       "      <td>58</td>\n",
       "      <td>42</td>\n",
       "    </tr>\n",
       "    <tr>\n",
       "      <th>Minor</th>\n",
       "      <td>1267</td>\n",
       "      <td>18</td>\n",
       "      <td>3</td>\n",
       "      <td>44</td>\n",
       "      <td>1001</td>\n",
       "      <td>198</td>\n",
       "      <td>79</td>\n",
       "      <td>90</td>\n",
       "    </tr>\n",
       "    <tr>\n",
       "      <th>None</th>\n",
       "      <td>5858</td>\n",
       "      <td>815</td>\n",
       "      <td>18</td>\n",
       "      <td>553</td>\n",
       "      <td>2260</td>\n",
       "      <td>3130</td>\n",
       "      <td>364</td>\n",
       "      <td>410</td>\n",
       "    </tr>\n",
       "  </tbody>\n",
       "</table>\n",
       "</div>"
      ],
      "text/plain": [
       "         AUTOMOBILE  CYCLIST  EMERG_VEH  MOTORCYCLE  PASSENGER  PEDESTRIAN  \\\n",
       "INJURY                                                                       \n",
       "Fatal           680       41          0          75        201         466   \n",
       "Major          5117      718          8         558       1647        2318   \n",
       "Minimal        1002       36          1          54        764         151   \n",
       "Minor          1267       18          3          44       1001         198   \n",
       "None           5858      815         18         553       2260        3130   \n",
       "\n",
       "         TRSN_CITY_VEH  TRUCK  \n",
       "INJURY                         \n",
       "Fatal               64     94  \n",
       "Major              271    245  \n",
       "Minimal             58     42  \n",
       "Minor               79     90  \n",
       "None               364    410  "
      ]
     },
     "execution_count": 378,
     "metadata": {},
     "output_type": "execute_result"
    }
   ],
   "source": [
    "injuries = pd.pivot_table(index = 'INJURY', data = df_nulls, values =['AUTOMOBILE','CYCLIST','EMERG_VEH', 'MOTORCYCLE','PASSENGER', 'PEDESTRIAN','TRSN_CITY_VEH','TRUCK'], aggfunc = np.sum)\n",
    "injuries"
   ]
  },
  {
   "cell_type": "code",
   "execution_count": 379,
   "id": "65563673-b80b-4337-899d-2565dd74c5ca",
   "metadata": {},
   "outputs": [
    {
     "data": {
      "text/plain": [
       "<AxesSubplot:xlabel='INJURY'>"
      ]
     },
     "execution_count": 379,
     "metadata": {},
     "output_type": "execute_result"
    },
    {
     "data": {
      "image/png": "[encoded data removed]",
      "text/plain": [
       "<Figure size 1080x720 with 1 Axes>"
      ]
     },
     "metadata": {
      "needs_background": "light"
     },
     "output_type": "display_data"
    }
   ],
   "source": [
    "injuries.plot(figsize=(15, 10), kind = 'bar')"
   ]
  },
  {
   "cell_type": "markdown",
   "id": "364bbc20-a88a-40af-8802-c15be9a9db95",
   "metadata": {},
   "source": [
    "## CORRELATION ANALYSIS OF PARTIES INVOLVED IN ACCIDENTS AND CAUSES"
   ]
  },
  {
   "cell_type": "code",
   "execution_count": 380,
   "id": "41db51b5-0379-4470-80fb-50b5a1eaa385",
   "metadata": {},
   "outputs": [],
   "source": [
    "#ad-hoc dataframes to explore correlation between parties involved and causes of accidents\n",
    "#copies of the df with that selected columns are created to extract information of interest\n",
    "df1 = df_nulls[['AUTOMOBILE','CYCLIST','EMERG_VEH', 'MOTORCYCLE','PASSENGER', 'PEDESTRIAN','TRSN_CITY_VEH']].copy()\n",
    "df2 = df_nulls[['ALCOHOL', 'AG_DRIV', 'DISABILITY', 'REDLIGHT', 'SPEEDING']].copy()"
   ]
  },
  {
   "cell_type": "markdown",
   "id": "28dd7236-5615-4584-988d-a7ba4b92afaf",
   "metadata": {},
   "source": [
    "The parties involved do not seem to present high correlations between each other. The results below are neither highly nor lowly correlated all across the board, so none of these should be inducing multicollinearity."
   ]
  },
  {
   "cell_type": "code",
   "execution_count": 381,
   "id": "04ac5acd-fffb-4bf8-858c-a69c74f38a27",
   "metadata": {},
   "outputs": [
    {
     "data": {
      "text/plain": [
       "<AxesSubplot:>"
      ]
     },
     "execution_count": 381,
     "metadata": {},
     "output_type": "execute_result"
    },
    {
     "data": {
      "image/png": "[encoded data removed]",
      "text/plain": [
       "<Figure size 432x288 with 2 Axes>"
      ]
     },
     "metadata": {
      "needs_background": "light"
     },
     "output_type": "display_data"
    }
   ],
   "source": [
    "sns.heatmap(df1.corr(), annot=True)"
   ]
  },
  {
   "cell_type": "markdown",
   "id": "cbeb7403-dd0b-4fbc-97ed-5224716705e5",
   "metadata": {},
   "source": [
    "The same can be said for the correlation table for accident causes."
   ]
  },
  {
   "cell_type": "code",
   "execution_count": 382,
   "id": "957d2eae",
   "metadata": {},
   "outputs": [
    {
     "data": {
      "text/plain": [
       "<AxesSubplot:>"
      ]
     },
     "execution_count": 382,
     "metadata": {},
     "output_type": "execute_result"
    },
    {
     "data": {
      "image/png": "[encoded data removed]",
      "text/plain": [
       "<Figure size 432x288 with 2 Axes>"
      ]
     },
     "metadata": {
      "needs_background": "light"
     },
     "output_type": "display_data"
    }
   ],
   "source": [
    "#correlation chart of pivot table\n",
    "sns.heatmap(df2.corr(), annot=True)"
   ]
  },
  {
   "cell_type": "markdown",
   "id": "89887c17-7a0b-43ad-bada-f277fa812dda",
   "metadata": {},
   "source": [
    "# Getting More Balanced Classes"
   ]
  },
  {
   "cell_type": "markdown",
   "id": "f7414ad0-1d92-424d-b773-2aa94dbb9f6a",
   "metadata": {},
   "source": [
    "Let's upsample the observations in the 'ACCLASS' dimension, and see whether this forced reinforcement of the label 1 (fatal accidents) renders accurate results in all facets of the testing (precision, accuracy, recall) and the number of samples actually well classified.\n",
    "\n",
    "Initial runs of both logistic regression and random tree classifiers offered middle-of-the-road results, setting ad-hoc class weights. "
   ]
  },
  {
   "cell_type": "markdown",
   "id": "98e38d4d-6062-4d4e-86f4-ea1d34e47307",
   "metadata": {},
   "source": [
    "### Upsamling the relationship between accident class and causes of accidents"
   ]
  },
  {
   "cell_type": "markdown",
   "id": "9c6b0a4c-865c-4f4c-a17f-d95f4493164f",
   "metadata": {},
   "source": [
    "The data set is now effectively balanced and upsampling it proved to work. Let's model a logisitic regression classification test to assess whether this strategy pays off.  "
   ]
  },
  {
   "cell_type": "code",
   "execution_count": 419,
   "id": "f6996bd0-aa6f-41a3-a59b-5545328ca8a5",
   "metadata": {},
   "outputs": [],
   "source": [
    "#separate dimension binary values, selecting all values in original df_nulls DF, but slicing and converting only the 'ACLASS' dimension\n",
    "acclass_maj = df_nulls[df_nulls['ACCLASS']== 1]\n",
    "acclass_min = df_nulls[df_nulls['ACCLASS']== 0]"
   ]
  },
  {
   "cell_type": "code",
   "execution_count": 421,
   "id": "ac602434-b501-4e3a-91c7-d236b5d5d91b",
   "metadata": {},
   "outputs": [],
   "source": [
    "#upsample the minority class\n",
    "acclass_min_upsampled = resample(acclass_min, replace = True, n_samples = 14561, random_state=1302)"
   ]
  },
  {
   "cell_type": "code",
   "execution_count": 422,
   "id": "51221dad-d507-42cc-9d07-7e482136b444",
   "metadata": {},
   "outputs": [],
   "source": [
    "#combine the majority and the evened minority class\n",
    "upsampled = pd.concat([acclass_maj, acclass_min_upsampled])"
   ]
  },
  {
   "cell_type": "code",
   "execution_count": 423,
   "id": "2e3b88f6-75bf-4312-8ed6-14983b000a2d",
   "metadata": {},
   "outputs": [
    {
     "data": {
      "text/plain": [
       "0    14561\n",
       "1    14561\n",
       "Name: ACCLASS, dtype: int64"
      ]
     },
     "execution_count": 423,
     "metadata": {},
     "output_type": "execute_result"
    }
   ],
   "source": [
    "upsampled['ACCLASS'].value_counts()"
   ]
  },
  {
   "cell_type": "markdown",
   "id": "176158d3-22d1-4f4f-9c1f-e7a86377fb4d",
   "metadata": {},
   "source": [
    "Now that there are the same number of observations for both labels, let's run a logisitic regression test using the same variables I picked for the first batch of tests, those being the causes of accidents."
   ]
  },
  {
   "cell_type": "code",
   "execution_count": 424,
   "id": "085b6ed7-b22e-4d63-ba80-8dbae6226974",
   "metadata": {},
   "outputs": [],
   "source": [
    "#picking the input and target variables\n",
    "X = upsampled[['ALCOHOL', 'AG_DRIV', 'DISABILITY', 'REDLIGHT', 'SPEEDING']]\n",
    "y = upsampled['ACCLASS']"
   ]
  },
  {
   "cell_type": "code",
   "execution_count": 425,
   "id": "fff7bdc8-a1c2-42d3-a225-cf6a5cb79a73",
   "metadata": {},
   "outputs": [],
   "source": [
    "#setting up train and test splits\n",
    "X_train, X_test, y_train, y_test = train_test_split(X, y, test_size=0.3, random_state=55, stratify = y)"
   ]
  },
  {
   "cell_type": "code",
   "execution_count": 426,
   "id": "ae1b28da-eaca-446c-b7ea-b2c0ae0a82af",
   "metadata": {},
   "outputs": [
    {
     "data": {
      "text/plain": [
       "LogisticRegression(max_iter=3000, random_state=1327)"
      ]
     },
     "execution_count": 426,
     "metadata": {},
     "output_type": "execute_result"
    }
   ],
   "source": [
    "lr = LogisticRegression(random_state=1327, max_iter=3000)\n",
    "lr.fit(X_train, y_train)"
   ]
  },
  {
   "cell_type": "code",
   "execution_count": 427,
   "id": "aea400e5-6535-41d3-a9b7-37d245702802",
   "metadata": {},
   "outputs": [
    {
     "name": "stdout",
     "output_type": "stream",
     "text": [
      "Accuracy Score: 0.5711342566098203\n",
      "              precision    recall  f1-score   support\n",
      "\n",
      "           0       0.55      0.72      0.63      4368\n",
      "           1       0.60      0.42      0.50      4369\n",
      "\n",
      "    accuracy                           0.57      8737\n",
      "   macro avg       0.58      0.57      0.56      8737\n",
      "weighted avg       0.58      0.57      0.56      8737\n",
      "\n"
     ]
    }
   ],
   "source": [
    "y_pred = lr.predict(X_test)\n",
    "print(\"Accuracy Score:\",accuracy_score(y_test, y_pred))\n",
    "print(classification_report(y_test, y_pred))"
   ]
  },
  {
   "cell_type": "code",
   "execution_count": 428,
   "id": "599f0f62-b77b-4197-8f8a-aa5e92c6b580",
   "metadata": {},
   "outputs": [
    {
     "data": {
      "image/png": "[encoded data removed]",
      "text/plain": [
       "<Figure size 432x288 with 2 Axes>"
      ]
     },
     "metadata": {
      "needs_background": "light"
     },
     "output_type": "display_data"
    }
   ],
   "source": [
    "fig = plot_confusion_matrix(lr, X_test, y_test, display_labels=['Fatal', 'Non-Fatal'], cmap='Reds')\n",
    "plt.title('Confusion Matrix')\n",
    "plt.show()"
   ]
  },
  {
   "cell_type": "markdown",
   "id": "248eb033-8e18-463e-9204-d6f4ec0e46d3",
   "metadata": {},
   "source": [
    "Compared to the test above, in which the weight of the clases were balanced without upsampling them, the accuracy and performace all across the board has improved. Condition for fatality, in fact is better classified now. This approach, while not stellar, still provides meaningul metrics. Let's see \n",
    "how a random forest classifier would do in these circumstances. "
   ]
  },
  {
   "cell_type": "code",
   "execution_count": 431,
   "id": "779be180-8b29-4a89-85bc-478fa9a53dac",
   "metadata": {},
   "outputs": [],
   "source": [
    "#setting up the rfc\n",
    "rfc=RandomForestClassifier(n_estimators=70)\n",
    "#Running the test, and the subsequents with the blanaced condition set up, so that weight of overrepresented condition(non-letahlity) is atenuated\n",
    "#fitting the model\n",
    "rfc.fit(X_train, y_train) \n",
    "y_pred_rfc = rfc.predict(X_test)"
   ]
  },
  {
   "cell_type": "code",
   "execution_count": 432,
   "id": "28c1cf20-5e29-44a2-be29-b164b7c753bb",
   "metadata": {},
   "outputs": [
    {
     "name": "stdout",
     "output_type": "stream",
     "text": [
      "Accuracy Score: 0.5721643584754492\n",
      "              precision    recall  f1-score   support\n",
      "\n",
      "           0       0.56      0.71      0.63      4368\n",
      "           1       0.60      0.43      0.50      4369\n",
      "\n",
      "    accuracy                           0.57      8737\n",
      "   macro avg       0.58      0.57      0.56      8737\n",
      "weighted avg       0.58      0.57      0.56      8737\n",
      "\n"
     ]
    }
   ],
   "source": [
    "print(\"Accuracy Score:\",accuracy_score(y_test, y_pred_rfc))\n",
    "print(classification_report(y_test, y_pred_rfc))"
   ]
  },
  {
   "cell_type": "code",
   "execution_count": 433,
   "id": "3dab3c0c-0902-4964-b86b-b702cfd200b0",
   "metadata": {},
   "outputs": [
    {
     "data": {
      "image/png": "[encoded data removed]",
      "text/plain": [
       "<Figure size 432x288 with 2 Axes>"
      ]
     },
     "metadata": {
      "needs_background": "light"
     },
     "output_type": "display_data"
    }
   ],
   "source": [
    "fig = plot_confusion_matrix(rfc, X_test, y_test, display_labels=['Fatal', 'Non-Fatal'], cmap='Reds')\n",
    "plt.title('Confusion Matrix')\n",
    "plt.show()"
   ]
  },
  {
   "cell_type": "code",
   "execution_count": 434,
   "id": "9f8bf620-a238-4c82-b81a-543f8b57622f",
   "metadata": {},
   "outputs": [
    {
     "data": {
      "text/plain": [
       "<AxesSubplot:title={'center':'Feature Importance'}>"
      ]
     },
     "execution_count": 434,
     "metadata": {},
     "output_type": "execute_result"
    },
    {
     "data": {
      "image/png": "[encoded data removed]",
      "text/plain": [
       "<Figure size 1080x720 with 1 Axes>"
      ]
     },
     "metadata": {
      "needs_background": "light"
     },
     "output_type": "display_data"
    }
   ],
   "source": [
    "#assessing the feature importance with the results that the rfc has produced\n",
    "feature_names = X.columns\n",
    "\n",
    "skplt.estimators.plot_feature_importances(rfc, feature_names=feature_names, figsize=(15, 10), x_tick_rotation=90)"
   ]
  },
  {
   "cell_type": "markdown",
   "id": "f8f1c0ec-770e-4c51-8fde-a738dae3b633",
   "metadata": {},
   "source": [
    "### Upsamling the relationship between accident class and parties involved"
   ]
  },
  {
   "cell_type": "markdown",
   "id": "a14f9c7f-8619-437d-965d-e19438b5e6fa",
   "metadata": {},
   "source": [
    "Let's iterate again a logistic regressio and random classifier models for the relalationship between accidents and the parties involved. "
   ]
  },
  {
   "cell_type": "code",
   "execution_count": 435,
   "id": "e5ed2457-816c-40a8-9304-adfd3a8d74f6",
   "metadata": {},
   "outputs": [],
   "source": [
    "#identifying input and target variables \n",
    "X_actor = upsampled[['AUTOMOBILE','CYCLIST','EMERG_VEH', 'MOTORCYCLE','PASSENGER', 'PEDESTRIAN','TRSN_CITY_VEH']]\n",
    "y1 = upsampled['ACCLASS']\n",
    "#0 are fatal cases, whereas 1 are non-fatal\n",
    "X_actor_train, X_actor_test, y1_train, y1_test = train_test_split(X_actor, y1, test_size=0.3, random_state=99, stratify = y)"
   ]
  },
  {
   "cell_type": "code",
   "execution_count": 436,
   "id": "9c5435ae-5bed-4b7c-bf5a-a3ce1e4134d6",
   "metadata": {},
   "outputs": [
    {
     "name": "stdout",
     "output_type": "stream",
     "text": [
      "Accuracy Score: 0.5864713288314066\n"
     ]
    }
   ],
   "source": [
    "lr = LogisticRegression(random_state=1457, max_iter=2000)\n",
    "lr.fit(X_actor_train, np.ravel(y1_train))\n",
    "y1_pred = lr.predict(X_actor_test)\n",
    "print(\"Accuracy Score:\",accuracy_score(y1_test, y1_pred))"
   ]
  },
  {
   "cell_type": "code",
   "execution_count": 437,
   "id": "fd80b1e2-44cd-4661-8601-bd48fb5d4e16",
   "metadata": {},
   "outputs": [
    {
     "name": "stdout",
     "output_type": "stream",
     "text": [
      "              precision    recall  f1-score   support\n",
      "\n",
      "           0       0.59      0.58      0.59      4368\n",
      "           1       0.59      0.59      0.59      4369\n",
      "\n",
      "    accuracy                           0.59      8737\n",
      "   macro avg       0.59      0.59      0.59      8737\n",
      "weighted avg       0.59      0.59      0.59      8737\n",
      "\n"
     ]
    }
   ],
   "source": [
    "print(classification_report(y1_test, y1_pred))"
   ]
  },
  {
   "cell_type": "code",
   "execution_count": 438,
   "id": "d50e35db-c41e-431f-a6f7-b0f84e065c3b",
   "metadata": {},
   "outputs": [
    {
     "data": {
      "image/png": "[encoded data removed]",
      "text/plain": [
       "<Figure size 432x288 with 2 Axes>"
      ]
     },
     "metadata": {
      "needs_background": "light"
     },
     "output_type": "display_data"
    }
   ],
   "source": [
    "fig = plot_confusion_matrix(lr, X_actor_test, y1_test, display_labels=['Fatal', 'Non-Fatal'], cmap='Reds')\n",
    "plt.title('Confusion Matrix')\n",
    "plt.show()"
   ]
  },
  {
   "cell_type": "markdown",
   "id": "d56a0521-fa92-407d-a9c7-a1a6121a2098",
   "metadata": {},
   "source": [
    "For this set of variables, the discrmination job seems to be better in relation to the accident type. Let's compare it to a random forest classifier."
   ]
  },
  {
   "cell_type": "code",
   "execution_count": 439,
   "id": "32fa38e7-7f00-4eb6-ab44-1c01d4ffd304",
   "metadata": {},
   "outputs": [
    {
     "name": "stdout",
     "output_type": "stream",
     "text": [
      "Accuracy Score: 0.5951699668078287\n"
     ]
    }
   ],
   "source": [
    "rfc1=RandomForestClassifier(n_estimators=1000)\n",
    "#fitting the model\n",
    "rfc1.fit(X_actor_train, y1_train)\n",
    "\n",
    "y1_pred_rfc = rfc1.predict(X_actor_test)\n",
    "print(\"Accuracy Score:\",accuracy_score(y1_test, y1_pred_rfc))"
   ]
  },
  {
   "cell_type": "code",
   "execution_count": 447,
   "id": "7ee2c3dc-aeb1-4e02-ad9d-0e671d8ec611",
   "metadata": {},
   "outputs": [
    {
     "name": "stdout",
     "output_type": "stream",
     "text": [
      "              precision    recall  f1-score   support\n",
      "\n",
      "           0       0.59      0.60      0.60      4368\n",
      "           1       0.60      0.59      0.59      4369\n",
      "\n",
      "    accuracy                           0.60      8737\n",
      "   macro avg       0.60      0.60      0.60      8737\n",
      "weighted avg       0.60      0.60      0.60      8737\n",
      "\n"
     ]
    }
   ],
   "source": [
    "print(classification_report(y1_test, y1_pred_rfc))"
   ]
  },
  {
   "cell_type": "code",
   "execution_count": 401,
   "id": "d5907221-5285-414a-9f8f-dda15ee98b2a",
   "metadata": {},
   "outputs": [
    {
     "data": {
      "image/png": "[encoded data removed]",
      "text/plain": [
       "<Figure size 432x288 with 2 Axes>"
      ]
     },
     "metadata": {
      "needs_background": "light"
     },
     "output_type": "display_data"
    }
   ],
   "source": [
    "fig = plot_confusion_matrix(rfc1, X_actor_test, y1_test, display_labels=['Fatal', 'Non-Fatal'], cmap='Reds')\n",
    "plt.title('Confusion Matrix')\n",
    "plt.show()"
   ]
  },
  {
   "cell_type": "code",
   "execution_count": 402,
   "id": "c1383ec0-7898-462e-89f2-c2b84a70655f",
   "metadata": {},
   "outputs": [
    {
     "data": {
      "text/plain": [
       "<AxesSubplot:title={'center':'Feature Importance'}>"
      ]
     },
     "execution_count": 402,
     "metadata": {},
     "output_type": "execute_result"
    },
    {
     "data": {
      "image/png": "[encoded data removed]",
      "text/plain": [
       "<Figure size 1080x720 with 1 Axes>"
      ]
     },
     "metadata": {
      "needs_background": "light"
     },
     "output_type": "display_data"
    }
   ],
   "source": [
    "#assessing the feature importance with the results that the rfc has produced\n",
    "feature_names = X_actor.columns\n",
    "\n",
    "skplt.estimators.plot_feature_importances(rfc1, feature_names=feature_names, figsize=(15, 10), x_tick_rotation=90)"
   ]
  },
  {
   "cell_type": "markdown",
   "id": "9eec919a-f05b-4a31-9061-b54534bd109b",
   "metadata": {},
   "source": [
    "The random forest classifier is slighlty better overall than the logisict regression model for this particular model. \n"
   ]
  },
  {
   "cell_type": "markdown",
   "id": "deffce7e-e522-42c3-8d06-9f2956c57d57",
   "metadata": {},
   "source": [
    "### Upsamling the relationship between accident class and road, light and visibility conditions"
   ]
  },
  {
   "cell_type": "code",
   "execution_count": 449,
   "id": "5c3eecb7-8f92-4a60-a482-f50b3f621ee1",
   "metadata": {},
   "outputs": [],
   "source": [
    "meteo = upsampled[['RDSFCOND','VISIBILITY','LIGHT']]\n",
    "y = upsampled['ACCLASS']\n",
    "meteo_train, meteo_test, y_train, y_test = train_test_split(meteo,y, test_size=0.3, random_state=99, stratify = y)"
   ]
  },
  {
   "cell_type": "code",
   "execution_count": 450,
   "id": "493fffd3-014d-4a3c-96c1-bbd008e2ff87",
   "metadata": {},
   "outputs": [
    {
     "name": "stdout",
     "output_type": "stream",
     "text": [
      "Accuracy Score: 0.4999427721185762\n"
     ]
    }
   ],
   "source": [
    "lr = LogisticRegression(random_state=1856, max_iter=2000)\n",
    "lr.fit(meteo_train, y_train)\n",
    "y_pred = lr.predict(meteo_test)\n",
    "print(\"Accuracy Score:\",accuracy_score(y_test, y_pred))"
   ]
  },
  {
   "cell_type": "code",
   "execution_count": 451,
   "id": "26923bce-20ab-4e32-828d-7ca718989842",
   "metadata": {},
   "outputs": [
    {
     "name": "stdout",
     "output_type": "stream",
     "text": [
      "              precision    recall  f1-score   support\n",
      "\n",
      "           0       0.50      1.00      0.67      4368\n",
      "           1       0.00      0.00      0.00      4369\n",
      "\n",
      "    accuracy                           0.50      8737\n",
      "   macro avg       0.25      0.50      0.33      8737\n",
      "weighted avg       0.25      0.50      0.33      8737\n",
      "\n"
     ]
    },
    {
     "name": "stderr",
     "output_type": "stream",
     "text": [
      "C:\\Users\\migue\\anaconda3\\lib\\site-packages\\sklearn\\metrics\\_classification.py:1221: UndefinedMetricWarning: Precision and F-score are ill-defined and being set to 0.0 in labels with no predicted samples. Use `zero_division` parameter to control this behavior.\n",
      "  _warn_prf(average, modifier, msg_start, len(result))\n"
     ]
    }
   ],
   "source": [
    "print(classification_report(y_test, y_pred))"
   ]
  },
  {
   "cell_type": "code",
   "execution_count": null,
   "id": "ba61c930-f244-44f1-8f67-27d4a6c4d9bb",
   "metadata": {},
   "outputs": [],
   "source": []
  }
 ],
 "metadata": {
  "kernelspec": {
   "display_name": "Python 3",
   "language": "python",
   "name": "python3"
  },
  "language_info": {
   "codemirror_mode": {
    "name": "ipython",
    "version": 3
   },
   "file_extension": ".py",
   "mimetype": "text/x-python",
   "name": "python",
   "nbconvert_exporter": "python",
   "pygments_lexer": "ipython3",
   "version": "3.8.8"
  },
  "toc-autonumbering": true,
  "toc-showmarkdowntxt": false,
  "toc-showtags": false,
  "varInspector": {
   "cols": {
    "lenName": 16,
    "lenType": 16,
    "lenVar": 40
   },
   "kernels_config": {
    "python": {
     "delete_cmd_postfix": "",
     "delete_cmd_prefix": "del ",
     "library": "var_list.py",
     "varRefreshCmd": "print(var_dic_list())"
    },
    "r": {
     "delete_cmd_postfix": ") ",
     "delete_cmd_prefix": "rm(",
     "library": "var_list.r",
     "varRefreshCmd": "cat(var_dic_list()) "
    }
   },
   "types_to_exclude": [
    "module",
    "function",
    "builtin_function_or_method",
    "instance",
    "_Feature"
   ],
   "window_display": false
  }
 },
 "nbformat": 4,
 "nbformat_minor": 5
}
