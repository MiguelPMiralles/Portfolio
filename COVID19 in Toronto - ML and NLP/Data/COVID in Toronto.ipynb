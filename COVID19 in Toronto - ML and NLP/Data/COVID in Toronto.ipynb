{
 "cells": [
  {
   "cell_type": "markdown",
   "id": "dfd13de7-4bd9-4cda-b157-27e56b31e683",
   "metadata": {},
   "source": [
    "# Evolution of COVID in the City of Toronto: Applying ML and NLP models to Classify Infection Classification and Outcome"
   ]
  },
  {
   "cell_type": "markdown",
   "id": "acca2660-2422-4b90-b8a6-ecc95a7b1e75",
   "metadata": {},
   "source": [
    "## Background and Goals"
   ]
  },
  {
   "cell_type": "markdown",
   "id": "5952d631-deb6-48a1-bed4-2497706f485c",
   "metadata": {},
   "source": [
    "COVID has struck the whole world and more than two years since the onset of the pandemic, its effects are still felt, irrespective of community or region. Canada has been no exception. However, efforts have been put by governments and civil socieity to contain the spread of the virus. Mass vaccination and booster roll-outs have decreased the lethality of the virus. \n",
    "\n",
    "In this project, I am going to use the data put forth by the [City of Toronto](https://open.toronto.ca/dataset/covid-19-cases-in-toronto/) on COVID cases to produce two types of classifications tasks. In the first one, I will try to use relevant features to discern between the possible outcomes (fatal, resolved, or active) as well as the whether the cases are outbreak-related or not.\n",
    "\n",
    "For the second classification task, I will use information regarding source of infection, neighborhood names nad FSA [Forward Sortation Area](https://www.ic.gc.ca/eic/site/bsf-osb.nsf/eng/br03396.html) to classify whether a case is classified as probable or confirmed. Given the textual, string-based nature of the two aforementioned dimensions, I will use a Multinomial Naive-Bayes text categorizer. This might help in mapping out what areas and postal codes have experienced what type of infection episodes.\n",
    "\n",
    "With that in mind, let's get a look at how the Toronto Public Health services defines the dimensiones of the data set."
   ]
  },
  {
   "cell_type": "markdown",
   "id": "10869b70-b31c-4fe0-b5b1-a17cb3b0ebff",
   "metadata": {
    "heading_collapsed": true
   },
   "source": [
    "#### Column Description\n",
    "* **_id**\n",
    "\n",
    "Unique row identifier for Open Data database.\n",
    "\n",
    "* **Assigned_ID**\n",
    "\n",
    "A unique ID assigned to cases by Toronto Public Health for the purposes of posting to Open Data, to allow for tracking of specific cases. Please note, cases may be reclassified or removed from posted datasets over time. This can occur due to duplicate resolution, or other ongoing data cleaning initiatives. In such instances, the Assigned ID of that case will no longer appear on the list and will not get assigned to another case.\n",
    "\n",
    "* **Outbreak Associated**\n",
    "\n",
    "Outbreak associated cases are associated with outbreaks of COVID-19 in Toronto healthcare institutions and healthcare settings (e.g. long-term care homes, retirement homes, hospitals, etc.) and other Toronto congregate settings (such as homeless shelters).\n",
    "\n",
    "* **Age Group**\n",
    "\n",
    "Age at time of illness. Age groups (in years): ≤19, 20-29, 30-39, 40-49, 50-59, 60-69, 70-79, 80-89, 90+, unknown (blank)\n",
    "\n",
    "* **Neighbourhood Name**\n",
    "\n",
    "Toronto is divided into 140 geographically distinct neighborhoods that were established to help government and community agencies with local planning by providing socio-economic data for a meaningful geographic area. Please note that client postal code information is mapped to the most up-to-date census tract (CT) and neighbourhood information available from the city. As a result, neighbourhood information is not available for those with missing postal code or when postal code could not be mapped/linked to a CT.\n",
    "\n",
    "* **FSA**\n",
    "\n",
    "Forward sortation area (i.e. first three characters of postal code) based on the case's primary home address. FSA values are generated from client postal codes. One FSA can span multiple neighbourhoods.\n",
    "\n",
    "* **Source of Infection**\n",
    "\n",
    "The most likely way that cases acquired their COVID-19 infection is determined by examining several data fields including:\n",
    "\n",
    "A public health investigator's assessment of the most likely source of infection.Being associated with a confirmed COVID-19 outbreak\n",
    "Reported risk factors such as contact with a known case or travelIf the public health investigator's assessment is absent, then the other data fields are used to infer source of acquisition using the following hierarchy:\n",
    "\n",
    "Cases with episode dates before April 1 2020:\n",
    "\n",
    "-Travel > Outbreak (settings described below) > Household Contact > Close Contact > Community > No information\n",
    "Cases with episode dates on or after April 1 2020:\n",
    "\n",
    "-Outbreak (settings described below) > Household Contact > Close Contact > Travel > Community > No information.\n",
    "Descriptions:\n",
    "\n",
    "-Household contact: Case who acquired infection from a household contact with a confirmed or probable COVID-19 case (e.g. family member, roommate).\n",
    "Close contact with a case: Case who acquired infection from a close contact with a confirmed or probable COVID-19 case (e.g. co-worker).\n",
    "-Outbreaks: Cases linked to known confirmed COVID-19 outbreaks. These could include the index case who may have acquired the infection elsewhere. Outbreaks settings include:\n",
    "    Outbreaks, Congregate Settings: confirmed outbreaks in Toronto in shelters, correctional facilities, group homes, or other congregate settings such as hostels or rooming houses.\n",
    "Outbreaks, Healthcare Institutions: confirmed outbreaks in Toronto in long-term care homes, retirement homes, hospitals, chronic care hospitals, or other institutional settings.\n",
    "    Outbreaks, Other Settings: confirmed outbreaks in Toronto in workplaces, schools, day cares, or outbreaks outside of Toronto. We do not validate outbreaks that occur in other health units, as such these cases may not be linked to confirmed outbreaks.\n",
    "-Travel: Case that travelled outside of Ontario in the 14 days prior to their symptom onset or test date, whichever is the earliest.\n",
    "-Community: Cases who did not travel outside of Ontario, did not identify being a close contact with a COVID-19 case, and were not part of a known confirmed COVID-19 outbreak.\n",
    "-No information: Cases with no information on the source of infection\n",
    "\n",
    "* **Classification**\n",
    "\n",
    "The application of the provincial case definition to categorize the cases as confirmed or probable, according to standard criteria. Please refer to the Ontario Ministry of Health website for Ontario's current provincial case definitions.\n",
    "\n",
    "* **Episode Date**\n",
    "\n",
    "The episode date is a derived variable that best estimates when the disease was acquired, and refers to the earliest available date from: symptom onset (the first day that COVID-19 symptoms occurred), laboratory specimen collection date, or reported date.\n",
    "\n",
    "* **Reported Date**\n",
    "\n",
    "The date on which the case was reported to Toronto Public Health.\n",
    "\n",
    "* **Client Gender**\n",
    "\n",
    "Self-reported gender. Gender is a system that operates in a social context and generally classifies people based on their assigned biological sex.\n",
    "\n",
    "* **Outcome**\n",
    "\n",
    "-Fatal: Any case that has died and has been marked as Outcome equals 'Fatal' and Type of Death does not equal 'Disease of Public Health Significance was unrelated to cause of death' in the provincial reporting system (CCM).\n",
    "\n",
    "-Resolved: Cases who have:\n",
    "\n",
    "A case outcome description in CCM of 'Recovered' OR\n",
    "Case outcome description is equal to 'Fatal' AND Type of Death is equal to 'Disease of Public Health Significance was unrelated to cause of death' OR\n",
    "Today's date is more than 14 days from episode date AND the case is not currently hospitalized/intubated/in ICU AND Case outcome description is not equal to 'Fatal' where Type of Death is not equal to 'Disease of Public Health Significance was unrelated to cause of death'.\n",
    "\n",
    "-Active: All other cases\n",
    "\n",
    "* **Currently Hospitalized**\n",
    "\n",
    "Cases that are currently admitted to hospital (i.e., no discharge date reported).\n",
    "\n",
    "* **Currently in ICU**\n",
    "\n",
    "Cases that are currently admitted to the intensive care unit (ICU) (i.e. no discharge date reported).\n",
    "\n",
    "* **Currently Intubated**\n",
    "\n",
    "Cases that were intubated related to their COVID-19 infection (includes cases that are currently intubated and those that have been discharged or deceased).\n",
    "\n",
    "**Ever Hospitalized**\n",
    "\n",
    "Cases that were hospitalized related to their COVID-19 infection (includes cases that are currently hospitalized and those that have been discharged or are deceased).\n",
    "\n",
    "**Ever in ICU**\n",
    "\n",
    "Cases that were admitted to the intensive care unit (ICU) related to their COVID-19 infection (includes cases that are currently in ICU and those that have been discharged or are deceased).\n",
    "\n",
    "**Ever Intubated**\n",
    "\n",
    "Cases that were intubated related to their COVID-19 infection (includes cases that are currently intubated and those that have been discharged or deceased)"
   ]
  },
  {
   "cell_type": "markdown",
   "id": "b19dd3f4-453a-4bd2-b1cc-702a338d3a8d",
   "metadata": {},
   "source": [
    "## Data Preprocessing"
   ]
  },
  {
   "cell_type": "markdown",
   "id": "b7f97c81-738e-4482-9fbc-b88715408a4a",
   "metadata": {},
   "source": [
    "Given the goals set for this project, the data available will be processed in different ways."
   ]
  },
  {
   "cell_type": "code",
<<<<<<< HEAD
   "execution_count": 529,
=======
   "execution_count": 75,
>>>>>>> c7ff238d8eeabadd9249d4f9a228d7c55fa407eb
   "id": "481dc6af-c5e8-4a82-8170-052986b046b1",
   "metadata": {},
   "outputs": [],
   "source": [
    "import pandas as pd\n",
    "import numpy as np\n",
    "import datetime as date\n",
    "import matplotlib.pyplot as plt\n",
    "\n",
    "\n",
    "from sklearn.model_selection import train_test_split\n",
    "from sklearn import preprocessing\n",
    "import category_encoders as ce\n",
    "from sklearn import metrics as mt\n",
    "from sklearn.metrics import confusion_matrix\n",
    "from sklearn.metrics import plot_confusion_matrix\n",
    "from sklearn.metrics import classification_report\n",
    "from sklearn.metrics import precision_score, recall_score, accuracy_score, f1_score\n",
    "from sklearn.model_selection import cross_val_score\n",
    "from sklearn.model_selection import cross_validate\n",
    "from sklearn.metrics import precision_recall_curve, plot_precision_recall_curve, average_precision_score, auc\n",
    "from sklearn.metrics import roc_auc_score\n",
    "from sklearn.metrics import plot_roc_curve\n",
    "from sklearn.utils import resample\n",
    "from sklearn.ensemble import RandomForestClassifier\n",
    "from sklearn.linear_model import LogisticRegression\n",
    "from sklearn.naive_bayes import MultinomialNB\n",
    "from sklearn.naive_bayes import ComplementNB\n",
    "from sklearn.feature_extraction import text\n",
    "from imblearn.under_sampling import RandomUnderSampler, TomekLinks, InstanceHardnessThreshold"
   ]
  },
  {
   "cell_type": "code",
<<<<<<< HEAD
   "execution_count": 530,
=======
   "execution_count": 76,
>>>>>>> c7ff238d8eeabadd9249d4f9a228d7c55fa407eb
   "id": "b840f861-bb3a-42d0-afd9-2621e2510cbc",
   "metadata": {},
   "outputs": [
    {
     "data": {
      "text/html": [
       "<div>\n",
       "<style scoped>\n",
       "    .dataframe tbody tr th:only-of-type {\n",
       "        vertical-align: middle;\n",
       "    }\n",
       "\n",
       "    .dataframe tbody tr th {\n",
       "        vertical-align: top;\n",
       "    }\n",
       "\n",
       "    .dataframe thead th {\n",
       "        text-align: right;\n",
       "    }\n",
       "</style>\n",
       "<table border=\"1\" class=\"dataframe\">\n",
       "  <thead>\n",
       "    <tr style=\"text-align: right;\">\n",
       "      <th></th>\n",
       "      <th>_id</th>\n",
       "      <th>Outbreak Associated</th>\n",
       "      <th>Age Group</th>\n",
       "      <th>Neighbourhood Name</th>\n",
       "      <th>FSA</th>\n",
       "      <th>Source of Infection</th>\n",
       "      <th>Classification</th>\n",
       "      <th>Episode Date</th>\n",
       "      <th>Reported Date</th>\n",
       "      <th>Client Gender</th>\n",
       "      <th>Outcome</th>\n",
       "      <th>Currently Hospitalized</th>\n",
       "      <th>Currently in ICU</th>\n",
       "      <th>Currently Intubated</th>\n",
       "      <th>Ever Hospitalized</th>\n",
       "      <th>Ever in ICU</th>\n",
       "      <th>Ever Intubated</th>\n",
       "    </tr>\n",
       "    <tr>\n",
       "      <th>Assigned_ID</th>\n",
       "      <th></th>\n",
       "      <th></th>\n",
       "      <th></th>\n",
       "      <th></th>\n",
       "      <th></th>\n",
       "      <th></th>\n",
       "      <th></th>\n",
       "      <th></th>\n",
       "      <th></th>\n",
       "      <th></th>\n",
       "      <th></th>\n",
       "      <th></th>\n",
       "      <th></th>\n",
       "      <th></th>\n",
       "      <th></th>\n",
       "      <th></th>\n",
       "      <th></th>\n",
       "    </tr>\n",
       "  </thead>\n",
       "  <tbody>\n",
       "    <tr>\n",
       "      <th>1</th>\n",
       "      <td>1</td>\n",
       "      <td>Sporadic</td>\n",
       "      <td>50 to 59 Years</td>\n",
       "      <td>Willowdale East</td>\n",
       "      <td>M2N</td>\n",
       "      <td>Travel</td>\n",
       "      <td>CONFIRMED</td>\n",
       "      <td>2020-01-22</td>\n",
       "      <td>2020-01-23</td>\n",
       "      <td>FEMALE</td>\n",
       "      <td>RESOLVED</td>\n",
       "      <td>No</td>\n",
       "      <td>No</td>\n",
       "      <td>No</td>\n",
       "      <td>No</td>\n",
       "      <td>No</td>\n",
       "      <td>No</td>\n",
       "    </tr>\n",
       "    <tr>\n",
       "      <th>2</th>\n",
       "      <td>2</td>\n",
       "      <td>Sporadic</td>\n",
       "      <td>50 to 59 Years</td>\n",
       "      <td>Willowdale East</td>\n",
       "      <td>M2N</td>\n",
       "      <td>Travel</td>\n",
       "      <td>CONFIRMED</td>\n",
       "      <td>2020-01-21</td>\n",
       "      <td>2020-01-23</td>\n",
       "      <td>MALE</td>\n",
       "      <td>RESOLVED</td>\n",
       "      <td>No</td>\n",
       "      <td>No</td>\n",
       "      <td>No</td>\n",
       "      <td>Yes</td>\n",
       "      <td>No</td>\n",
       "      <td>No</td>\n",
       "    </tr>\n",
       "    <tr>\n",
       "      <th>3</th>\n",
       "      <td>3</td>\n",
       "      <td>Sporadic</td>\n",
       "      <td>20 to 29 Years</td>\n",
       "      <td>Parkwoods-Donalda</td>\n",
       "      <td>M3A</td>\n",
       "      <td>Travel</td>\n",
       "      <td>CONFIRMED</td>\n",
       "      <td>2020-02-05</td>\n",
       "      <td>2020-02-21</td>\n",
       "      <td>FEMALE</td>\n",
       "      <td>RESOLVED</td>\n",
       "      <td>No</td>\n",
       "      <td>No</td>\n",
       "      <td>No</td>\n",
       "      <td>No</td>\n",
       "      <td>No</td>\n",
       "      <td>No</td>\n",
       "    </tr>\n",
       "    <tr>\n",
       "      <th>4</th>\n",
       "      <td>4</td>\n",
       "      <td>Sporadic</td>\n",
       "      <td>60 to 69 Years</td>\n",
       "      <td>Church-Yonge Corridor</td>\n",
       "      <td>M4W</td>\n",
       "      <td>Travel</td>\n",
       "      <td>CONFIRMED</td>\n",
       "      <td>2020-02-16</td>\n",
       "      <td>2020-02-25</td>\n",
       "      <td>FEMALE</td>\n",
       "      <td>RESOLVED</td>\n",
       "      <td>No</td>\n",
       "      <td>No</td>\n",
       "      <td>No</td>\n",
       "      <td>No</td>\n",
       "      <td>No</td>\n",
       "      <td>No</td>\n",
       "    </tr>\n",
       "    <tr>\n",
       "      <th>5</th>\n",
       "      <td>5</td>\n",
       "      <td>Sporadic</td>\n",
       "      <td>60 to 69 Years</td>\n",
       "      <td>Church-Yonge Corridor</td>\n",
       "      <td>M4W</td>\n",
       "      <td>Travel</td>\n",
       "      <td>CONFIRMED</td>\n",
       "      <td>2020-02-20</td>\n",
       "      <td>2020-02-26</td>\n",
       "      <td>MALE</td>\n",
       "      <td>RESOLVED</td>\n",
       "      <td>No</td>\n",
       "      <td>No</td>\n",
       "      <td>No</td>\n",
       "      <td>No</td>\n",
       "      <td>No</td>\n",
       "      <td>No</td>\n",
       "    </tr>\n",
       "  </tbody>\n",
       "</table>\n",
       "</div>"
      ],
      "text/plain": [
       "             _id Outbreak Associated       Age Group     Neighbourhood Name  \\\n",
       "Assigned_ID                                                                   \n",
       "1              1            Sporadic  50 to 59 Years        Willowdale East   \n",
       "2              2            Sporadic  50 to 59 Years        Willowdale East   \n",
       "3              3            Sporadic  20 to 29 Years      Parkwoods-Donalda   \n",
       "4              4            Sporadic  60 to 69 Years  Church-Yonge Corridor   \n",
       "5              5            Sporadic  60 to 69 Years  Church-Yonge Corridor   \n",
       "\n",
       "             FSA Source of Infection Classification Episode Date  \\\n",
       "Assigned_ID                                                        \n",
       "1            M2N              Travel      CONFIRMED   2020-01-22   \n",
       "2            M2N              Travel      CONFIRMED   2020-01-21   \n",
       "3            M3A              Travel      CONFIRMED   2020-02-05   \n",
       "4            M4W              Travel      CONFIRMED   2020-02-16   \n",
       "5            M4W              Travel      CONFIRMED   2020-02-20   \n",
       "\n",
       "            Reported Date Client Gender   Outcome Currently Hospitalized  \\\n",
       "Assigned_ID                                                                \n",
       "1              2020-01-23        FEMALE  RESOLVED                     No   \n",
       "2              2020-01-23          MALE  RESOLVED                     No   \n",
       "3              2020-02-21        FEMALE  RESOLVED                     No   \n",
       "4              2020-02-25        FEMALE  RESOLVED                     No   \n",
       "5              2020-02-26          MALE  RESOLVED                     No   \n",
       "\n",
       "            Currently in ICU Currently Intubated Ever Hospitalized  \\\n",
       "Assigned_ID                                                          \n",
       "1                         No                  No                No   \n",
       "2                         No                  No               Yes   \n",
       "3                         No                  No                No   \n",
       "4                         No                  No                No   \n",
       "5                         No                  No                No   \n",
       "\n",
       "            Ever in ICU Ever Intubated  \n",
       "Assigned_ID                             \n",
       "1                    No             No  \n",
       "2                    No             No  \n",
       "3                    No             No  \n",
       "4                    No             No  \n",
       "5                    No             No  "
      ]
     },
<<<<<<< HEAD
     "execution_count": 530,
=======
     "execution_count": 76,
>>>>>>> c7ff238d8eeabadd9249d4f9a228d7c55fa407eb
     "metadata": {},
     "output_type": "execute_result"
    }
   ],
   "source": [
    "# load data and store copies for ML and NLP, indexing by Episode Date\n",
    "df = pd.read_csv(r\"C:\\Users\\migue\\OneDrive\\Desktop\\Bootcamp Projects\\COVID19 in Toronto - ML and NLP\\COVID19 cases.csv\",\n",
    "                 index_col='Assigned_ID', infer_datetime_format= True)\n",
    "\n",
    "# copy for NLP\n",
    "df_nlp = df.copy()\n",
    "df.head()"
   ]
  },
  {
   "cell_type": "markdown",
   "id": "5e816b70-9052-4532-9b54-889b4c510b78",
   "metadata": {},
   "source": [
    "Before moving along, I want to get an idea of the generalities of the data set to assess what transformations should be advisable to make. "
   ]
  },
  {
   "cell_type": "code",
<<<<<<< HEAD
   "execution_count": 531,
=======
   "execution_count": 77,
>>>>>>> c7ff238d8eeabadd9249d4f9a228d7c55fa407eb
   "id": "2751480f-1933-4bb2-ac91-e29fe97b8364",
   "metadata": {},
   "outputs": [
    {
     "name": "stdout",
     "output_type": "stream",
     "text": [
      "<class 'pandas.core.frame.DataFrame'>\n",
      "Int64Index: 298912 entries, 1 to 306869\n",
      "Data columns (total 17 columns):\n",
      " #   Column                  Non-Null Count   Dtype \n",
      "---  ------                  --------------   ----- \n",
      " 0   _id                     298912 non-null  int64 \n",
      " 1   Outbreak Associated     298912 non-null  object\n",
      " 2   Age Group               298638 non-null  object\n",
      " 3   Neighbourhood Name      291244 non-null  object\n",
      " 4   FSA                     294839 non-null  object\n",
      " 5   Source of Infection     298912 non-null  object\n",
      " 6   Classification          298912 non-null  object\n",
      " 7   Episode Date            298912 non-null  object\n",
      " 8   Reported Date           298912 non-null  object\n",
      " 9   Client Gender           298912 non-null  object\n",
      " 10  Outcome                 298912 non-null  object\n",
      " 11  Currently Hospitalized  298912 non-null  object\n",
      " 12  Currently in ICU        298912 non-null  object\n",
      " 13  Currently Intubated     298912 non-null  object\n",
      " 14  Ever Hospitalized       298912 non-null  object\n",
      " 15  Ever in ICU             298912 non-null  object\n",
      " 16  Ever Intubated          298912 non-null  object\n",
      "dtypes: int64(1), object(16)\n",
      "memory usage: 41.0+ MB\n"
     ]
    }
   ],
   "source": [
    "df.info()"
   ]
  },
  {
   "cell_type": "markdown",
   "id": "cbed5a63-2ded-49da-b05f-5fec11c73fcb",
   "metadata": {},
   "source": [
    "It is a good thing not to have to deal with null values, and from what can be seen, theres time data that is not taken as such. Also, most of the categorical data is not taken as such either.  "
   ]
  },
  {
   "cell_type": "code",
<<<<<<< HEAD
   "execution_count": 532,
=======
   "execution_count": 78,
>>>>>>> c7ff238d8eeabadd9249d4f9a228d7c55fa407eb
   "id": "c091f13e-5837-4504-a76d-43bc44b7f346",
   "metadata": {},
   "outputs": [],
   "source": [
    "# loop through object-based types to convert them into categorical types\n",
    "for col in df.select_dtypes(['object']):\n",
    "    df[col] = df[col].astype('category')"
   ]
  },
  {
   "cell_type": "code",
<<<<<<< HEAD
   "execution_count": 533,
=======
   "execution_count": 79,
>>>>>>> c7ff238d8eeabadd9249d4f9a228d7c55fa407eb
   "id": "0c67c44b-324a-42c9-9642-49e9ed1e143e",
   "metadata": {},
   "outputs": [
    {
     "data": {
      "text/plain": [
       "_id                          int64\n",
       "Outbreak Associated       category\n",
       "Age Group                 category\n",
       "Neighbourhood Name        category\n",
       "FSA                       category\n",
       "Source of Infection       category\n",
       "Classification            category\n",
       "Episode Date              category\n",
       "Reported Date             category\n",
       "Client Gender             category\n",
       "Outcome                   category\n",
       "Currently Hospitalized    category\n",
       "Currently in ICU          category\n",
       "Currently Intubated       category\n",
       "Ever Hospitalized         category\n",
       "Ever in ICU               category\n",
       "Ever Intubated            category\n",
       "dtype: object"
      ]
     },
<<<<<<< HEAD
     "execution_count": 533,
=======
     "execution_count": 79,
>>>>>>> c7ff238d8eeabadd9249d4f9a228d7c55fa407eb
     "metadata": {},
     "output_type": "execute_result"
    }
   ],
   "source": [
    "df.dtypes"
   ]
  },
  {
   "cell_type": "code",
<<<<<<< HEAD
   "execution_count": 534,
=======
   "execution_count": 80,
>>>>>>> c7ff238d8eeabadd9249d4f9a228d7c55fa407eb
   "id": "d64089b6-7d10-4219-b540-2d50efde13fc",
   "metadata": {},
   "outputs": [],
   "source": [
    "# make Reported and Episode Date a datetime type\n",
    "df['Episode Date'] = df['Episode Date'].astype('datetime64')\n",
    "df['Reported Date'] = df['Reported Date'].astype('datetime64')"
   ]
  },
  {
   "cell_type": "markdown",
   "id": "4f028327-a4e1-45d0-9de2-90f32398a9bf",
   "metadata": {},
   "source": [
    "One thing of note, at this point, is that the categorical dimensiones have different cardinalities. Some are binary in nature, but others, like age or gender have different labels. Other variables, such as the source of infection, are also multilable. Let's get a look at the different labels per categorical variable."
   ]
  },
  {
   "cell_type": "code",
<<<<<<< HEAD
   "execution_count": 535,
=======
   "execution_count": 81,
>>>>>>> c7ff238d8eeabadd9249d4f9a228d7c55fa407eb
   "id": "4649565d-c0f7-421e-8e73-e4e6b923775e",
   "metadata": {},
   "outputs": [
    {
     "name": "stdout",
     "output_type": "stream",
     "text": [
      "Sporadic               266190\n",
      "Outbreak Associated     32722\n",
      "Name: Outbreak Associated, dtype: int64\n",
      "20 to 29 Years    63367\n",
      "30 to 39 Years    56544\n",
      "19 and younger    46435\n",
      "40 to 49 Years    43333\n",
      "50 to 59 Years    39028\n",
      "60 to 69 Years    24071\n",
      "70 to 79 Years    11959\n",
      "80 to 89 Years     8962\n",
      "90 and older       4939\n",
      "Name: Age Group, dtype: int64\n",
      "Woburn                               6793\n",
      "Waterfront Communities-The Island    6676\n",
      "Downsview-Roding-CFB                 6307\n",
      "Malvern                              5761\n",
      "Rouge                                5731\n",
      "                                     ... \n",
      "Playter Estates-Danforth              691\n",
      "Runnymede-Bloor West Village          678\n",
      "Bridle Path-Sunnybrook-York Mills     650\n",
      "Lambton Baby Point                    634\n",
      "Woodbine-Lumsden                      621\n",
      "Name: Neighbourhood Name, Length: 140, dtype: int64\n",
      "M9V    9615\n",
      "M1B    8564\n",
      "M3N    6956\n",
      "M9W    6239\n",
      "M6M    6149\n",
      "       ... \n",
      "M8M       1\n",
      "M8P       1\n",
      "M8S       1\n",
      "M2X       1\n",
      "M0H       1\n",
      "Name: FSA, Length: 180, dtype: int64\n",
      "No Information                        139967\n",
      "Community                              66785\n",
      "Household Contact                      38012\n",
      "Outbreaks, Healthcare Institutions     18355\n",
      "Close Contact                          16598\n",
      "Outbreaks, Other Settings              10762\n",
      "Outbreaks, Congregate Settings          4433\n",
      "Travel                                  3935\n",
      "Pending                                   65\n",
      "Name: Source of Infection, dtype: int64\n",
      "CONFIRMED    288691\n",
      "PROBABLE      10221\n",
      "Name: Classification, dtype: int64\n",
      "FEMALE                        153280\n",
      "MALE                          142958\n",
      "UNKNOWN                         2470\n",
      "NON-BINARY                       134\n",
      "TRANSGENDER                       22\n",
      "TRANS MAN                         19\n",
      "OTHER                             15\n",
      "TRANS WOMAN                       12\n",
      "NOT LISTED, PLEASE SPECIFY         2\n",
      "Name: Client Gender, dtype: int64\n",
      "RESOLVED    290891\n",
      "FATAL         4142\n",
      "ACTIVE        3879\n",
      "Name: Outcome, dtype: int64\n",
      "No     298839\n",
      "Yes        73\n",
      "Name: Currently Hospitalized, dtype: int64\n",
      "No     298896\n",
      "Yes        16\n",
      "Name: Currently in ICU, dtype: int64\n",
      "No     298900\n",
      "Yes        12\n",
      "Name: Currently Intubated, dtype: int64\n",
      "No     285093\n",
      "Yes     13819\n",
      "Name: Ever Hospitalized, dtype: int64\n",
      "No     296257\n",
      "Yes      2655\n",
      "Name: Ever in ICU, dtype: int64\n",
      "No     297342\n",
      "Yes      1570\n",
      "Name: Ever Intubated, dtype: int64\n"
     ]
    }
   ],
   "source": [
    "# for all categorical varaibles, check out the cardinality\n",
    "for col in df.select_dtypes(['category']):\n",
    "    print(df[col].value_counts())"
   ]
  },
  {
   "cell_type": "markdown",
   "id": "6c6156c3-86f2-4338-b95f-a958b905653d",
   "metadata": {},
   "source": [
    "#### Encoding the Categorical Variables"
   ]
  },
  {
   "cell_type": "markdown",
   "id": "aba626d8-6f10-4c06-b31e-a84548fe543f",
   "metadata": {},
   "source": [
    "With the above information, I am going to first map the low cardinality variables in a binary manner. For the rest, I will one-hot encode them."
   ]
  },
  {
   "cell_type": "code",
<<<<<<< HEAD
   "execution_count": 536,
=======
   "execution_count": 82,
>>>>>>> c7ff238d8eeabadd9249d4f9a228d7c55fa407eb
   "id": "722de7c4-17f4-4e31-9781-ff74135d1a5f",
   "metadata": {},
   "outputs": [],
   "source": [
    "#encode labels (low-cardinality variables)\n",
    "# these are to be hot encoded\n",
    "df.Classification = df.Classification.map({'CONFIRMED': 0 , 'PROBABLE': 1})\n",
    "df['Currently Hospitalized'] = df['Currently Hospitalized'].map({'No': 0, 'Yes': 1})\n",
    "df['Currently Intubated'] = df['Currently Intubated'].map({'No': 0, 'Yes': 1})\n",
    "df['Currently in ICU'] = df['Currently in ICU'].map({'No': 0, 'Yes': 1})\n",
    "df['Outbreak Associated'] = df['Outbreak Associated'].map({'Sporadic': 0, 'Outbreak Associated': 1})\n",
    "df['Ever Hospitalized'] = df['Ever Hospitalized'].map({'No': 0, 'Yes': 1})\n",
    "df['Ever Intubated'] = df['Ever Intubated'].map({'No': 0, 'Yes': 1})\n",
    "df['Ever in ICU'] = df['Ever in ICU'].map({'No': 0, 'Yes': 1})"
   ]
  },
  {
   "cell_type": "markdown",
   "id": "9a5bdb1e-55e7-4f8d-8bbe-ec1b671e0e86",
   "metadata": {},
   "source": [
    "For the following variables, I have encoded them using [Category Encoders](https://contrib.scikit-learn.org/category_encoders/). \n",
    "\n",
    "Given the cardinality for 'Outcome' and 'Source of Infection' I consider an ordinal encoding to be fitting (labels are given in relation to the size of each sub sample). Gender and age are dimensions NOT to be considered at all for the purposes of this project. "
   ]
  },
  {
   "cell_type": "code",
<<<<<<< HEAD
   "execution_count": 537,
=======
   "execution_count": 83,
   "id": "8698f1ce-f223-4382-ae50-e24bac1bca9e",
   "metadata": {},
   "outputs": [],
   "source": [
    "# encode rest of variables\n",
    "encoder1 = ce.OneHotEncoder(cols=['Client Gender'], return_df=True)\n",
    "df = encoder1.fit_transform(df, df['Client Gender'])"
   ]
  },
  {
   "cell_type": "code",
   "execution_count": 84,
>>>>>>> c7ff238d8eeabadd9249d4f9a228d7c55fa407eb
   "id": "5ac186b4-9360-4300-b23f-1c801d90a498",
   "metadata": {},
   "outputs": [],
   "source": [
    "encoder2 = ce.OrdinalEncoder(cols=['Source of Infection'], return_df=True)\n",
    "df = encoder2.fit_transform(df, df['Source of Infection'])"
   ]
  },
  {
   "cell_type": "code",
<<<<<<< HEAD
   "execution_count": 538,
=======
   "execution_count": 85,
>>>>>>> c7ff238d8eeabadd9249d4f9a228d7c55fa407eb
   "id": "1b81ee0f-f7a2-4e4b-845c-c98c2e5b9cd5",
   "metadata": {},
   "outputs": [],
   "source": [
    "encoder3 = ce.OrdinalEncoder(cols=['Outcome'], return_df=True)\n",
    "df=encoder3.fit_transform(df, df['Outcome'])"
   ]
  },
  {
   "cell_type": "code",
<<<<<<< HEAD
   "execution_count": 539,
=======
   "execution_count": 86,
   "id": "b46b1c8e-4eac-4382-ad58-9a31ed46bd84",
   "metadata": {},
   "outputs": [],
   "source": [
    "encoder4= ce.OneHotEncoder(cols=['Age Group'], return_df=True)\n",
    "df = encoder4.fit_transform(df, df['Age Group'])"
   ]
  },
  {
   "cell_type": "code",
   "execution_count": 87,
   "id": "0ce11dc3-67f7-4c0b-8017-eed201760d97",
   "metadata": {},
   "outputs": [],
   "source": [
    "#encoder_low_card= ce.BinaryEncoder(cols=['Classification','Currently Hospitalized', 'Currently Intubated','Currently in ICU', 'Outbreak Associated',\n",
    "                                        #'Ever Hospitalized', 'Ever Intubated','Ever in ICU'])\n",
    "#df = encoder_low_card.fit_transform(df, df[['Classification','Currently Hospitalized', 'Currently Intubated','Currently in ICU', 'Outbreak Associated',\n",
    "                                        #'Ever Hospitalized', 'Ever Intubated','Ever in ICU']])"
   ]
  },
  {
   "cell_type": "code",
   "execution_count": 88,
>>>>>>> c7ff238d8eeabadd9249d4f9a228d7c55fa407eb
   "id": "acc34c55-c40c-4ae8-8fb6-a3b8573a9456",
   "metadata": {},
   "outputs": [
    {
     "name": "stdout",
     "output_type": "stream",
     "text": [
      "_id\n",
      "Outbreak Associated\n",
      "Age Group\n",
      "Neighbourhood Name\n",
      "FSA\n",
      "Source of Infection\n",
      "Classification\n",
      "Episode Date\n",
      "Reported Date\n",
      "Client Gender\n",
      "Outcome\n",
      "Currently Hospitalized\n",
      "Currently in ICU\n",
      "Currently Intubated\n",
      "Ever Hospitalized\n",
      "Ever in ICU\n",
      "Ever Intubated\n"
     ]
    }
   ],
   "source": [
    "# quick check to verify all encoded columns are correctly encoded\n",
    "for c in df:\n",
    "    print (c)"
   ]
  },
  {
   "cell_type": "code",
<<<<<<< HEAD
   "execution_count": 540,
=======
   "execution_count": 89,
   "id": "6a3c0b15-9957-499d-8759-aeed90a8ea41",
   "metadata": {},
   "outputs": [],
   "source": [
    "# rename the columns that were just encoded\n",
    "df= df.rename(columns={'Age Group_1':'19 and younger', 'Age Group_2':'20 to 29 Years', 'Age Group_3': '30 to 39 Years',\n",
    "                       'Age Group_4': '40 to 49 Years', 'Age Group_5': '50 to 59 Years',\n",
    "                       'Age Group_6': '60 to 69 Years', 'Age Group_7': '70 to 79 Years', 'Age Group_8': '80 to 89 Years',\n",
    "                       'Age Group_9': '90 and older', 'Age Group_10': 'Age Unknown', \n",
    "                       'Client Gender_1': 'Female', 'Client Gender_2': 'Male', 'Client Gender_3': 'Gender Unknown',\n",
    "                      'Client Gender_4': 'Non-binary', 'Client Gender_5': 'Other','Client Gender_6':'Trans Man',\n",
    "                      'Client Gender_7':'Trans Woman', 'Client Gender_8': 'Transgender',\n",
    "                       'Client Gender_9': 'Gender Not Listed: Please Specify',\n",
    "                      'Source of Infection_1':'Source of Infection: No Information',\n",
    "                       'Source of Infection_2': 'Source of Infection: Community',\n",
    "                       'Source of Infection_3': 'Source of Infection: Household Contact',\n",
    "                      'Source of Infection_4': 'Source of Infection: Outbreaks, Healthcare Institutions', \n",
    "                       'Source of Infection_5': 'Source of Infection: Close Contact',\n",
    "                      'Source of Infection_6': 'Source of Infection: Outbreaks, Other Settings',\n",
    "                       'Source of Infection_7': 'Source of Infection: Outbreaks, Congregate Settings',\n",
    "                      'Source of Infection_8': 'Source of Infection: Travel', \n",
    "                       'Source of Infection_9': 'Source of Infection: Pending'})"
   ]
  },
  {
   "cell_type": "code",
   "execution_count": 90,
>>>>>>> c7ff238d8eeabadd9249d4f9a228d7c55fa407eb
   "id": "4cbf0711-f559-4fae-b600-c8bf3bf29997",
   "metadata": {},
   "outputs": [
    {
     "data": {
      "text/html": [
       "<div>\n",
       "<style scoped>\n",
       "    .dataframe tbody tr th:only-of-type {\n",
       "        vertical-align: middle;\n",
       "    }\n",
       "\n",
       "    .dataframe tbody tr th {\n",
       "        vertical-align: top;\n",
       "    }\n",
       "\n",
       "    .dataframe thead th {\n",
       "        text-align: right;\n",
       "    }\n",
       "</style>\n",
       "<table border=\"1\" class=\"dataframe\">\n",
       "  <thead>\n",
       "    <tr style=\"text-align: right;\">\n",
       "      <th></th>\n",
       "      <th>_id</th>\n",
       "      <th>Outbreak Associated</th>\n",
       "      <th>Age Group</th>\n",
       "      <th>Neighbourhood Name</th>\n",
       "      <th>FSA</th>\n",
       "      <th>Source of Infection</th>\n",
       "      <th>Classification</th>\n",
       "      <th>Episode Date</th>\n",
       "      <th>Reported Date</th>\n",
       "      <th>Client Gender</th>\n",
       "      <th>Outcome</th>\n",
       "      <th>Currently Hospitalized</th>\n",
       "      <th>Currently in ICU</th>\n",
       "      <th>Currently Intubated</th>\n",
       "      <th>Ever Hospitalized</th>\n",
       "      <th>Ever in ICU</th>\n",
       "      <th>Ever Intubated</th>\n",
       "    </tr>\n",
       "    <tr>\n",
       "      <th>Assigned_ID</th>\n",
       "      <th></th>\n",
       "      <th></th>\n",
       "      <th></th>\n",
       "      <th></th>\n",
       "      <th></th>\n",
       "      <th></th>\n",
       "      <th></th>\n",
       "      <th></th>\n",
       "      <th></th>\n",
       "      <th></th>\n",
       "      <th></th>\n",
       "      <th></th>\n",
       "      <th></th>\n",
       "      <th></th>\n",
       "      <th></th>\n",
       "      <th></th>\n",
       "      <th></th>\n",
       "    </tr>\n",
       "  </thead>\n",
       "  <tbody>\n",
       "    <tr>\n",
       "      <th>1</th>\n",
       "      <td>1</td>\n",
       "      <td>0</td>\n",
       "      <td>50 to 59 Years</td>\n",
       "      <td>Willowdale East</td>\n",
       "      <td>M2N</td>\n",
       "      <td>1</td>\n",
       "      <td>0</td>\n",
       "      <td>2020-01-22</td>\n",
       "      <td>2020-01-23</td>\n",
       "      <td>FEMALE</td>\n",
       "      <td>1</td>\n",
       "      <td>0</td>\n",
       "      <td>0</td>\n",
       "      <td>0</td>\n",
       "      <td>0</td>\n",
       "      <td>0</td>\n",
       "      <td>0</td>\n",
       "    </tr>\n",
       "    <tr>\n",
       "      <th>2</th>\n",
       "      <td>2</td>\n",
       "      <td>0</td>\n",
       "      <td>50 to 59 Years</td>\n",
       "      <td>Willowdale East</td>\n",
       "      <td>M2N</td>\n",
       "      <td>1</td>\n",
       "      <td>0</td>\n",
       "      <td>2020-01-21</td>\n",
       "      <td>2020-01-23</td>\n",
       "      <td>MALE</td>\n",
       "      <td>1</td>\n",
       "      <td>0</td>\n",
       "      <td>0</td>\n",
       "      <td>0</td>\n",
       "      <td>1</td>\n",
       "      <td>0</td>\n",
       "      <td>0</td>\n",
       "    </tr>\n",
       "    <tr>\n",
       "      <th>3</th>\n",
       "      <td>3</td>\n",
       "      <td>0</td>\n",
       "      <td>20 to 29 Years</td>\n",
       "      <td>Parkwoods-Donalda</td>\n",
       "      <td>M3A</td>\n",
       "      <td>1</td>\n",
       "      <td>0</td>\n",
       "      <td>2020-02-05</td>\n",
       "      <td>2020-02-21</td>\n",
       "      <td>FEMALE</td>\n",
       "      <td>1</td>\n",
       "      <td>0</td>\n",
       "      <td>0</td>\n",
       "      <td>0</td>\n",
       "      <td>0</td>\n",
       "      <td>0</td>\n",
       "      <td>0</td>\n",
       "    </tr>\n",
       "    <tr>\n",
       "      <th>4</th>\n",
       "      <td>4</td>\n",
       "      <td>0</td>\n",
       "      <td>60 to 69 Years</td>\n",
       "      <td>Church-Yonge Corridor</td>\n",
       "      <td>M4W</td>\n",
       "      <td>1</td>\n",
       "      <td>0</td>\n",
       "      <td>2020-02-16</td>\n",
       "      <td>2020-02-25</td>\n",
       "      <td>FEMALE</td>\n",
       "      <td>1</td>\n",
       "      <td>0</td>\n",
       "      <td>0</td>\n",
       "      <td>0</td>\n",
       "      <td>0</td>\n",
       "      <td>0</td>\n",
       "      <td>0</td>\n",
       "    </tr>\n",
       "    <tr>\n",
       "      <th>5</th>\n",
       "      <td>5</td>\n",
       "      <td>0</td>\n",
       "      <td>60 to 69 Years</td>\n",
       "      <td>Church-Yonge Corridor</td>\n",
       "      <td>M4W</td>\n",
       "      <td>1</td>\n",
       "      <td>0</td>\n",
       "      <td>2020-02-20</td>\n",
       "      <td>2020-02-26</td>\n",
       "      <td>MALE</td>\n",
       "      <td>1</td>\n",
       "      <td>0</td>\n",
       "      <td>0</td>\n",
       "      <td>0</td>\n",
       "      <td>0</td>\n",
       "      <td>0</td>\n",
       "      <td>0</td>\n",
       "    </tr>\n",
       "  </tbody>\n",
       "</table>\n",
       "</div>"
      ],
      "text/plain": [
       "             _id Outbreak Associated       Age Group     Neighbourhood Name  \\\n",
       "Assigned_ID                                                                   \n",
       "1              1                   0  50 to 59 Years        Willowdale East   \n",
       "2              2                   0  50 to 59 Years        Willowdale East   \n",
       "3              3                   0  20 to 29 Years      Parkwoods-Donalda   \n",
       "4              4                   0  60 to 69 Years  Church-Yonge Corridor   \n",
       "5              5                   0  60 to 69 Years  Church-Yonge Corridor   \n",
       "\n",
       "             FSA  Source of Infection Classification Episode Date  \\\n",
       "Assigned_ID                                                         \n",
       "1            M2N                    1              0   2020-01-22   \n",
       "2            M2N                    1              0   2020-01-21   \n",
       "3            M3A                    1              0   2020-02-05   \n",
       "4            M4W                    1              0   2020-02-16   \n",
       "5            M4W                    1              0   2020-02-20   \n",
       "\n",
       "            Reported Date Client Gender  Outcome Currently Hospitalized  \\\n",
       "Assigned_ID                                                               \n",
       "1              2020-01-23        FEMALE        1                      0   \n",
       "2              2020-01-23          MALE        1                      0   \n",
       "3              2020-02-21        FEMALE        1                      0   \n",
       "4              2020-02-25        FEMALE        1                      0   \n",
       "5              2020-02-26          MALE        1                      0   \n",
       "\n",
       "            Currently in ICU Currently Intubated Ever Hospitalized  \\\n",
       "Assigned_ID                                                          \n",
       "1                          0                   0                 0   \n",
       "2                          0                   0                 1   \n",
       "3                          0                   0                 0   \n",
       "4                          0                   0                 0   \n",
       "5                          0                   0                 0   \n",
       "\n",
       "            Ever in ICU Ever Intubated  \n",
       "Assigned_ID                             \n",
       "1                     0              0  \n",
       "2                     0              0  \n",
       "3                     0              0  \n",
       "4                     0              0  \n",
       "5                     0              0  "
      ]
     },
<<<<<<< HEAD
     "execution_count": 540,
=======
     "execution_count": 90,
>>>>>>> c7ff238d8eeabadd9249d4f9a228d7c55fa407eb
     "metadata": {},
     "output_type": "execute_result"
    }
   ],
   "source": [
    "# peek at the final look of the data frame, once everything's been encoded\n",
    "df.head()"
   ]
  },
  {
   "cell_type": "markdown",
   "id": "0a82adf7-9603-4dcc-a0fa-47a96e5f4213",
   "metadata": {},
   "source": [
    "## ML Models"
   ]
  },
  {
   "cell_type": "markdown",
   "id": "67ecb4c6-1341-4503-b32f-01d761e2b358",
   "metadata": {},
   "source": [
    "My targets of choice for my classifications analyses will be 'Outcome' and 'Outbreak Associated.'\n",
    "\n",
    "Before moving forward, let's first take a look at how are the observations distributed in each case."
   ]
  },
  {
   "cell_type": "code",
<<<<<<< HEAD
   "execution_count": 541,
=======
   "execution_count": 91,
>>>>>>> c7ff238d8eeabadd9249d4f9a228d7c55fa407eb
   "id": "cababa30-49ba-48b7-b374-62f635112e4d",
   "metadata": {},
   "outputs": [
    {
     "data": {
      "text/plain": [
       "0    89.052965\n",
       "1    10.947035\n",
       "Name: Outbreak Associated, dtype: float64"
      ]
     },
<<<<<<< HEAD
     "execution_count": 541,
=======
     "execution_count": 91,
>>>>>>> c7ff238d8eeabadd9249d4f9a228d7c55fa407eb
     "metadata": {},
     "output_type": "execute_result"
    }
   ],
   "source": [
    "100* (df['Outbreak Associated'].value_counts()) / len(df)"
   ]
  },
  {
   "cell_type": "code",
<<<<<<< HEAD
   "execution_count": 542,
   "id": "14188b46",
=======
   "execution_count": 92,
   "id": "bad58ad0-e39c-49f9-b233-5fe948786855",
>>>>>>> c7ff238d8eeabadd9249d4f9a228d7c55fa407eb
   "metadata": {},
   "outputs": [
    {
     "data": {
      "text/plain": [
       "1    97.316602\n",
       "2     1.385692\n",
       "3     1.297706\n",
       "Name: Outcome, dtype: float64"
      ]
     },
<<<<<<< HEAD
     "execution_count": 542,
=======
     "execution_count": 92,
>>>>>>> c7ff238d8eeabadd9249d4f9a228d7c55fa407eb
     "metadata": {},
     "output_type": "execute_result"
    }
   ],
   "source": [
    "100* (df['Outcome'].value_counts()) / len(df)"
   ]
  },
  {
   "cell_type": "markdown",
   "id": "c0e07af3-3e86-461b-924c-fae3024dd6cd",
   "metadata": {},
   "source": [
    "#### Random Forest Classification (for Outbreak Associated variable)"
   ]
  },
  {
   "cell_type": "markdown",
   "id": "faf65366-6968-4d29-9d0b-80daedfca7f5",
   "metadata": {},
   "source": [
    "For this model, I am going to use a random forest classifier to tell apart from sporadic infection events from those outbreak-related. Hospitalizations are not a variable to be included in the model."
   ]
  },
  {
   "cell_type": "code",
<<<<<<< HEAD
   "execution_count": 543,
=======
   "execution_count": 93,
>>>>>>> c7ff238d8eeabadd9249d4f9a228d7c55fa407eb
   "id": "b4815fae-1dab-4fa1-be99-8fff9fec3201",
   "metadata": {},
   "outputs": [],
   "source": [
    "# define the input and target variables\n",
    "# while I think it holds some value, I am going to leave geogrpahy and chronology out of the question\n",
    "\n",
<<<<<<< HEAD
    "X = df.drop(columns = ['Reported Date', 'Episode Date', 'FSA', 'Neighbourhood Name', 'Outbreak Associated',\n",
    "                       'Age Group', 'Client Gender',\n",
=======
    "X = df.drop(columns = ['Reported Date', 'Episode Date', 'FSA', 'Neighbourhood Name', 'Outbreak Associated', 'Classification',\n",
    "                       'Outcome','Age Unknown', 'Gender Unknown', 'Gender Not Listed: Please Specify',\n",
>>>>>>> c7ff238d8eeabadd9249d4f9a228d7c55fa407eb
    "                       'Currently Hospitalized', 'Currently Intubated', 'Currently in ICU',\n",
    "                       'Ever Hospitalized', 'Ever Intubated', 'Ever in ICU'], axis=1)\n",
    "y = df['Outbreak Associated']"
   ]
  },
  {
   "cell_type": "code",
<<<<<<< HEAD
   "execution_count": 544,
=======
   "execution_count": 94,
>>>>>>> c7ff238d8eeabadd9249d4f9a228d7c55fa407eb
   "id": "8128420f-a8a5-4bcd-9370-c31007a913cd",
   "metadata": {},
   "outputs": [
    {
     "data": {
      "text/plain": [
<<<<<<< HEAD
       "((74728, 4), (74728,))"
      ]
     },
     "execution_count": 544,
=======
       "((74728, 26), (74728,))"
      ]
     },
     "execution_count": 94,
>>>>>>> c7ff238d8eeabadd9249d4f9a228d7c55fa407eb
     "metadata": {},
     "output_type": "execute_result"
    }
   ],
   "source": [
    "# create train / test split\n",
    "X_train, X_test, y_train, y_test = train_test_split(X, y, train_size = 0.25, random_state = 20)\n",
    "X_train.shape, y_train.shape"
   ]
  },
  {
   "cell_type": "code",
<<<<<<< HEAD
   "execution_count": 545,
=======
   "execution_count": 95,
>>>>>>> c7ff238d8eeabadd9249d4f9a228d7c55fa407eb
   "id": "e9398658-4789-46df-8623-f78aa3bb67e4",
   "metadata": {},
   "outputs": [],
   "source": [
    "# Create a baseline model that will only be able to tell the majority class, never the minority one\n",
    "y_train_baseline = pd.Series(np.zeros(len(y_train)))\n",
    "y_test_baseline = pd.Series(np.zeros(len(y_test)))"
   ]
  },
  {
   "cell_type": "code",
<<<<<<< HEAD
   "execution_count": 546,
=======
   "execution_count": 96,
>>>>>>> c7ff238d8eeabadd9249d4f9a228d7c55fa407eb
   "id": "341749c1-ba14-48ab-b3d2-9909a45b9ec5",
   "metadata": {},
   "outputs": [],
   "source": [
    "# create random forest model\n",
    "rfc= RandomForestClassifier(n_estimators=1000, random_state=39, max_depth=2, n_jobs=4)\n",
    "model_fit = rfc.fit(X_train, y_train)\n",
    "y_train_rfc= rfc.predict(X_train)\n",
    "y_test_rfc = rfc.predict(X_test)"
   ]
  },
  {
   "cell_type": "markdown",
   "id": "fa805bc9-f288-4d86-8353-64e11bcaaf5d",
   "metadata": {},
   "source": [
    "The baseline model, as expected, does not detect a minority class at all and its average recall being 50% might indicate this is a random model. Let's keep that in mind when assessing the classification report for actual data."
   ]
  },
  {
   "cell_type": "code",
<<<<<<< HEAD
   "execution_count": 547,
=======
   "execution_count": 97,
>>>>>>> c7ff238d8eeabadd9249d4f9a228d7c55fa407eb
   "id": "5b915e13-06bc-4481-9078-1b29ced6a28f",
   "metadata": {},
   "outputs": [
    {
     "name": "stderr",
     "output_type": "stream",
     "text": [
      "C:\\Users\\migue\\anaconda3\\lib\\site-packages\\sklearn\\metrics\\_classification.py:1221: UndefinedMetricWarning: Precision and F-score are ill-defined and being set to 0.0 in labels with no predicted samples. Use `zero_division` parameter to control this behavior.\n",
      "  _warn_prf(average, modifier, msg_start, len(result))\n"
     ]
    },
    {
     "name": "stdout",
     "output_type": "stream",
     "text": [
      "              precision    recall  f1-score   support\n",
      "\n",
      "           0       0.89      1.00      0.94    199668\n",
      "           1       0.00      0.00      0.00     24516\n",
      "\n",
      "    accuracy                           0.89    224184\n",
      "   macro avg       0.45      0.50      0.47    224184\n",
      "weighted avg       0.79      0.89      0.84    224184\n",
      "\n"
     ]
    }
   ],
   "source": [
    "print(classification_report(y_test, y_test_baseline, labels=[0,1]))"
   ]
  },
  {
   "cell_type": "markdown",
   "id": "95823105-87a4-48b1-acc1-3e35963259da",
   "metadata": {},
   "source": [
    "The random forest classifier does a good job in getting the majority class (label 0), and it also makes a good job getting the actual positives for the minority class(recall value is 81%). Across both classes, if we take both recall scores, the balanced accuracy (the average recall for each label), is of 90% (the macro average in the report). "
   ]
  },
  {
   "cell_type": "code",
<<<<<<< HEAD
   "execution_count": 548,
=======
   "execution_count": 98,
>>>>>>> c7ff238d8eeabadd9249d4f9a228d7c55fa407eb
   "id": "00484ce0-92d1-4984-9cc7-1faee3420955",
   "metadata": {},
   "outputs": [
    {
     "name": "stdout",
     "output_type": "stream",
     "text": [
      "              precision    recall  f1-score   support\n",
      "\n",
      "           0       0.98      0.99      0.98    199668\n",
      "           1       0.90      0.81      0.85     24516\n",
      "\n",
      "    accuracy                           0.97    224184\n",
      "   macro avg       0.94      0.90      0.92    224184\n",
      "weighted avg       0.97      0.97      0.97    224184\n",
      "\n"
     ]
    }
   ],
   "source": [
    "print(classification_report(y_test, y_test_rfc, labels = [0,1]))"
   ]
  },
  {
   "cell_type": "code",
<<<<<<< HEAD
   "execution_count": 549,
=======
   "execution_count": 99,
>>>>>>> c7ff238d8eeabadd9249d4f9a228d7c55fa407eb
   "id": "bbf16025-40c0-4d84-a871-502481932f45",
   "metadata": {},
   "outputs": [
    {
     "data": {
      "image/png": "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\n",
      "text/plain": [
       "<Figure size 432x288 with 2 Axes>"
      ]
     },
     "metadata": {
      "needs_background": "light"
     },
     "output_type": "display_data"
    }
   ],
   "source": [
    "fig = plot_confusion_matrix(rfc, X_test, y_test, display_labels=[0,1], cmap='Reds')\n",
    "plt.title('Confusion Matrix')\n",
    "plt.show()"
   ]
  },
  {
   "cell_type": "markdown",
   "id": "ded03910-fc43-482c-85f2-399a8ab47611",
   "metadata": {},
   "source": [
    "The precision-recall curve, a computation of the precision (the ratio of actual trues divided by the sum of all values identified as true, actual or not) against the recall (the ratio of actual true values divided by the sum of actual true values, regardless of whether they are correctly identified or not) for a classifier given different thresholds. A shape like the one shown below, gives the impression of the classifier being 'perfect', as it has been able to score pretty well on the precision and recall at every threshold. With imbalaced datasets, the precision-recall curve captures well what's going on with the classification model, as [Soledad Galli demonstrates here.](https://github.com/solegalli/machine-learning-imbalanced-data/blob/master/Section-03-Metrics/03-08-Optional-Comparison-ROC-PRC.ipynb)"
   ]
  },
  {
   "cell_type": "code",
<<<<<<< HEAD
   "execution_count": 550,
=======
   "execution_count": 100,
>>>>>>> c7ff238d8eeabadd9249d4f9a228d7c55fa407eb
   "id": "60d39c8b-0e98-4b53-a9b3-e95fccc06b2c",
   "metadata": {},
   "outputs": [
    {
     "data": {
      "text/plain": [
<<<<<<< HEAD
       "<sklearn.metrics._plot.precision_recall_curve.PrecisionRecallDisplay at 0x20686bc6eb0>"
      ]
     },
     "execution_count": 550,
=======
       "<sklearn.metrics._plot.precision_recall_curve.PrecisionRecallDisplay at 0x1bdc6214a00>"
      ]
     },
     "execution_count": 100,
>>>>>>> c7ff238d8eeabadd9249d4f9a228d7c55fa407eb
     "metadata": {},
     "output_type": "execute_result"
    },
    {
     "data": {
<<<<<<< HEAD
      "image/png": "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\n",
=======
      "image/png": "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\n",
>>>>>>> c7ff238d8eeabadd9249d4f9a228d7c55fa407eb
      "text/plain": [
       "<Figure size 432x288 with 1 Axes>"
      ]
     },
     "metadata": {
      "needs_background": "light"
     },
     "output_type": "display_data"
    }
   ],
   "source": [
    "plot_precision_recall_curve(rfc, X_train, y_train)"
   ]
  },
  {
   "cell_type": "markdown",
   "id": "55728fc2-68c5-4ad2-86bd-d86282e500fc",
   "metadata": {},
   "source": [
    "#### Logistic Regression Classification (for Outcome variable)"
   ]
  },
  {
   "cell_type": "markdown",
   "id": "81ab48cb-baf4-406e-baeb-5df2d44486ef",
   "metadata": {},
   "source": [
    "With the results for a binary class in mind, let's see what happens with a multi-label variable, the outcome for each reported case."
   ]
  },
  {
   "cell_type": "code",
<<<<<<< HEAD
   "execution_count": 551,
=======
   "execution_count": 101,
>>>>>>> c7ff238d8eeabadd9249d4f9a228d7c55fa407eb
   "id": "daa23ae7-3c67-45ec-a298-3899c10bae81",
   "metadata": {},
   "outputs": [],
   "source": [
    "# define the input and target variables\n",
    "# while I think it holds some value, I am going to leave geogrpahy and chronology out of the question\n",
    "# Majority and minority classes are defined by the order in which Outcome was encoded\n",
    "\n",
    "X = df.drop(columns = ['Reported Date', 'Episode Date', 'FSA', 'Neighbourhood Name',\n",
<<<<<<< HEAD
    "                       'Outcome', 'Age Group', 'Client Gender',\n",
    "                       'Currently Hospitalized', 'Currently Intubated', 'Currently in ICU',\n",
    "                       'Ever Hospitalized', 'Ever Intubated', 'Ever in ICU'], axis=1)\n",
=======
    "                       'Outcome','Classification', 'Age Unknown', 'Gender Unknown',\n",
    "                       'Gender Not Listed: Please Specify', 'Currently Hospitalized',\n",
    "                       'Currently Intubated', 'Currently in ICU', 'Ever Hospitalized',\n",
    "                       'Ever Intubated', 'Ever in ICU'], axis=1)\n",
>>>>>>> c7ff238d8eeabadd9249d4f9a228d7c55fa407eb
    "y = df['Outcome']"
   ]
  },
  {
   "cell_type": "code",
<<<<<<< HEAD
   "execution_count": 552,
   "id": "25a84f2f-141e-459c-b90f-5a29a4014b7b",
   "metadata": {},
   "outputs": [],
=======
   "execution_count": 102,
   "id": "25a84f2f-141e-459c-b90f-5a29a4014b7b",
   "metadata": {},
   "outputs": [
    {
     "data": {
      "text/plain": [
       "((224184, 27), (224184,))"
      ]
     },
     "execution_count": 102,
     "metadata": {},
     "output_type": "execute_result"
    }
   ],
>>>>>>> c7ff238d8eeabadd9249d4f9a228d7c55fa407eb
   "source": [
    "# create train / test split\n",
    "X_train, X_test, y_train, y_test = train_test_split(X, y, train_size = 0.25, random_state = 20)"
   ]
  },
  {
   "cell_type": "code",
<<<<<<< HEAD
   "execution_count": 553,
=======
   "execution_count": 103,
>>>>>>> c7ff238d8eeabadd9249d4f9a228d7c55fa407eb
   "id": "b5406800-dccb-47a8-b8d4-f20432016572",
   "metadata": {},
   "outputs": [],
   "source": [
    "# Create a baseline model that will only be able to tell the majority class, never on the minority one\n",
    "y_train_baseline = pd.Series(np.zeros(len(y_train)))\n",
    "y_test_baseline = pd.Series(np.zeros(len(y_test)))"
   ]
  },
  {
   "cell_type": "code",
<<<<<<< HEAD
   "execution_count": 554,
=======
   "execution_count": 104,
>>>>>>> c7ff238d8eeabadd9249d4f9a228d7c55fa407eb
   "id": "8a25f9e5-9677-431d-b5b0-552a9164bf2a",
   "metadata": {},
   "outputs": [],
   "source": [
    "# create logistic regression \n",
    "lr= LogisticRegression(solver='newton-cg', n_jobs=4, multi_class = 'multinomial')\n",
    "model_fit = lr.fit(X_train, y_train)\n",
    "y_train_lr= lr.predict(X_train)\n",
    "y_test_lr = lr.predict(X_test)"
   ]
  },
  {
   "cell_type": "code",
<<<<<<< HEAD
   "execution_count": 555,
=======
   "execution_count": 105,
>>>>>>> c7ff238d8eeabadd9249d4f9a228d7c55fa407eb
   "id": "cee2c41a-e3ca-4dfb-9434-c13b71947422",
   "metadata": {},
   "outputs": [
    {
<<<<<<< HEAD
     "name": "stderr",
     "output_type": "stream",
     "text": [
      "C:\\Users\\migue\\anaconda3\\lib\\site-packages\\sklearn\\metrics\\_classification.py:1221: UndefinedMetricWarning: Precision and F-score are ill-defined and being set to 0.0 in labels with no predicted samples. Use `zero_division` parameter to control this behavior.\n",
      "  _warn_prf(average, modifier, msg_start, len(result))\n",
      "C:\\Users\\migue\\anaconda3\\lib\\site-packages\\sklearn\\metrics\\_classification.py:1221: UndefinedMetricWarning: Precision and F-score are ill-defined and being set to 0.0 due to no predicted samples. Use `zero_division` parameter to control this behavior.\n",
      "  _warn_prf(average, modifier, msg_start, len(result))\n"
     ]
    },
    {
=======
>>>>>>> c7ff238d8eeabadd9249d4f9a228d7c55fa407eb
     "name": "stdout",
     "output_type": "stream",
     "text": [
      "              precision    recall  f1-score   support\n",
      "\n",
      "           1       0.00      0.00      0.00  218177.0\n",
      "           2       0.00      0.00      0.00    3116.0\n",
      "           3       0.00      0.00      0.00    2891.0\n",
      "\n",
      "   micro avg       0.00      0.00      0.00  224184.0\n",
      "   macro avg       0.00      0.00      0.00  224184.0\n",
      "weighted avg       0.00      0.00      0.00  224184.0\n",
      "\n"
     ]
<<<<<<< HEAD
=======
    },
    {
     "name": "stderr",
     "output_type": "stream",
     "text": [
      "C:\\Users\\migue\\anaconda3\\lib\\site-packages\\sklearn\\metrics\\_classification.py:1221: UndefinedMetricWarning: Precision and F-score are ill-defined and being set to 0.0 in labels with no predicted samples. Use `zero_division` parameter to control this behavior.\n",
      "  _warn_prf(average, modifier, msg_start, len(result))\n",
      "C:\\Users\\migue\\anaconda3\\lib\\site-packages\\sklearn\\metrics\\_classification.py:1221: UndefinedMetricWarning: Precision and F-score are ill-defined and being set to 0.0 due to no predicted samples. Use `zero_division` parameter to control this behavior.\n",
      "  _warn_prf(average, modifier, msg_start, len(result))\n"
     ]
>>>>>>> c7ff238d8eeabadd9249d4f9a228d7c55fa407eb
    }
   ],
   "source": [
    "print(classification_report(y_test, y_test_baseline, labels = [1,2,3]))"
   ]
  },
  {
   "cell_type": "markdown",
   "id": "ac214d7d-7ce4-4714-9add-75f9654b9ca2",
   "metadata": {},
   "source": [
    "The model only does a good job when telling which class is the majority one, but data seems so imbalanced that there is no score whatsoever for the minority classes. Precision is below 0.50 even for the third class, the only non-major class to even be detected."
   ]
  },
  {
   "cell_type": "code",
<<<<<<< HEAD
   "execution_count": 556,
=======
   "execution_count": 106,
>>>>>>> c7ff238d8eeabadd9249d4f9a228d7c55fa407eb
   "id": "99ae9fee-ae58-4ece-af06-2a8330bec860",
   "metadata": {},
   "outputs": [
    {
     "name": "stdout",
     "output_type": "stream",
     "text": [
      "              precision    recall  f1-score   support\n",
      "\n",
      "           1       0.97      1.00      0.99    218177\n",
      "           2       0.00      0.00      0.00      3116\n",
<<<<<<< HEAD
      "           3       0.41      0.01      0.02      2891\n",
      "\n",
      "    accuracy                           0.97    224184\n",
      "   macro avg       0.46      0.34      0.34    224184\n",
=======
      "           3       0.00      0.00      0.00      2891\n",
      "\n",
      "    accuracy                           0.97    224184\n",
      "   macro avg       0.32      0.33      0.33    224184\n",
>>>>>>> c7ff238d8eeabadd9249d4f9a228d7c55fa407eb
      "weighted avg       0.95      0.97      0.96    224184\n",
      "\n"
     ]
    }
   ],
<<<<<<< HEAD
=======
   "source": [
    "print(classification_report(y_test, y_test_rfc, labels = [1,2,3]))"
   ]
  },
  {
   "cell_type": "code",
   "execution_count": 107,
   "id": "2016f081-f3b4-4ca9-960e-b5f739e49958",
   "metadata": {},
   "outputs": [
    {
     "data": {
      "image/png": "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\n",
      "text/plain": [
       "<Figure size 432x288 with 2 Axes>"
      ]
     },
     "metadata": {
      "needs_background": "light"
     },
     "output_type": "display_data"
    }
   ],
>>>>>>> c7ff238d8eeabadd9249d4f9a228d7c55fa407eb
   "source": [
    "print(classification_report(y_test, y_test_lr, labels = [1,2,3]))"
   ]
  },
  {
   "cell_type": "markdown",
   "id": "7fa9d79a-26d7-4eef-a878-752e0dffea0f",
   "metadata": {},
   "source": [
    "#### Dealing with Imbalanced Data"
   ]
  },
  {
   "cell_type": "markdown",
   "id": "69caaf2f",
   "metadata": {},
   "source": [
    "What are the ways we can make the classifier better in capturing the target variables? One way of going about it is to [undersample the majority class](https://imbalanced-learn.org/stable/references/under_sampling.html) until we reach an equal proportion of observations for any of the labels. "
   ]
  },
  {
   "cell_type": "markdown",
   "id": "c5f6fffb",
   "metadata": {},
   "source": [
    "##### Undersampling the Classification Model for the 'Outbreak Associated' Variable"
   ]
  },
  {
   "cell_type": "markdown",
   "id": "791276be",
   "metadata": {},
   "source": [
    "###### Random Undersampling"
   ]
  },
  {
   "cell_type": "code",
<<<<<<< HEAD
   "execution_count": 557,
=======
   "execution_count": 108,
>>>>>>> c7ff238d8eeabadd9249d4f9a228d7c55fa407eb
   "id": "55c859ce",
   "metadata": {},
   "outputs": [],
   "source": [
    "# instantiate random undersampler\n",
    "rus = RandomUnderSampler(sampling_strategy=0.5, random_state=29, replacement='True')"
   ]
  },
  {
   "cell_type": "code",
<<<<<<< HEAD
   "execution_count": 558,
=======
   "execution_count": 109,
>>>>>>> c7ff238d8eeabadd9249d4f9a228d7c55fa407eb
   "id": "9a061230",
   "metadata": {},
   "outputs": [
    {
     "data": {
      "text/plain": [
       "((24541, 4), (24541,))"
      ]
     },
     "execution_count": 558,
     "metadata": {},
     "output_type": "execute_result"
    }
   ],
   "source": [
    "# resample X and Y variables for this model\n",
    "# initial run of rus triggered\n",
    "# 'Only the Series name can be used for the key in Series dtype mappings.' error\n",
    "# so I am passing X as an array and I am making Y a continuous one\n",
    "# check https://stackoverflow.com/questions/65311823/getting-error-keyerror-only-the-series-name-can-be-used-for-the-key-in-series\n",
<<<<<<< HEAD
    "X = df.drop(columns = ['Reported Date', 'Episode Date', 'FSA', 'Neighbourhood Name', 'Outbreak Associated',\n",
    "                       'Age Group', 'Client Gender',\n",
    "                       'Currently Hospitalized', 'Currently Intubated', 'Currently in ICU',\n",
    "                       'Ever Hospitalized', 'Ever Intubated', 'Ever in ICU'], axis=1)\n",
    "y = df['Outbreak Associated']\n",
    "\n",
    "X_undersampled, y_undersampled = rus.fit_resample(X, y)\n",
    "X_undersampled_train, X_undersampled_test, y_undersampled_train, y_undersampled_test = train_test_split(X_undersampled, y_undersampled, train_size = 0.25, random_state = 20)\n",
    "X_undersampled_train.shape, y_undersampled_train.shape"
=======
    "X = df.drop(columns = ['Reported Date', 'Episode Date', 'FSA', 'Neighbourhood Name', 'Outbreak Associated', 'Classification',\n",
    "                       'Outcome','Age Unknown', 'Gender Unknown', 'Gender Not Listed: Please Specify',\n",
    "                       'Currently Hospitalized', 'Currently Intubated', 'Currently in ICU',\n",
    "                       'Ever Hospitalized', 'Ever Intubated', 'Ever in ICU'], axis=1)\n",
    "y = df['Outbreak Associated']"
   ]
  },
  {
   "cell_type": "code",
   "execution_count": 110,
   "id": "247fa45a",
   "metadata": {},
   "outputs": [],
   "source": [
    "X_undersampled, y_undersampled = rus.fit_resample(X, y.ravel())"
   ]
  },
  {
   "cell_type": "code",
   "execution_count": 111,
   "id": "c97391aa",
   "metadata": {},
   "outputs": [
    {
     "data": {
      "text/plain": [
       "((98166, 26), (98166,))"
      ]
     },
     "execution_count": 111,
     "metadata": {},
     "output_type": "execute_result"
    }
   ],
   "source": [
    "X_undersampled.shape, y_undersampled.shape"
>>>>>>> c7ff238d8eeabadd9249d4f9a228d7c55fa407eb
   ]
  },
  {
   "cell_type": "markdown",
   "id": "06ce3350",
   "metadata": {},
   "source": [
    "Both the inputs and target are now resampled and aligned. Let's apply the machine learning algorithm again and assess its performance."
   ]
  },
  {
   "cell_type": "code",
<<<<<<< HEAD
   "execution_count": 559,
=======
   "execution_count": 112,
   "id": "dab45cba",
   "metadata": {},
   "outputs": [
    {
     "data": {
      "text/plain": [
       "((73625, 26), (73625,))"
      ]
     },
     "execution_count": 112,
     "metadata": {},
     "output_type": "execute_result"
    }
   ],
   "source": [
    "# create train / test split\n",
    "X_undersampled_train, X_undersampled_test, y_undersampled_train, y_undersampled_test = train_test_split(X_undersampled, y_undersampled, train_size = 0.25, random_state = 34)\n",
    "X_undersampled_test.shape, y_undersampled_test.shape"
   ]
  },
  {
   "cell_type": "code",
   "execution_count": 113,
>>>>>>> c7ff238d8eeabadd9249d4f9a228d7c55fa407eb
   "id": "53ba4da6",
   "metadata": {},
   "outputs": [],
   "source": [
    "rfc = RandomForestClassifier(n_estimators=2000, max_depth=4, n_jobs=2, random_state=45)\n",
    "model = rfc.fit(X_undersampled_train, y_undersampled_train)\n",
    "y_undersampled_train_pred = model.predict(X_undersampled_train)\n",
    "y_undersampled_test_pred = model.predict(X_undersampled_test)"
   ]
  },
  {
   "cell_type": "code",
<<<<<<< HEAD
   "execution_count": 560,
=======
   "execution_count": 114,
>>>>>>> c7ff238d8eeabadd9249d4f9a228d7c55fa407eb
   "id": "30861ab3",
   "metadata": {},
   "outputs": [
    {
     "name": "stdout",
     "output_type": "stream",
     "text": [
      "              precision    recall  f1-score   support\n",
      "\n",
<<<<<<< HEAD
      "           0       0.92      0.99      0.95     49115\n",
      "           1       0.97      0.82      0.89     24510\n",
      "\n",
      "    accuracy                           0.93     73625\n",
      "   macro avg       0.95      0.90      0.92     73625\n",
      "weighted avg       0.94      0.93      0.93     73625\n",
=======
      "           0       0.97      0.99      0.98     49018\n",
      "           1       0.98      0.94      0.96     24607\n",
      "\n",
      "    accuracy                           0.97     73625\n",
      "   macro avg       0.98      0.97      0.97     73625\n",
      "weighted avg       0.97      0.97      0.97     73625\n",
>>>>>>> c7ff238d8eeabadd9249d4f9a228d7c55fa407eb
      "\n"
     ]
    }
   ],
   "source": [
    "print(classification_report(y_undersampled_test, y_undersampled_test_pred, labels=[0,1]))"
   ]
  },
  {
   "cell_type": "markdown",
   "id": "959ed380",
   "metadata": {},
   "source": [
    "Scores have improved withe the undersampling. It is not a dramatic increase, given that the non-resampled model was already good, but there has been an effect on the classigier. As for precision-recall plot, it tells us how well this randomly undersampled model is able to tell both classes. As it can be seen, the model is almost perfect now, as recall and precision are almost 1 if not 1 at every threshold."
   ]
  },
  {
   "cell_type": "code",
<<<<<<< HEAD
   "execution_count": 561,
   "id": "3d91c189",
=======
   "execution_count": 115,
   "id": "cea60970",
   "metadata": {},
   "outputs": [
    {
     "data": {
      "text/plain": [
       "<sklearn.metrics._plot.roc_curve.RocCurveDisplay at 0x1bdd5fda0a0>"
      ]
     },
     "execution_count": 115,
     "metadata": {},
     "output_type": "execute_result"
    },
    {
     "data": {
      "image/png": "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\n",
      "text/plain": [
       "<Figure size 432x288 with 1 Axes>"
      ]
     },
     "metadata": {
      "needs_background": "light"
     },
     "output_type": "display_data"
    }
   ],
   "source": [
    "plot_roc_curve(rfc, X_undersampled_train, y_undersampled_train)"
   ]
  },
  {
   "cell_type": "markdown",
   "id": "40e39e36",
>>>>>>> c7ff238d8eeabadd9249d4f9a228d7c55fa407eb
   "metadata": {},
   "outputs": [
    {
     "data": {
      "text/plain": [
       "<sklearn.metrics._plot.precision_recall_curve.PrecisionRecallDisplay at 0x20686e8cf10>"
      ]
     },
     "execution_count": 561,
     "metadata": {},
     "output_type": "execute_result"
    },
    {
     "data": {
      "image/png": "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\n",
      "text/plain": [
       "<Figure size 432x288 with 1 Axes>"
      ]
     },
     "metadata": {
      "needs_background": "light"
     },
     "output_type": "display_data"
    }
   ],
   "source": [
    "plot_precision_recall_curve(rfc,X_undersampled_train, y_undersampled_train)"
   ]
  },
  {
   "cell_type": "markdown",
   "id": "0c75bd24-b71e-44d7-8a6e-1ca6d550bc55",
   "metadata": {},
   "source": [
    "Now that the minority class has been balanced, it makes sense to use the ROC-AUC score."
   ]
  },
  {
   "cell_type": "code",
<<<<<<< HEAD
   "execution_count": 562,
=======
   "execution_count": 116,
>>>>>>> c7ff238d8eeabadd9249d4f9a228d7c55fa407eb
   "id": "d85afc47-dbab-4c56-930a-4c802f3c2ba3",
   "metadata": {},
   "outputs": [
    {
     "data": {
      "text/plain": [
<<<<<<< HEAD
       "0.9034375500624622"
      ]
     },
     "execution_count": 562,
=======
       "0.9659344570233361"
      ]
     },
     "execution_count": 116,
>>>>>>> c7ff238d8eeabadd9249d4f9a228d7c55fa407eb
     "metadata": {},
     "output_type": "execute_result"
    }
   ],
   "source": [
    "roc_auc_score(y_undersampled_test, y_undersampled_test_pred)"
   ]
  },
  {
   "cell_type": "markdown",
   "id": "40bae588",
   "metadata": {},
   "source": [
    "Random undersampling makes the model even better at telling apart both labels, but what if we remove the boundary observations and minimize noise? Will that render better results, or comparably similar?"
   ]
  },
  {
   "cell_type": "markdown",
   "id": "d5ead736",
   "metadata": {},
   "source": [
    "###### Undersampling with Tomek's Links"
   ]
  },
  {
   "cell_type": "markdown",
   "id": "d80111d8-51bb-41db-b181-f90d92f9aa4d",
   "metadata": {},
   "source": [
    "With Tomek's Links, the resampling is computed to remove all the boundary/noisy instances between labels."
   ]
  },
  {
   "cell_type": "code",
<<<<<<< HEAD
   "execution_count": 563,
=======
   "execution_count": 117,
>>>>>>> c7ff238d8eeabadd9249d4f9a228d7c55fa407eb
   "id": "eeebaf5f",
   "metadata": {},
   "outputs": [],
   "source": [
    "tl= TomekLinks(sampling_strategy='auto',\n",
    "               n_jobs=4)"
   ]
  },
  {
   "cell_type": "code",
<<<<<<< HEAD
   "execution_count": 564,
=======
   "execution_count": 118,
>>>>>>> c7ff238d8eeabadd9249d4f9a228d7c55fa407eb
   "id": "90484953",
   "metadata": {},
   "outputs": [
    {
     "data": {
      "text/plain": [
<<<<<<< HEAD
       "((73478, 4), (73478,))"
      ]
     },
     "execution_count": 564,
=======
       "((24541, 26), (24541,))"
      ]
     },
     "execution_count": 118,
>>>>>>> c7ff238d8eeabadd9249d4f9a228d7c55fa407eb
     "metadata": {},
     "output_type": "execute_result"
    }
   ],
   "source": [
    "X = df.drop(columns = ['Reported Date', 'Episode Date', 'FSA', 'Neighbourhood Name', 'Outbreak Associated',\n",
    "                       'Age Group', 'Client Gender',\n",
    "                       'Currently Hospitalized', 'Currently Intubated', 'Currently in ICU',\n",
    "                       'Ever Hospitalized', 'Ever Intubated', 'Ever in ICU'], axis=1)\n",
    "y = df['Outbreak Associated']\n",
    "\n",
    "X_undersampled, y_undersampled = tl.fit_resample(X, y)\n",
    "X_undersampled_train, X_undersampled_test, y_undersampled_train, y_undersampled_test = train_test_split(X_undersampled, y_undersampled, train_size = 0.25, random_state = 20)\n",
    "X_undersampled_train.shape, y_undersampled_train.shape"
   ]
  },
  {
   "cell_type": "code",
<<<<<<< HEAD
   "execution_count": 565,
=======
   "execution_count": 119,
>>>>>>> c7ff238d8eeabadd9249d4f9a228d7c55fa407eb
   "id": "aad4ca9f",
   "metadata": {},
   "outputs": [],
   "source": [
    "rfc = RandomForestClassifier(n_estimators=2000, max_depth=4, n_jobs=2, random_state=45)\n",
    "model = rfc.fit(X_undersampled_train, y_undersampled_train)\n",
    "y_undersampled_pred_rfc = rfc.predict(X_undersampled_test)"
   ]
  },
  {
   "cell_type": "code",
<<<<<<< HEAD
   "execution_count": 566,
=======
   "execution_count": 120,
>>>>>>> c7ff238d8eeabadd9249d4f9a228d7c55fa407eb
   "id": "77dc740f",
   "metadata": {},
   "outputs": [
    {
     "name": "stdout",
     "output_type": "stream",
     "text": [
      "              precision    recall  f1-score   support\n",
      "\n",
<<<<<<< HEAD
      "           0       0.98      0.99      0.98    195890\n",
      "           1       0.92      0.81      0.86     24545\n",
      "\n",
      "    accuracy                           0.97    220435\n",
      "   macro avg       0.95      0.90      0.92    220435\n",
      "weighted avg       0.97      0.97      0.97    220435\n",
=======
      "           0       0.97      0.99      0.98     49115\n",
      "           1       0.98      0.94      0.96     24510\n",
      "\n",
      "    accuracy                           0.97     73625\n",
      "   macro avg       0.97      0.97      0.97     73625\n",
      "weighted avg       0.97      0.97      0.97     73625\n",
>>>>>>> c7ff238d8eeabadd9249d4f9a228d7c55fa407eb
      "\n"
     ]
    }
   ],
   "source": [
    "print(classification_report(y_undersampled_test, y_undersampled_pred_rfc, labels=[0,1]))"
   ]
  },
  {
   "cell_type": "markdown",
   "id": "3bd00642-e87b-4e94-beb9-f9af3975be0f",
   "metadata": {},
   "source": [
    "The ROC-AUC score resulting from this type of undersampling is also in the realm of excellency. The plot reinforces this idea."
   ]
  },
  {
   "cell_type": "code",
<<<<<<< HEAD
   "execution_count": 567,
   "id": "ccb76de6",
=======
   "execution_count": 121,
   "id": "5c0a0445",
>>>>>>> c7ff238d8eeabadd9249d4f9a228d7c55fa407eb
   "metadata": {},
   "outputs": [
    {
     "data": {
      "text/plain": [
<<<<<<< HEAD
       "<sklearn.metrics._plot.precision_recall_curve.PrecisionRecallDisplay at 0x2068872cdf0>"
      ]
     },
     "execution_count": 567,
     "metadata": {},
     "output_type": "execute_result"
    },
    {
     "data": {
      "image/png": "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\n",
      "text/plain": [
       "<Figure size 432x288 with 1 Axes>"
      ]
     },
     "metadata": {
      "needs_background": "light"
     },
     "output_type": "display_data"
=======
       "0.9650446626214225"
      ]
     },
     "execution_count": 121,
     "metadata": {},
     "output_type": "execute_result"
>>>>>>> c7ff238d8eeabadd9249d4f9a228d7c55fa407eb
    }
   ],
   "source": [
    "plot_precision_recall_curve(rfc,X_undersampled_train, y_undersampled_train)"
   ]
  },
  {
   "cell_type": "markdown",
   "id": "529e2b91",
   "metadata": {},
   "source": [
    "##### Undersampling the Classification Model for the 'Outcome' Variable with Tomek Links"
   ]
  },
  {
   "cell_type": "markdown",
   "id": "104ab87b",
   "metadata": {},
   "source": [
    "For this variable, given that it contains three labels, I will forfeit the random undersampling method and use instead Tomek's Links."
   ]
  },
  {
   "cell_type": "code",
<<<<<<< HEAD
   "execution_count": 568,
=======
   "execution_count": 122,
>>>>>>> c7ff238d8eeabadd9249d4f9a228d7c55fa407eb
   "id": "0fe352a3",
   "metadata": {},
   "outputs": [],
   "source": [
    "# instantiate Tomek Links undersampler\n",
    "# parameter sampling_strategy set to 'majority' to resample only the majority class\n",
    "tl= TomekLinks(sampling_strategy='majority',\n",
    "               n_jobs=4)"
   ]
  },
  {
   "cell_type": "code",
<<<<<<< HEAD
   "execution_count": 569,
=======
   "execution_count": 123,
>>>>>>> c7ff238d8eeabadd9249d4f9a228d7c55fa407eb
   "id": "b8854c9c",
   "metadata": {},
   "outputs": [],
   "source": [
    "X = df.drop(columns = ['Reported Date', 'Episode Date', 'FSA', 'Neighbourhood Name',\n",
<<<<<<< HEAD
    "                       'Outcome', 'Age Group', 'Client Gender',\n",
    "                       'Currently Hospitalized', 'Currently Intubated', 'Currently in ICU',\n",
    "                       'Ever Hospitalized', 'Ever Intubated', 'Ever in ICU'], axis=1)\n",
=======
    "                       'Outcome','Classification', 'Age Unknown', 'Gender Unknown',\n",
    "                       'Gender Not Listed: Please Specify', 'Currently Hospitalized',\n",
    "                       'Currently Intubated', 'Currently in ICU', 'Ever Hospitalized',\n",
    "                       'Ever Intubated', 'Ever in ICU'], axis=1)\n",
>>>>>>> c7ff238d8eeabadd9249d4f9a228d7c55fa407eb
    "y = df['Outcome']"
   ]
  },
  {
   "cell_type": "code",
<<<<<<< HEAD
   "execution_count": 570,
=======
   "execution_count": 124,
>>>>>>> c7ff238d8eeabadd9249d4f9a228d7c55fa407eb
   "id": "4ff0f26a",
   "metadata": {},
   "outputs": [
    {
     "data": {
      "text/plain": [
<<<<<<< HEAD
       "((73478, 4), (73478,))"
      ]
     },
     "execution_count": 570,
=======
       "((24541, 26), (24541,))"
      ]
     },
     "execution_count": 124,
>>>>>>> c7ff238d8eeabadd9249d4f9a228d7c55fa407eb
     "metadata": {},
     "output_type": "execute_result"
    }
   ],
   "source": [
    "X_undersampled_tl, y_undersampled_tl = tl.fit_resample(X, y.ravel())\n",
    "X_undersampled_train, X_undersampled_test, y_undersampled_train, y_undersampled_test = train_test_split(X_undersampled, y_undersampled, train_size = 0.25, random_state = 20)\n",
    "X_undersampled_train.shape, y_undersampled_train.shape"
   ]
  },
  {
   "cell_type": "code",
<<<<<<< HEAD
   "execution_count": 571,
=======
   "execution_count": 125,
>>>>>>> c7ff238d8eeabadd9249d4f9a228d7c55fa407eb
   "id": "55f7bfc1",
   "metadata": {},
   "outputs": [],
   "source": [
    "lr= LogisticRegressionCV(solver='newton-cg', n_jobs=4, multi_class = 'multinomial')\n",
    "model = rfc.fit(X_undersampled_train, y_undersampled_train)\n",
    "y_undersampled_pred_tl = rfc.predict(X_undersampled_test)"
   ]
  },
  {
   "cell_type": "code",
<<<<<<< HEAD
   "execution_count": 572,
=======
   "execution_count": 126,
>>>>>>> c7ff238d8eeabadd9249d4f9a228d7c55fa407eb
   "id": "a7fd20d1",
   "metadata": {},
   "outputs": [
    {
<<<<<<< HEAD
     "name": "stderr",
     "output_type": "stream",
     "text": [
      "C:\\Users\\migue\\anaconda3\\lib\\site-packages\\sklearn\\metrics\\_classification.py:1221: UndefinedMetricWarning: Precision and F-score are ill-defined and being set to 0.0 in labels with no predicted samples. Use `zero_division` parameter to control this behavior.\n",
      "  _warn_prf(average, modifier, msg_start, len(result))\n",
      "C:\\Users\\migue\\anaconda3\\lib\\site-packages\\sklearn\\metrics\\_classification.py:1221: UndefinedMetricWarning: Recall and F-score are ill-defined and being set to 0.0 in labels with no true samples. Use `zero_division` parameter to control this behavior.\n",
      "  _warn_prf(average, modifier, msg_start, len(result))\n"
     ]
    },
    {
=======
>>>>>>> c7ff238d8eeabadd9249d4f9a228d7c55fa407eb
     "name": "stdout",
     "output_type": "stream",
     "text": [
      "              precision    recall  f1-score   support\n",
      "\n",
<<<<<<< HEAD
      "           1       0.92      0.81      0.86     24545\n",
      "           2       0.00      0.00      0.00         0\n",
      "           3       0.00      0.00      0.00         0\n",
      "\n",
      "   micro avg       0.92      0.81      0.86     24545\n",
      "   macro avg       0.31      0.27      0.29     24545\n",
      "weighted avg       0.92      0.81      0.86     24545\n",
      "\n"
     ]
=======
      "           1       0.98      0.94      0.96     24510\n",
      "           2       0.00      0.00      0.00         0\n",
      "           3       0.00      0.00      0.00         0\n",
      "\n",
      "   micro avg       0.98      0.94      0.96     24510\n",
      "   macro avg       0.33      0.31      0.32     24510\n",
      "weighted avg       0.98      0.94      0.96     24510\n",
      "\n"
     ]
    },
    {
     "name": "stderr",
     "output_type": "stream",
     "text": [
      "C:\\Users\\migue\\anaconda3\\lib\\site-packages\\sklearn\\metrics\\_classification.py:1221: UndefinedMetricWarning: Precision and F-score are ill-defined and being set to 0.0 in labels with no predicted samples. Use `zero_division` parameter to control this behavior.\n",
      "  _warn_prf(average, modifier, msg_start, len(result))\n",
      "C:\\Users\\migue\\anaconda3\\lib\\site-packages\\sklearn\\metrics\\_classification.py:1221: UndefinedMetricWarning: Recall and F-score are ill-defined and being set to 0.0 in labels with no true samples. Use `zero_division` parameter to control this behavior.\n",
      "  _warn_prf(average, modifier, msg_start, len(result))\n"
     ]
>>>>>>> c7ff238d8eeabadd9249d4f9a228d7c55fa407eb
    }
   ],
   "source": [
    "print(classification_report(y_undersampled_test, y_undersampled_pred_tl, labels=[1,2,3]))"
   ]
  },
  {
   "cell_type": "markdown",
   "id": "cf9df5fb",
   "metadata": {},
   "source": [
    "Tomek Link's are not making the classifier any better, as only the majority class is identified."
   ]
  },
  {
   "cell_type": "markdown",
   "id": "8fa17fc8",
   "metadata": {},
   "source": [
    "### Classifying Cases Given Source Neighborhood Name"
   ]
  },
  {
   "cell_type": "markdown",
   "id": "c15424de",
   "metadata": {},
   "source": [
    "Can cases, be them confirmed or probable, explained by the neighborhood, the postal code and how the infection took place? Using the [Naive Bayes approach](https://jakevdp.github.io/PythonDataScienceHandbook/05.05-naive-bayes.html), I am going to build a classifier able to distinguish between cases that are confirmed or probable by looking at the place they were reported."
   ]
  },
  {
   "cell_type": "code",
<<<<<<< HEAD
   "execution_count": 573,
=======
   "execution_count": 127,
>>>>>>> c7ff238d8eeabadd9249d4f9a228d7c55fa407eb
   "id": "1bf67153",
   "metadata": {},
   "outputs": [
    {
     "data": {
      "text/html": [
       "<div>\n",
       "<style scoped>\n",
       "    .dataframe tbody tr th:only-of-type {\n",
       "        vertical-align: middle;\n",
       "    }\n",
       "\n",
       "    .dataframe tbody tr th {\n",
       "        vertical-align: top;\n",
       "    }\n",
       "\n",
       "    .dataframe thead th {\n",
       "        text-align: right;\n",
       "    }\n",
       "</style>\n",
       "<table border=\"1\" class=\"dataframe\">\n",
       "  <thead>\n",
       "    <tr style=\"text-align: right;\">\n",
       "      <th></th>\n",
       "      <th>_id</th>\n",
       "      <th>Outbreak Associated</th>\n",
       "      <th>Age Group</th>\n",
       "      <th>Neighbourhood Name</th>\n",
       "      <th>FSA</th>\n",
       "      <th>Source of Infection</th>\n",
       "      <th>Classification</th>\n",
       "      <th>Episode Date</th>\n",
       "      <th>Reported Date</th>\n",
       "      <th>Client Gender</th>\n",
       "      <th>Outcome</th>\n",
       "      <th>Currently Hospitalized</th>\n",
       "      <th>Currently in ICU</th>\n",
       "      <th>Currently Intubated</th>\n",
       "      <th>Ever Hospitalized</th>\n",
       "      <th>Ever in ICU</th>\n",
       "      <th>Ever Intubated</th>\n",
       "    </tr>\n",
       "    <tr>\n",
       "      <th>Assigned_ID</th>\n",
       "      <th></th>\n",
       "      <th></th>\n",
       "      <th></th>\n",
       "      <th></th>\n",
       "      <th></th>\n",
       "      <th></th>\n",
       "      <th></th>\n",
       "      <th></th>\n",
       "      <th></th>\n",
       "      <th></th>\n",
       "      <th></th>\n",
       "      <th></th>\n",
       "      <th></th>\n",
       "      <th></th>\n",
       "      <th></th>\n",
       "      <th></th>\n",
       "      <th></th>\n",
       "    </tr>\n",
       "  </thead>\n",
       "  <tbody>\n",
       "    <tr>\n",
       "      <th>1</th>\n",
       "      <td>1</td>\n",
       "      <td>Sporadic</td>\n",
       "      <td>50 to 59 Years</td>\n",
       "      <td>Willowdale East</td>\n",
       "      <td>M2N</td>\n",
       "      <td>Travel</td>\n",
       "      <td>CONFIRMED</td>\n",
       "      <td>2020-01-22</td>\n",
       "      <td>2020-01-23</td>\n",
       "      <td>FEMALE</td>\n",
       "      <td>RESOLVED</td>\n",
       "      <td>No</td>\n",
       "      <td>No</td>\n",
       "      <td>No</td>\n",
       "      <td>No</td>\n",
       "      <td>No</td>\n",
       "      <td>No</td>\n",
       "    </tr>\n",
       "    <tr>\n",
       "      <th>2</th>\n",
       "      <td>2</td>\n",
       "      <td>Sporadic</td>\n",
       "      <td>50 to 59 Years</td>\n",
       "      <td>Willowdale East</td>\n",
       "      <td>M2N</td>\n",
       "      <td>Travel</td>\n",
       "      <td>CONFIRMED</td>\n",
       "      <td>2020-01-21</td>\n",
       "      <td>2020-01-23</td>\n",
       "      <td>MALE</td>\n",
       "      <td>RESOLVED</td>\n",
       "      <td>No</td>\n",
       "      <td>No</td>\n",
       "      <td>No</td>\n",
       "      <td>Yes</td>\n",
       "      <td>No</td>\n",
       "      <td>No</td>\n",
       "    </tr>\n",
       "    <tr>\n",
       "      <th>3</th>\n",
       "      <td>3</td>\n",
       "      <td>Sporadic</td>\n",
       "      <td>20 to 29 Years</td>\n",
       "      <td>Parkwoods-Donalda</td>\n",
       "      <td>M3A</td>\n",
       "      <td>Travel</td>\n",
       "      <td>CONFIRMED</td>\n",
       "      <td>2020-02-05</td>\n",
       "      <td>2020-02-21</td>\n",
       "      <td>FEMALE</td>\n",
       "      <td>RESOLVED</td>\n",
       "      <td>No</td>\n",
       "      <td>No</td>\n",
       "      <td>No</td>\n",
       "      <td>No</td>\n",
       "      <td>No</td>\n",
       "      <td>No</td>\n",
       "    </tr>\n",
       "    <tr>\n",
       "      <th>4</th>\n",
       "      <td>4</td>\n",
       "      <td>Sporadic</td>\n",
       "      <td>60 to 69 Years</td>\n",
       "      <td>Church-Yonge Corridor</td>\n",
       "      <td>M4W</td>\n",
       "      <td>Travel</td>\n",
       "      <td>CONFIRMED</td>\n",
       "      <td>2020-02-16</td>\n",
       "      <td>2020-02-25</td>\n",
       "      <td>FEMALE</td>\n",
       "      <td>RESOLVED</td>\n",
       "      <td>No</td>\n",
       "      <td>No</td>\n",
       "      <td>No</td>\n",
       "      <td>No</td>\n",
       "      <td>No</td>\n",
       "      <td>No</td>\n",
       "    </tr>\n",
       "    <tr>\n",
       "      <th>5</th>\n",
       "      <td>5</td>\n",
       "      <td>Sporadic</td>\n",
       "      <td>60 to 69 Years</td>\n",
       "      <td>Church-Yonge Corridor</td>\n",
       "      <td>M4W</td>\n",
       "      <td>Travel</td>\n",
       "      <td>CONFIRMED</td>\n",
       "      <td>2020-02-20</td>\n",
       "      <td>2020-02-26</td>\n",
       "      <td>MALE</td>\n",
       "      <td>RESOLVED</td>\n",
       "      <td>No</td>\n",
       "      <td>No</td>\n",
       "      <td>No</td>\n",
       "      <td>No</td>\n",
       "      <td>No</td>\n",
       "      <td>No</td>\n",
       "    </tr>\n",
       "    <tr>\n",
       "      <th>...</th>\n",
       "      <td>...</td>\n",
       "      <td>...</td>\n",
       "      <td>...</td>\n",
       "      <td>...</td>\n",
       "      <td>...</td>\n",
       "      <td>...</td>\n",
       "      <td>...</td>\n",
       "      <td>...</td>\n",
       "      <td>...</td>\n",
       "      <td>...</td>\n",
       "      <td>...</td>\n",
       "      <td>...</td>\n",
       "      <td>...</td>\n",
       "      <td>...</td>\n",
       "      <td>...</td>\n",
       "      <td>...</td>\n",
       "      <td>...</td>\n",
       "    </tr>\n",
       "    <tr>\n",
       "      <th>306865</th>\n",
       "      <td>298908</td>\n",
       "      <td>Sporadic</td>\n",
       "      <td>40 to 49 Years</td>\n",
       "      <td>Church-Yonge Corridor</td>\n",
       "      <td>M5C</td>\n",
       "      <td>No Information</td>\n",
       "      <td>CONFIRMED</td>\n",
       "      <td>2022-03-25</td>\n",
       "      <td>2022-03-29</td>\n",
       "      <td>MALE</td>\n",
       "      <td>ACTIVE</td>\n",
       "      <td>No</td>\n",
       "      <td>No</td>\n",
       "      <td>No</td>\n",
       "      <td>No</td>\n",
       "      <td>No</td>\n",
       "      <td>No</td>\n",
       "    </tr>\n",
       "    <tr>\n",
       "      <th>306866</th>\n",
       "      <td>298909</td>\n",
       "      <td>Sporadic</td>\n",
       "      <td>70 to 79 Years</td>\n",
       "      <td>Eglinton East</td>\n",
       "      <td>M1J</td>\n",
       "      <td>No Information</td>\n",
       "      <td>CONFIRMED</td>\n",
       "      <td>2022-03-26</td>\n",
       "      <td>2022-03-29</td>\n",
       "      <td>FEMALE</td>\n",
       "      <td>ACTIVE</td>\n",
       "      <td>No</td>\n",
       "      <td>No</td>\n",
       "      <td>No</td>\n",
       "      <td>No</td>\n",
       "      <td>No</td>\n",
       "      <td>No</td>\n",
       "    </tr>\n",
       "    <tr>\n",
       "      <th>306867</th>\n",
       "      <td>298910</td>\n",
       "      <td>Sporadic</td>\n",
       "      <td>19 and younger</td>\n",
       "      <td>North Riverdale</td>\n",
       "      <td>M4K</td>\n",
       "      <td>No Information</td>\n",
       "      <td>CONFIRMED</td>\n",
       "      <td>2022-03-28</td>\n",
       "      <td>2022-03-29</td>\n",
       "      <td>UNKNOWN</td>\n",
       "      <td>ACTIVE</td>\n",
       "      <td>No</td>\n",
       "      <td>No</td>\n",
       "      <td>No</td>\n",
       "      <td>No</td>\n",
       "      <td>No</td>\n",
       "      <td>No</td>\n",
       "    </tr>\n",
       "    <tr>\n",
       "      <th>306868</th>\n",
       "      <td>298911</td>\n",
       "      <td>Sporadic</td>\n",
       "      <td>20 to 29 Years</td>\n",
       "      <td>West Humber-Clairville</td>\n",
       "      <td>M9W</td>\n",
       "      <td>No Information</td>\n",
       "      <td>CONFIRMED</td>\n",
       "      <td>2022-03-28</td>\n",
       "      <td>2022-03-29</td>\n",
       "      <td>FEMALE</td>\n",
       "      <td>ACTIVE</td>\n",
       "      <td>No</td>\n",
       "      <td>No</td>\n",
       "      <td>No</td>\n",
       "      <td>No</td>\n",
       "      <td>No</td>\n",
       "      <td>No</td>\n",
       "    </tr>\n",
       "    <tr>\n",
       "      <th>306869</th>\n",
       "      <td>298912</td>\n",
       "      <td>Sporadic</td>\n",
       "      <td>19 and younger</td>\n",
       "      <td>Roncesvalles</td>\n",
       "      <td>M6R</td>\n",
       "      <td>No Information</td>\n",
       "      <td>CONFIRMED</td>\n",
       "      <td>2022-03-17</td>\n",
       "      <td>2022-03-17</td>\n",
       "      <td>MALE</td>\n",
       "      <td>ACTIVE</td>\n",
       "      <td>No</td>\n",
       "      <td>No</td>\n",
       "      <td>No</td>\n",
       "      <td>No</td>\n",
       "      <td>No</td>\n",
       "      <td>No</td>\n",
       "    </tr>\n",
       "  </tbody>\n",
       "</table>\n",
       "<p>298912 rows × 17 columns</p>\n",
       "</div>"
      ],
      "text/plain": [
       "                _id Outbreak Associated       Age Group  \\\n",
       "Assigned_ID                                               \n",
       "1                 1            Sporadic  50 to 59 Years   \n",
       "2                 2            Sporadic  50 to 59 Years   \n",
       "3                 3            Sporadic  20 to 29 Years   \n",
       "4                 4            Sporadic  60 to 69 Years   \n",
       "5                 5            Sporadic  60 to 69 Years   \n",
       "...             ...                 ...             ...   \n",
       "306865       298908            Sporadic  40 to 49 Years   \n",
       "306866       298909            Sporadic  70 to 79 Years   \n",
       "306867       298910            Sporadic  19 and younger   \n",
       "306868       298911            Sporadic  20 to 29 Years   \n",
       "306869       298912            Sporadic  19 and younger   \n",
       "\n",
       "                 Neighbourhood Name  FSA Source of Infection Classification  \\\n",
       "Assigned_ID                                                                   \n",
       "1                   Willowdale East  M2N              Travel      CONFIRMED   \n",
       "2                   Willowdale East  M2N              Travel      CONFIRMED   \n",
       "3                 Parkwoods-Donalda  M3A              Travel      CONFIRMED   \n",
       "4             Church-Yonge Corridor  M4W              Travel      CONFIRMED   \n",
       "5             Church-Yonge Corridor  M4W              Travel      CONFIRMED   \n",
       "...                             ...  ...                 ...            ...   \n",
       "306865        Church-Yonge Corridor  M5C      No Information      CONFIRMED   \n",
       "306866                Eglinton East  M1J      No Information      CONFIRMED   \n",
       "306867              North Riverdale  M4K      No Information      CONFIRMED   \n",
       "306868       West Humber-Clairville  M9W      No Information      CONFIRMED   \n",
       "306869                 Roncesvalles  M6R      No Information      CONFIRMED   \n",
       "\n",
       "            Episode Date Reported Date Client Gender   Outcome  \\\n",
       "Assigned_ID                                                      \n",
       "1             2020-01-22    2020-01-23        FEMALE  RESOLVED   \n",
       "2             2020-01-21    2020-01-23          MALE  RESOLVED   \n",
       "3             2020-02-05    2020-02-21        FEMALE  RESOLVED   \n",
       "4             2020-02-16    2020-02-25        FEMALE  RESOLVED   \n",
       "5             2020-02-20    2020-02-26          MALE  RESOLVED   \n",
       "...                  ...           ...           ...       ...   \n",
       "306865        2022-03-25    2022-03-29          MALE    ACTIVE   \n",
       "306866        2022-03-26    2022-03-29        FEMALE    ACTIVE   \n",
       "306867        2022-03-28    2022-03-29       UNKNOWN    ACTIVE   \n",
       "306868        2022-03-28    2022-03-29        FEMALE    ACTIVE   \n",
       "306869        2022-03-17    2022-03-17          MALE    ACTIVE   \n",
       "\n",
       "            Currently Hospitalized Currently in ICU Currently Intubated  \\\n",
       "Assigned_ID                                                               \n",
       "1                               No               No                  No   \n",
       "2                               No               No                  No   \n",
       "3                               No               No                  No   \n",
       "4                               No               No                  No   \n",
       "5                               No               No                  No   \n",
       "...                            ...              ...                 ...   \n",
       "306865                          No               No                  No   \n",
       "306866                          No               No                  No   \n",
       "306867                          No               No                  No   \n",
       "306868                          No               No                  No   \n",
       "306869                          No               No                  No   \n",
       "\n",
       "            Ever Hospitalized Ever in ICU Ever Intubated  \n",
       "Assigned_ID                                               \n",
       "1                          No          No             No  \n",
       "2                         Yes          No             No  \n",
       "3                          No          No             No  \n",
       "4                          No          No             No  \n",
       "5                          No          No             No  \n",
       "...                       ...         ...            ...  \n",
       "306865                     No          No             No  \n",
       "306866                     No          No             No  \n",
       "306867                     No          No             No  \n",
       "306868                     No          No             No  \n",
       "306869                     No          No             No  \n",
       "\n",
       "[298912 rows x 17 columns]"
      ]
     },
<<<<<<< HEAD
     "execution_count": 573,
=======
     "execution_count": 127,
>>>>>>> c7ff238d8eeabadd9249d4f9a228d7c55fa407eb
     "metadata": {},
     "output_type": "execute_result"
    }
   ],
   "source": [
    "# bring up the copy of the df\n",
    "df_nlp"
   ]
  },
  {
   "cell_type": "markdown",
   "id": "1e866cf9",
   "metadata": {},
   "source": [
    "As seen above, I am going to use the copy I stored at the beginning of the project. The reason why I am proceeding this way is that I dont want to use encoded values for my inputs, and I just to encode my target. Let's first be reminded of the distribution of values and have that in mind should it becomes a factor. The majority class will be 'Confirmed', whereas the minority will be 'Probable.'"
   ]
  },
  {
   "cell_type": "code",
<<<<<<< HEAD
   "execution_count": 574,
=======
   "execution_count": 128,
>>>>>>> c7ff238d8eeabadd9249d4f9a228d7c55fa407eb
   "id": "877f72bd",
   "metadata": {},
   "outputs": [
    {
     "data": {
      "text/plain": [
       "CONFIRMED    288691\n",
       "PROBABLE      10221\n",
       "Name: Classification, dtype: int64"
      ]
     },
<<<<<<< HEAD
     "execution_count": 574,
=======
     "execution_count": 128,
>>>>>>> c7ff238d8eeabadd9249d4f9a228d7c55fa407eb
     "metadata": {},
     "output_type": "execute_result"
    }
   ],
   "source": [
    "df_nlp['Classification'].value_counts()"
   ]
  },
  {
   "cell_type": "code",
<<<<<<< HEAD
   "execution_count": 575,
=======
   "execution_count": 129,
>>>>>>> c7ff238d8eeabadd9249d4f9a228d7c55fa407eb
   "id": "848f3f0a",
   "metadata": {},
   "outputs": [],
   "source": [
    "# encode the variable\n",
    "df_nlp['Classification'] = df_nlp['Classification'].map({'CONFIRMED': '0', 'PROBABLE': '1'})"
   ]
  },
  {
   "cell_type": "markdown",
   "id": "2d0a8368",
   "metadata": {},
   "source": [
    "There seems to be a few null values. Let's replace it with a generic placeholder that won't skew the text processing."
   ]
  },
  {
   "cell_type": "code",
<<<<<<< HEAD
   "execution_count": 576,
=======
   "execution_count": 130,
>>>>>>> c7ff238d8eeabadd9249d4f9a228d7c55fa407eb
   "id": "2a94f491",
   "metadata": {},
   "outputs": [
    {
     "data": {
      "text/plain": [
       "_id                          0\n",
       "Outbreak Associated          0\n",
       "Age Group                  274\n",
       "Neighbourhood Name        7668\n",
       "FSA                       4073\n",
       "Source of Infection          0\n",
       "Classification               0\n",
       "Episode Date                 0\n",
       "Reported Date                0\n",
       "Client Gender                0\n",
       "Outcome                      0\n",
       "Currently Hospitalized       0\n",
       "Currently in ICU             0\n",
       "Currently Intubated          0\n",
       "Ever Hospitalized            0\n",
       "Ever in ICU                  0\n",
       "Ever Intubated               0\n",
       "dtype: int64"
      ]
     },
<<<<<<< HEAD
     "execution_count": 576,
=======
     "execution_count": 130,
>>>>>>> c7ff238d8eeabadd9249d4f9a228d7c55fa407eb
     "metadata": {},
     "output_type": "execute_result"
    }
   ],
   "source": [
    "df_nlp.isnull().sum()"
   ]
  },
  {
   "cell_type": "code",
<<<<<<< HEAD
   "execution_count": 577,
=======
   "execution_count": 131,
>>>>>>> c7ff238d8eeabadd9249d4f9a228d7c55fa407eb
   "id": "61b14620",
   "metadata": {},
   "outputs": [
    {
     "data": {
      "text/html": [
       "<div>\n",
       "<style scoped>\n",
       "    .dataframe tbody tr th:only-of-type {\n",
       "        vertical-align: middle;\n",
       "    }\n",
       "\n",
       "    .dataframe tbody tr th {\n",
       "        vertical-align: top;\n",
       "    }\n",
       "\n",
       "    .dataframe thead th {\n",
       "        text-align: right;\n",
       "    }\n",
       "</style>\n",
       "<table border=\"1\" class=\"dataframe\">\n",
       "  <thead>\n",
       "    <tr style=\"text-align: right;\">\n",
       "      <th></th>\n",
       "      <th>_id</th>\n",
       "      <th>Outbreak Associated</th>\n",
       "      <th>Age Group</th>\n",
       "      <th>Neighbourhood Name</th>\n",
       "      <th>FSA</th>\n",
       "      <th>Source of Infection</th>\n",
       "      <th>Classification</th>\n",
       "      <th>Episode Date</th>\n",
       "      <th>Reported Date</th>\n",
       "      <th>Client Gender</th>\n",
       "      <th>Outcome</th>\n",
       "      <th>Currently Hospitalized</th>\n",
       "      <th>Currently in ICU</th>\n",
       "      <th>Currently Intubated</th>\n",
       "      <th>Ever Hospitalized</th>\n",
       "      <th>Ever in ICU</th>\n",
       "      <th>Ever Intubated</th>\n",
       "    </tr>\n",
       "    <tr>\n",
       "      <th>Assigned_ID</th>\n",
       "      <th></th>\n",
       "      <th></th>\n",
       "      <th></th>\n",
       "      <th></th>\n",
       "      <th></th>\n",
       "      <th></th>\n",
       "      <th></th>\n",
       "      <th></th>\n",
       "      <th></th>\n",
       "      <th></th>\n",
       "      <th></th>\n",
       "      <th></th>\n",
       "      <th></th>\n",
       "      <th></th>\n",
       "      <th></th>\n",
       "      <th></th>\n",
       "      <th></th>\n",
       "    </tr>\n",
       "  </thead>\n",
       "  <tbody>\n",
       "    <tr>\n",
       "      <th>1</th>\n",
       "      <td>1</td>\n",
       "      <td>Sporadic</td>\n",
       "      <td>50 to 59 Years</td>\n",
       "      <td>Willowdale East</td>\n",
       "      <td>M2N</td>\n",
       "      <td>Travel</td>\n",
       "      <td>0</td>\n",
       "      <td>2020-01-22</td>\n",
       "      <td>2020-01-23</td>\n",
       "      <td>FEMALE</td>\n",
       "      <td>RESOLVED</td>\n",
       "      <td>No</td>\n",
       "      <td>No</td>\n",
       "      <td>No</td>\n",
       "      <td>No</td>\n",
       "      <td>No</td>\n",
       "      <td>No</td>\n",
       "    </tr>\n",
       "    <tr>\n",
       "      <th>2</th>\n",
       "      <td>2</td>\n",
       "      <td>Sporadic</td>\n",
       "      <td>50 to 59 Years</td>\n",
       "      <td>Willowdale East</td>\n",
       "      <td>M2N</td>\n",
       "      <td>Travel</td>\n",
       "      <td>0</td>\n",
       "      <td>2020-01-21</td>\n",
       "      <td>2020-01-23</td>\n",
       "      <td>MALE</td>\n",
       "      <td>RESOLVED</td>\n",
       "      <td>No</td>\n",
       "      <td>No</td>\n",
       "      <td>No</td>\n",
       "      <td>Yes</td>\n",
       "      <td>No</td>\n",
       "      <td>No</td>\n",
       "    </tr>\n",
       "    <tr>\n",
       "      <th>3</th>\n",
       "      <td>3</td>\n",
       "      <td>Sporadic</td>\n",
       "      <td>20 to 29 Years</td>\n",
       "      <td>Parkwoods-Donalda</td>\n",
       "      <td>M3A</td>\n",
       "      <td>Travel</td>\n",
       "      <td>0</td>\n",
       "      <td>2020-02-05</td>\n",
       "      <td>2020-02-21</td>\n",
       "      <td>FEMALE</td>\n",
       "      <td>RESOLVED</td>\n",
       "      <td>No</td>\n",
       "      <td>No</td>\n",
       "      <td>No</td>\n",
       "      <td>No</td>\n",
       "      <td>No</td>\n",
       "      <td>No</td>\n",
       "    </tr>\n",
       "    <tr>\n",
       "      <th>4</th>\n",
       "      <td>4</td>\n",
       "      <td>Sporadic</td>\n",
       "      <td>60 to 69 Years</td>\n",
       "      <td>Church-Yonge Corridor</td>\n",
       "      <td>M4W</td>\n",
       "      <td>Travel</td>\n",
       "      <td>0</td>\n",
       "      <td>2020-02-16</td>\n",
       "      <td>2020-02-25</td>\n",
       "      <td>FEMALE</td>\n",
       "      <td>RESOLVED</td>\n",
       "      <td>No</td>\n",
       "      <td>No</td>\n",
       "      <td>No</td>\n",
       "      <td>No</td>\n",
       "      <td>No</td>\n",
       "      <td>No</td>\n",
       "    </tr>\n",
       "    <tr>\n",
       "      <th>5</th>\n",
       "      <td>5</td>\n",
       "      <td>Sporadic</td>\n",
       "      <td>60 to 69 Years</td>\n",
       "      <td>Church-Yonge Corridor</td>\n",
       "      <td>M4W</td>\n",
       "      <td>Travel</td>\n",
       "      <td>0</td>\n",
       "      <td>2020-02-20</td>\n",
       "      <td>2020-02-26</td>\n",
       "      <td>MALE</td>\n",
       "      <td>RESOLVED</td>\n",
       "      <td>No</td>\n",
       "      <td>No</td>\n",
       "      <td>No</td>\n",
       "      <td>No</td>\n",
       "      <td>No</td>\n",
       "      <td>No</td>\n",
       "    </tr>\n",
       "    <tr>\n",
       "      <th>...</th>\n",
       "      <td>...</td>\n",
       "      <td>...</td>\n",
       "      <td>...</td>\n",
       "      <td>...</td>\n",
       "      <td>...</td>\n",
       "      <td>...</td>\n",
       "      <td>...</td>\n",
       "      <td>...</td>\n",
       "      <td>...</td>\n",
       "      <td>...</td>\n",
       "      <td>...</td>\n",
       "      <td>...</td>\n",
       "      <td>...</td>\n",
       "      <td>...</td>\n",
       "      <td>...</td>\n",
       "      <td>...</td>\n",
       "      <td>...</td>\n",
       "    </tr>\n",
       "    <tr>\n",
       "      <th>306865</th>\n",
       "      <td>298908</td>\n",
       "      <td>Sporadic</td>\n",
       "      <td>40 to 49 Years</td>\n",
       "      <td>Church-Yonge Corridor</td>\n",
       "      <td>M5C</td>\n",
       "      <td>No Information</td>\n",
       "      <td>0</td>\n",
       "      <td>2022-03-25</td>\n",
       "      <td>2022-03-29</td>\n",
       "      <td>MALE</td>\n",
       "      <td>ACTIVE</td>\n",
       "      <td>No</td>\n",
       "      <td>No</td>\n",
       "      <td>No</td>\n",
       "      <td>No</td>\n",
       "      <td>No</td>\n",
       "      <td>No</td>\n",
       "    </tr>\n",
       "    <tr>\n",
       "      <th>306866</th>\n",
       "      <td>298909</td>\n",
       "      <td>Sporadic</td>\n",
       "      <td>70 to 79 Years</td>\n",
       "      <td>Eglinton East</td>\n",
       "      <td>M1J</td>\n",
       "      <td>No Information</td>\n",
       "      <td>0</td>\n",
       "      <td>2022-03-26</td>\n",
       "      <td>2022-03-29</td>\n",
       "      <td>FEMALE</td>\n",
       "      <td>ACTIVE</td>\n",
       "      <td>No</td>\n",
       "      <td>No</td>\n",
       "      <td>No</td>\n",
       "      <td>No</td>\n",
       "      <td>No</td>\n",
       "      <td>No</td>\n",
       "    </tr>\n",
       "    <tr>\n",
       "      <th>306867</th>\n",
       "      <td>298910</td>\n",
       "      <td>Sporadic</td>\n",
       "      <td>19 and younger</td>\n",
       "      <td>North Riverdale</td>\n",
       "      <td>M4K</td>\n",
       "      <td>No Information</td>\n",
       "      <td>0</td>\n",
       "      <td>2022-03-28</td>\n",
       "      <td>2022-03-29</td>\n",
       "      <td>UNKNOWN</td>\n",
       "      <td>ACTIVE</td>\n",
       "      <td>No</td>\n",
       "      <td>No</td>\n",
       "      <td>No</td>\n",
       "      <td>No</td>\n",
       "      <td>No</td>\n",
       "      <td>No</td>\n",
       "    </tr>\n",
       "    <tr>\n",
       "      <th>306868</th>\n",
       "      <td>298911</td>\n",
       "      <td>Sporadic</td>\n",
       "      <td>20 to 29 Years</td>\n",
       "      <td>West Humber-Clairville</td>\n",
       "      <td>M9W</td>\n",
       "      <td>No Information</td>\n",
       "      <td>0</td>\n",
       "      <td>2022-03-28</td>\n",
       "      <td>2022-03-29</td>\n",
       "      <td>FEMALE</td>\n",
       "      <td>ACTIVE</td>\n",
       "      <td>No</td>\n",
       "      <td>No</td>\n",
       "      <td>No</td>\n",
       "      <td>No</td>\n",
       "      <td>No</td>\n",
       "      <td>No</td>\n",
       "    </tr>\n",
       "    <tr>\n",
       "      <th>306869</th>\n",
       "      <td>298912</td>\n",
       "      <td>Sporadic</td>\n",
       "      <td>19 and younger</td>\n",
       "      <td>Roncesvalles</td>\n",
       "      <td>M6R</td>\n",
       "      <td>No Information</td>\n",
       "      <td>0</td>\n",
       "      <td>2022-03-17</td>\n",
       "      <td>2022-03-17</td>\n",
       "      <td>MALE</td>\n",
       "      <td>ACTIVE</td>\n",
       "      <td>No</td>\n",
       "      <td>No</td>\n",
       "      <td>No</td>\n",
       "      <td>No</td>\n",
       "      <td>No</td>\n",
       "      <td>No</td>\n",
       "    </tr>\n",
       "  </tbody>\n",
       "</table>\n",
       "<p>298912 rows × 17 columns</p>\n",
       "</div>"
      ],
      "text/plain": [
       "                _id Outbreak Associated       Age Group  \\\n",
       "Assigned_ID                                               \n",
       "1                 1            Sporadic  50 to 59 Years   \n",
       "2                 2            Sporadic  50 to 59 Years   \n",
       "3                 3            Sporadic  20 to 29 Years   \n",
       "4                 4            Sporadic  60 to 69 Years   \n",
       "5                 5            Sporadic  60 to 69 Years   \n",
       "...             ...                 ...             ...   \n",
       "306865       298908            Sporadic  40 to 49 Years   \n",
       "306866       298909            Sporadic  70 to 79 Years   \n",
       "306867       298910            Sporadic  19 and younger   \n",
       "306868       298911            Sporadic  20 to 29 Years   \n",
       "306869       298912            Sporadic  19 and younger   \n",
       "\n",
       "                 Neighbourhood Name  FSA Source of Infection Classification  \\\n",
       "Assigned_ID                                                                   \n",
       "1                   Willowdale East  M2N              Travel              0   \n",
       "2                   Willowdale East  M2N              Travel              0   \n",
       "3                 Parkwoods-Donalda  M3A              Travel              0   \n",
       "4             Church-Yonge Corridor  M4W              Travel              0   \n",
       "5             Church-Yonge Corridor  M4W              Travel              0   \n",
       "...                             ...  ...                 ...            ...   \n",
       "306865        Church-Yonge Corridor  M5C      No Information              0   \n",
       "306866                Eglinton East  M1J      No Information              0   \n",
       "306867              North Riverdale  M4K      No Information              0   \n",
       "306868       West Humber-Clairville  M9W      No Information              0   \n",
       "306869                 Roncesvalles  M6R      No Information              0   \n",
       "\n",
       "            Episode Date Reported Date Client Gender   Outcome  \\\n",
       "Assigned_ID                                                      \n",
       "1             2020-01-22    2020-01-23        FEMALE  RESOLVED   \n",
       "2             2020-01-21    2020-01-23          MALE  RESOLVED   \n",
       "3             2020-02-05    2020-02-21        FEMALE  RESOLVED   \n",
       "4             2020-02-16    2020-02-25        FEMALE  RESOLVED   \n",
       "5             2020-02-20    2020-02-26          MALE  RESOLVED   \n",
       "...                  ...           ...           ...       ...   \n",
       "306865        2022-03-25    2022-03-29          MALE    ACTIVE   \n",
       "306866        2022-03-26    2022-03-29        FEMALE    ACTIVE   \n",
       "306867        2022-03-28    2022-03-29       UNKNOWN    ACTIVE   \n",
       "306868        2022-03-28    2022-03-29        FEMALE    ACTIVE   \n",
       "306869        2022-03-17    2022-03-17          MALE    ACTIVE   \n",
       "\n",
       "            Currently Hospitalized Currently in ICU Currently Intubated  \\\n",
       "Assigned_ID                                                               \n",
       "1                               No               No                  No   \n",
       "2                               No               No                  No   \n",
       "3                               No               No                  No   \n",
       "4                               No               No                  No   \n",
       "5                               No               No                  No   \n",
       "...                            ...              ...                 ...   \n",
       "306865                          No               No                  No   \n",
       "306866                          No               No                  No   \n",
       "306867                          No               No                  No   \n",
       "306868                          No               No                  No   \n",
       "306869                          No               No                  No   \n",
       "\n",
       "            Ever Hospitalized Ever in ICU Ever Intubated  \n",
       "Assigned_ID                                               \n",
       "1                          No          No             No  \n",
       "2                         Yes          No             No  \n",
       "3                          No          No             No  \n",
       "4                          No          No             No  \n",
       "5                          No          No             No  \n",
       "...                       ...         ...            ...  \n",
       "306865                     No          No             No  \n",
       "306866                     No          No             No  \n",
       "306867                     No          No             No  \n",
       "306868                     No          No             No  \n",
       "306869                     No          No             No  \n",
       "\n",
       "[298912 rows x 17 columns]"
      ]
     },
<<<<<<< HEAD
     "execution_count": 577,
=======
     "execution_count": 131,
>>>>>>> c7ff238d8eeabadd9249d4f9a228d7c55fa407eb
     "metadata": {},
     "output_type": "execute_result"
    }
   ],
   "source": [
    "df_nlp = df_nlp.replace(np.nan, 'Unknown')\n",
    "\n",
    "df_nlp"
   ]
  },
  {
<<<<<<< HEAD
   "cell_type": "code",
   "execution_count": 578,
   "id": "b8b0763d",
   "metadata": {},
   "outputs": [
    {
     "data": {
      "text/plain": [
       "((209238,), (209238,), (89674,), (89674,))"
      ]
     },
     "execution_count": 578,
     "metadata": {},
     "output_type": "execute_result"
    }
   ],
   "source": [
    "# define now the input and target variables\n",
    "# define train and test splits\n",
    "X = df_nlp['Neighbourhood Name']\n",
    "y = df_nlp['Classification'].ravel()\n",
    "\n",
    "X_train, X_test, y_train, y_test = train_test_split(X, y, random_state=1600, test_size = 0.30)\n",
    "X_train.shape, y_train.shape, X_test.shape, y_test.shape"
   ]
  },
  {
   "cell_type": "markdown",
   "id": "e550ee8a",
   "metadata": {},
   "source": [
    "Now that the target is encoded, I need to process my categorial, textual data. For that, I will turn the vectors of words that make each text string of the variables I have chosen as inputs into bags-of-words (a count of the occurrence of each word).\n",
    "To that end, I will use [CountVectorizer](https://scikit-learn.org/stable/modules/generated/sklearn.feature_extraction.text.CountVectorizer.html)."
   ]
  },
  {
   "cell_type": "code",
   "execution_count": 579,
   "id": "f03d11d9",
   "metadata": {},
   "outputs": [],
   "source": [
    "wordbag = text.CountVectorizer(stop_words='english')"
   ]
  },
  {
   "cell_type": "code",
   "execution_count": 580,
   "id": "687f4a4f",
=======
   "cell_type": "code",
   "execution_count": 155,
   "id": "b8b0763d",
   "metadata": {},
   "outputs": [
    {
     "data": {
      "text/plain": [
       "((209238,), (209238,), (89674,), (89674,))"
      ]
     },
     "execution_count": 155,
     "metadata": {},
     "output_type": "execute_result"
    }
   ],
   "source": [
    "# define now the input and target variables\n",
    "# define train and test splits\n",
    "X = df_nlp['Neighbourhood Name']\n",
    "y = df_nlp['Classification'].ravel()\n",
    "\n",
    "X_train, X_test, y_train, y_test = train_test_split(X, y, random_state=1600, test_size = 0.30)\n",
    "X_train.shape, y_train.shape, X_test.shape, y_test.shape"
   ]
  },
  {
   "cell_type": "markdown",
   "id": "e550ee8a",
   "metadata": {},
   "source": [
    "Now that the target is encoded, I need to process my categorial, textual data. For that, I will turn the vectors of words that make each text string of the variables I have chosen as inputs into bags-of-words (a count of the occurrence of each word).\n",
    "To that end, I will use [CountVectorizer](https://scikit-learn.org/stable/modules/generated/sklearn.feature_extraction.text.CountVectorizer.html)."
   ]
  },
  {
   "cell_type": "code",
   "execution_count": 156,
   "id": "f03d11d9",
   "metadata": {},
   "outputs": [],
   "source": [
    "wordbag = text.CountVectorizer(stop_words='english')"
   ]
  },
  {
   "cell_type": "code",
   "execution_count": 157,
   "id": "687f4a4f",
   "metadata": {},
   "outputs": [],
   "source": [
    "# vectorize the training and test sets\n",
    "X_train = wordbag.fit_transform(X_train)\n",
    "X_test = wordbag.transform(X_test)"
   ]
  },
  {
   "cell_type": "markdown",
   "id": "c96ba97e",
   "metadata": {},
   "source": [
    "Let's build the model."
   ]
  },
  {
   "cell_type": "code",
   "execution_count": 158,
   "id": "87cc1942",
>>>>>>> c7ff238d8eeabadd9249d4f9a228d7c55fa407eb
   "metadata": {},
   "outputs": [
    {
     "data": {
      "text/plain": [
       "MultinomialNB()"
      ]
     },
     "execution_count": 158,
     "metadata": {},
     "output_type": "execute_result"
    }
   ],
   "source": [
    "# vectorize the training and test sets\n",
    "X_train = wordbag.fit_transform(X_train)\n",
    "X_test = wordbag.transform(X_test)"
   ]
  },
  {
   "cell_type": "markdown",
   "id": "c96ba97e",
   "metadata": {},
   "source": [
    "Let's build the model."
   ]
  },
  {
   "cell_type": "code",
   "execution_count": 581,
   "id": "87cc1942",
   "metadata": {},
   "outputs": [
    {
     "data": {
      "text/plain": [
       "MultinomialNB()"
      ]
     },
     "execution_count": 581,
     "metadata": {},
     "output_type": "execute_result"
    }
   ],
   "source": [
    "# instantiate the model\n",
    "nbm = MultinomialNB()\n",
    "nbm.fit(X_train, y_train)"
   ]
  },
  {
   "cell_type": "code",
<<<<<<< HEAD
   "execution_count": 582,
=======
   "execution_count": 159,
>>>>>>> c7ff238d8eeabadd9249d4f9a228d7c55fa407eb
   "id": "9fd2c820",
   "metadata": {},
   "outputs": [],
   "source": [
    "y_pred = nbm.predict(X_test)"
   ]
  },
  {
   "cell_type": "code",
<<<<<<< HEAD
   "execution_count": 583,
=======
   "execution_count": 160,
>>>>>>> c7ff238d8eeabadd9249d4f9a228d7c55fa407eb
   "id": "aa3349d2",
   "metadata": {},
   "outputs": [
    {
     "name": "stderr",
     "output_type": "stream",
     "text": [
      "C:\\Users\\migue\\anaconda3\\lib\\site-packages\\sklearn\\metrics\\_classification.py:1221: UndefinedMetricWarning: Precision and F-score are ill-defined and being set to 0.0 in labels with no predicted samples. Use `zero_division` parameter to control this behavior.\n",
      "  _warn_prf(average, modifier, msg_start, len(result))\n"
     ]
    },
    {
     "name": "stdout",
     "output_type": "stream",
     "text": [
      "              precision    recall  f1-score   support\n",
      "\n",
      "           0       0.97      1.00      0.98     86539\n",
      "           1       0.00      0.00      0.00      3135\n",
      "\n",
      "    accuracy                           0.97     89674\n",
      "   macro avg       0.48      0.50      0.49     89674\n",
      "weighted avg       0.93      0.97      0.95     89674\n",
      "\n"
     ]
    }
   ],
   "source": [
    "print(classification_report(y_test, y_pred))"
   ]
  },
  {
   "cell_type": "markdown",
   "id": "9d5a887d",
   "metadata": {},
   "source": [
    "Let's try using ComplementNB, which is a classifier specially designed to deal with imbalaced data. As stated in the [documentation](https://scikit-learn.org/stable/modules/naive_bayes.html#complement-naive-bayes), 'ComplementNB implements the complement naive Bayes (CNB) algorithm. CNB is an adaptation of the standard multinomial naive Bayes (MNB) algorithm that is particularly suited for imbalanced data sets. Specifically, CNB uses statistics from the complement of each class to compute the model’s weights.'"
   ]
  },
  {
   "cell_type": "code",
<<<<<<< HEAD
   "execution_count": 584,
=======
   "execution_count": 161,
>>>>>>> c7ff238d8eeabadd9249d4f9a228d7c55fa407eb
   "id": "6b5d717c",
   "metadata": {},
   "outputs": [],
   "source": [
    "cnb= ComplementNB()\n",
    "model = cnb.fit(X_train,y_train)\n",
    "y_pred = model.predict(X_test)"
   ]
  },
  {
   "cell_type": "code",
<<<<<<< HEAD
   "execution_count": 585,
=======
   "execution_count": 162,
>>>>>>> c7ff238d8eeabadd9249d4f9a228d7c55fa407eb
   "id": "62662ae1",
   "metadata": {},
   "outputs": [
    {
     "name": "stdout",
     "output_type": "stream",
     "text": [
      "              precision    recall  f1-score   support\n",
      "\n",
      "           0       0.97      0.63      0.76     86539\n",
      "           1       0.04      0.46      0.08      3135\n",
      "\n",
      "    accuracy                           0.62     89674\n",
      "   macro avg       0.51      0.54      0.42     89674\n",
      "weighted avg       0.94      0.62      0.74     89674\n",
      "\n"
     ]
    }
   ],
   "source": [
    "print(classification_report(y_test, y_pred))"
   ]
  },
  {
   "cell_type": "code",
<<<<<<< HEAD
   "execution_count": 586,
=======
   "execution_count": 163,
>>>>>>> c7ff238d8eeabadd9249d4f9a228d7c55fa407eb
   "id": "00d482ac",
   "metadata": {},
   "outputs": [
    {
     "data": {
      "image/png": "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\n",
      "text/plain": [
       "<Figure size 432x288 with 2 Axes>"
      ]
     },
     "metadata": {
      "needs_background": "light"
     },
     "output_type": "display_data"
    }
   ],
   "source": [
    "fig = plot_confusion_matrix(model, X_test, y_test, display_labels=[0,1], cmap='Reds')\n",
    "plt.title('Confusion Matrix')\n",
    "plt.show()"
   ]
  },
  {
   "cell_type": "markdown",
   "id": "878ac93c",
   "metadata": {},
   "source": [
    "This classifier has done a better job in predicting the two values. For the 1450 actual instance of the minority class have been discerned as such, which is not too bad all things considered, but still renders a recall value below 0.50."
   ]
  },
  {
   "cell_type": "code",
   "execution_count": null,
   "id": "b1fedb14",
   "metadata": {},
   "outputs": [],
   "source": []
  }
 ],
 "metadata": {
  "kernelspec": {
   "display_name": "Python 3",
   "language": "python",
   "name": "python3"
  },
  "language_info": {
   "codemirror_mode": {
    "name": "ipython",
    "version": 3
   },
   "file_extension": ".py",
   "mimetype": "text/x-python",
   "name": "python",
   "nbconvert_exporter": "python",
   "pygments_lexer": "ipython3",
   "version": "3.8.8"
  },
  "toc-autonumbering": false,
  "toc-showcode": false,
  "toc-showmarkdowntxt": false,
  "varInspector": {
   "cols": {
    "lenName": 16,
    "lenType": 16,
    "lenVar": 40
   },
   "kernels_config": {
    "python": {
     "delete_cmd_postfix": "",
     "delete_cmd_prefix": "del ",
     "library": "var_list.py",
     "varRefreshCmd": "print(var_dic_list())"
    },
    "r": {
     "delete_cmd_postfix": ") ",
     "delete_cmd_prefix": "rm(",
     "library": "var_list.r",
     "varRefreshCmd": "cat(var_dic_list()) "
    }
   },
   "types_to_exclude": [
    "module",
    "function",
    "builtin_function_or_method",
    "instance",
    "_Feature"
   ],
   "window_display": false
  }
 },
 "nbformat": 4,
 "nbformat_minor": 5
}
