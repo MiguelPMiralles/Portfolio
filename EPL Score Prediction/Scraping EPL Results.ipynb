{
 "cells": [
  {
   "cell_type": "markdown",
   "id": "582c61ec-a69d-4e36-afea-b7ebbdff00f3",
   "metadata": {},
   "source": [
    "## Initial Preprocessing"
   ]
  },
  {
   "cell_type": "code",
   "execution_count": 233,
   "id": "b1aa563e-d9cc-4e94-97db-73f82fa6e8a2",
   "metadata": {},
   "outputs": [],
   "source": [
    "import requests as re"
   ]
  },
  {
   "cell_type": "code",
   "execution_count": 234,
   "id": "8ec805b1-1ed8-4f67-b824-5d249ed496b3",
   "metadata": {},
   "outputs": [],
   "source": [
    "standings_url = \"https://fbref.com/en/comps/9/Premier-League-Stats\""
   ]
  },
  {
   "cell_type": "code",
   "execution_count": 235,
   "id": "b24819cb-60bb-42fe-addd-c3a999218aad",
   "metadata": {},
   "outputs": [],
   "source": [
    "data = re.get(standings_url)"
   ]
  },
  {
   "cell_type": "code",
   "execution_count": 236,
   "id": "b726b0e5-e331-402a-b223-552a7cbc9886",
   "metadata": {},
   "outputs": [],
   "source": [
    "#print(data.text)"
   ]
  },
  {
   "cell_type": "code",
   "execution_count": 237,
   "id": "fa3d51cb-14a4-49b0-8340-43e4a49b873b",
   "metadata": {},
   "outputs": [],
   "source": [
    "#parse html using bsoup"
   ]
  },
  {
   "cell_type": "code",
   "execution_count": 238,
   "id": "cba3d9e4-1268-4b38-a3f4-52d85918c9ef",
   "metadata": {},
   "outputs": [],
   "source": [
    "from bs4 import BeautifulSoup"
   ]
  },
  {
   "cell_type": "code",
   "execution_count": 239,
   "id": "768b9b55-07f9-4cea-bea5-6be71c18d6d2",
   "metadata": {},
   "outputs": [],
   "source": [
    "soup = BeautifulSoup(data.text)"
   ]
  },
  {
   "cell_type": "code",
   "execution_count": 240,
   "id": "2e5a3cfd-3ef3-42dd-b6f9-021544d20c1c",
   "metadata": {},
   "outputs": [],
   "source": [
    "#initializing the object with bs RENDERS THE SAME AS CELL 9\n",
    "#soup"
   ]
  },
  {
   "cell_type": "code",
   "execution_count": 241,
   "id": "a8cecab9-de7d-429a-b19b-10777b799bb7",
   "metadata": {},
   "outputs": [],
   "source": [
    "#create selector to scrape only the stats table in the page to scrape\n",
    "#take only the table class \n",
    "standings_table = soup.select('table.stats_table')[0]\n",
    "#find all 'a' tags, the hyperlinks\n",
    "links = standings_table.find_all('a')"
   ]
  },
  {
   "cell_type": "code",
   "execution_count": 242,
   "id": "edb4d942-34c2-410f-a0dc-717dc9d359a1",
   "metadata": {},
   "outputs": [],
   "source": [
    "#get the href(the URLs) property for each link, using a list comprehension\n",
    "links = [l.get('href') for l in links]"
   ]
  },
  {
   "cell_type": "code",
   "execution_count": 243,
   "id": "085c0236-9b72-431a-b149-3a5582f40b07",
   "metadata": {},
   "outputs": [
    {
     "data": {
      "text/plain": [
       "['/en/squads/b8fd03ef/Manchester-City-Stats',\n",
       " '/en/squads/822bd0ba/Liverpool-Stats',\n",
       " '/en/squads/cff3d9bb/Chelsea-Stats',\n",
       " '/en/squads/18bb7c10/Arsenal-Stats',\n",
       " '/en/squads/361ca564/Tottenham-Hotspur-Stats',\n",
       " '/en/squads/19538871/Manchester-United-Stats',\n",
       " '/en/squads/7c21e445/West-Ham-United-Stats',\n",
       " '/en/squads/8cec06e1/Wolverhampton-Wanderers-Stats',\n",
       " '/en/squads/d07537b9/Brighton-and-Hove-Albion-Stats',\n",
       " '/en/squads/b2b47a98/Newcastle-United-Stats',\n",
       " '/en/squads/a2d435b3/Leicester-City-Stats',\n",
       " '/en/squads/47c64c55/Crystal-Palace-Stats',\n",
       " '/en/squads/8602292d/Aston-Villa-Stats',\n",
       " '/en/squads/cd051869/Brentford-Stats',\n",
       " '/en/squads/33c895d4/Southampton-Stats',\n",
       " '/en/squads/943e8050/Burnley-Stats',\n",
       " '/en/squads/5bfb9659/Leeds-United-Stats',\n",
       " '/en/squads/d3fd31cc/Everton-Stats',\n",
       " '/en/squads/2abfe087/Watford-Stats',\n",
       " '/en/squads/1c781004/Norwich-City-Stats']"
      ]
     },
     "execution_count": 243,
     "metadata": {},
     "output_type": "execute_result"
    }
   ],
   "source": [
    "#get links for the squads\n",
    "links = [l for l in links if '/squads/' in l]\n",
    "links"
   ]
  },
  {
   "cell_type": "code",
   "execution_count": 244,
   "id": "acf4efe9-b8b3-4625-bf2e-bbd39edd7cba",
   "metadata": {},
   "outputs": [
    {
     "data": {
      "text/plain": [
       "['https://fbref.com//en/squads/b8fd03ef/Manchester-City-Stats',\n",
       " 'https://fbref.com//en/squads/822bd0ba/Liverpool-Stats',\n",
       " 'https://fbref.com//en/squads/cff3d9bb/Chelsea-Stats',\n",
       " 'https://fbref.com//en/squads/18bb7c10/Arsenal-Stats',\n",
       " 'https://fbref.com//en/squads/361ca564/Tottenham-Hotspur-Stats',\n",
       " 'https://fbref.com//en/squads/19538871/Manchester-United-Stats',\n",
       " 'https://fbref.com//en/squads/7c21e445/West-Ham-United-Stats',\n",
       " 'https://fbref.com//en/squads/8cec06e1/Wolverhampton-Wanderers-Stats',\n",
       " 'https://fbref.com//en/squads/d07537b9/Brighton-and-Hove-Albion-Stats',\n",
       " 'https://fbref.com//en/squads/b2b47a98/Newcastle-United-Stats',\n",
       " 'https://fbref.com//en/squads/a2d435b3/Leicester-City-Stats',\n",
       " 'https://fbref.com//en/squads/47c64c55/Crystal-Palace-Stats',\n",
       " 'https://fbref.com//en/squads/8602292d/Aston-Villa-Stats',\n",
       " 'https://fbref.com//en/squads/cd051869/Brentford-Stats',\n",
       " 'https://fbref.com//en/squads/33c895d4/Southampton-Stats',\n",
       " 'https://fbref.com//en/squads/943e8050/Burnley-Stats',\n",
       " 'https://fbref.com//en/squads/5bfb9659/Leeds-United-Stats',\n",
       " 'https://fbref.com//en/squads/d3fd31cc/Everton-Stats',\n",
       " 'https://fbref.com//en/squads/2abfe087/Watford-Stats',\n",
       " 'https://fbref.com//en/squads/1c781004/Norwich-City-Stats']"
      ]
     },
     "execution_count": 244,
     "metadata": {},
     "output_type": "execute_result"
    }
   ],
   "source": [
    "# turn links into full URLs (their absolute links)\n",
    "team_urls = [f'https://fbref.com/{l}' for l in links]\n",
    "team_urls"
   ]
  },
  {
   "cell_type": "markdown",
   "id": "a44e4f27-a5a9-41c0-a31d-2344b3fd1cb4",
   "metadata": {},
   "source": [
    "## Extract Match Stats with Pandas and Requests"
   ]
  },
  {
   "cell_type": "code",
   "execution_count": 245,
   "id": "fd96b259-5bef-4642-8fc3-cf323afe4c7b",
   "metadata": {},
   "outputs": [],
   "source": [
    "# get scores and fixtures table from web\n",
    "import pandas as pd"
   ]
  },
  {
   "cell_type": "code",
   "execution_count": 246,
   "id": "feee85a9-4f47-4680-ab35-1be387f521fd",
   "metadata": {},
   "outputs": [],
   "source": [
    "# get only from the html site, the scores and matches table for man City in this case\n",
    "data = re.get(team_urls[0])\n",
    "matches = pd.read_html(data.text, match=\"Scores & Fixtures\")[0]"
   ]
  },
  {
   "cell_type": "markdown",
   "id": "f0f508e6-f3ed-471a-aae4-bdc0b088a4e6",
   "metadata": {},
   "source": [
    "## Get Match Shooting Stats"
   ]
  },
  {
   "cell_type": "code",
   "execution_count": 247,
   "id": "50db3036-aa6d-485a-9a60-5c8253807b86",
   "metadata": {},
   "outputs": [],
   "source": [
    "#same initial process as above\n",
    "soup = BeautifulSoup(data.text)\n",
    "links = soup.find_all('a')\n",
    "links = [l.get('href') for l in links]"
   ]
  },
  {
   "cell_type": "code",
   "execution_count": 248,
   "id": "3179299f-d44a-4d80-859f-8e48ef5dedfd",
   "metadata": {},
   "outputs": [
    {
     "data": {
      "text/plain": [
       "['/en/squads/b8fd03ef/2021-2022/matchlogs/all_comps/shooting/Manchester-City-Match-Logs-All-Competitions',\n",
       " '/en/squads/b8fd03ef/2021-2022/matchlogs/all_comps/shooting/Manchester-City-Match-Logs-All-Competitions',\n",
       " '/en/squads/b8fd03ef/2021-2022/matchlogs/all_comps/shooting/Manchester-City-Match-Logs-All-Competitions',\n",
       " '/en/squads/b8fd03ef/2021-2022/matchlogs/all_comps/shooting/Manchester-City-Match-Logs-All-Competitions']"
      ]
     },
     "execution_count": 248,
     "metadata": {},
     "output_type": "execute_result"
    }
   ],
   "source": [
    "links = [l for l in links if l and 'all_comps/shooting' in l]\n",
    "links"
   ]
  },
  {
   "cell_type": "code",
   "execution_count": 249,
   "id": "a7a332d9-e7d5-4fee-a0f9-866e8654121a",
   "metadata": {},
   "outputs": [
    {
     "data": {
      "text/plain": [
       "'https://fbref.com//en/squads/b8fd03ef/2021-2022/matchlogs/all_comps/shooting/Manchester-City-Match-Logs-All-Competitions'"
      ]
     },
     "execution_count": 249,
     "metadata": {},
     "output_type": "execute_result"
    }
   ],
   "source": [
    "# add absolute url\n",
    "shooting_url = [f'https://fbref.com/{l}' for l in links][0]\n",
    "shooting_url"
   ]
  },
  {
   "cell_type": "code",
   "execution_count": 250,
   "id": "e8a1ef4c-2c64-4633-a922-3fb00101fb90",
   "metadata": {},
   "outputs": [],
   "source": [
    "shooting = pd.read_html(shooting_url)\n",
    "shooting = shooting[0] #multi level index, which is not that useful\n",
    "shooting.columns = shooting.columns.droplevel() # If resulting index has only 1 level left, the result will be of Index type, not MultiIndex."
   ]
  },
  {
   "cell_type": "code",
   "execution_count": 251,
   "id": "56396c4a-d06f-456c-96b9-857c1be64d24",
   "metadata": {},
   "outputs": [
    {
     "data": {
      "text/html": [
       "<div>\n",
       "<style scoped>\n",
       "    .dataframe tbody tr th:only-of-type {\n",
       "        vertical-align: middle;\n",
       "    }\n",
       "\n",
       "    .dataframe tbody tr th {\n",
       "        vertical-align: top;\n",
       "    }\n",
       "\n",
       "    .dataframe thead th {\n",
       "        text-align: right;\n",
       "    }\n",
       "</style>\n",
       "<table border=\"1\" class=\"dataframe\">\n",
       "  <thead>\n",
       "    <tr style=\"text-align: right;\">\n",
       "      <th></th>\n",
       "      <th>Date</th>\n",
       "      <th>Time</th>\n",
       "      <th>Comp</th>\n",
       "      <th>Round</th>\n",
       "      <th>Day</th>\n",
       "      <th>Venue</th>\n",
       "      <th>Result</th>\n",
       "      <th>GF</th>\n",
       "      <th>GA</th>\n",
       "      <th>Opponent</th>\n",
       "      <th>...</th>\n",
       "      <th>Dist</th>\n",
       "      <th>FK</th>\n",
       "      <th>PK</th>\n",
       "      <th>PKatt</th>\n",
       "      <th>xG</th>\n",
       "      <th>npxG</th>\n",
       "      <th>npxG/Sh</th>\n",
       "      <th>G-xG</th>\n",
       "      <th>np:G-xG</th>\n",
       "      <th>Match Report</th>\n",
       "    </tr>\n",
       "  </thead>\n",
       "  <tbody>\n",
       "    <tr>\n",
       "      <th>0</th>\n",
       "      <td>2021-08-07</td>\n",
       "      <td>17:15</td>\n",
       "      <td>Community Shield</td>\n",
       "      <td>FA Community Shield</td>\n",
       "      <td>Sat</td>\n",
       "      <td>Neutral</td>\n",
       "      <td>L</td>\n",
       "      <td>0</td>\n",
       "      <td>1</td>\n",
       "      <td>Leicester City</td>\n",
       "      <td>...</td>\n",
       "      <td>NaN</td>\n",
       "      <td>NaN</td>\n",
       "      <td>0</td>\n",
       "      <td>0</td>\n",
       "      <td>NaN</td>\n",
       "      <td>NaN</td>\n",
       "      <td>NaN</td>\n",
       "      <td>NaN</td>\n",
       "      <td>NaN</td>\n",
       "      <td>Match Report</td>\n",
       "    </tr>\n",
       "    <tr>\n",
       "      <th>1</th>\n",
       "      <td>2021-08-15</td>\n",
       "      <td>16:30</td>\n",
       "      <td>Premier League</td>\n",
       "      <td>Matchweek 1</td>\n",
       "      <td>Sun</td>\n",
       "      <td>Away</td>\n",
       "      <td>L</td>\n",
       "      <td>0</td>\n",
       "      <td>1</td>\n",
       "      <td>Tottenham</td>\n",
       "      <td>...</td>\n",
       "      <td>16.9</td>\n",
       "      <td>1.0</td>\n",
       "      <td>0</td>\n",
       "      <td>0</td>\n",
       "      <td>1.9</td>\n",
       "      <td>1.9</td>\n",
       "      <td>0.11</td>\n",
       "      <td>-1.9</td>\n",
       "      <td>-1.9</td>\n",
       "      <td>Match Report</td>\n",
       "    </tr>\n",
       "    <tr>\n",
       "      <th>2</th>\n",
       "      <td>2021-08-21</td>\n",
       "      <td>15:00</td>\n",
       "      <td>Premier League</td>\n",
       "      <td>Matchweek 2</td>\n",
       "      <td>Sat</td>\n",
       "      <td>Home</td>\n",
       "      <td>W</td>\n",
       "      <td>5</td>\n",
       "      <td>0</td>\n",
       "      <td>Norwich City</td>\n",
       "      <td>...</td>\n",
       "      <td>17.3</td>\n",
       "      <td>1.0</td>\n",
       "      <td>0</td>\n",
       "      <td>0</td>\n",
       "      <td>2.7</td>\n",
       "      <td>2.7</td>\n",
       "      <td>0.17</td>\n",
       "      <td>1.3</td>\n",
       "      <td>1.3</td>\n",
       "      <td>Match Report</td>\n",
       "    </tr>\n",
       "    <tr>\n",
       "      <th>3</th>\n",
       "      <td>2021-08-28</td>\n",
       "      <td>12:30</td>\n",
       "      <td>Premier League</td>\n",
       "      <td>Matchweek 3</td>\n",
       "      <td>Sat</td>\n",
       "      <td>Home</td>\n",
       "      <td>W</td>\n",
       "      <td>5</td>\n",
       "      <td>0</td>\n",
       "      <td>Arsenal</td>\n",
       "      <td>...</td>\n",
       "      <td>14.3</td>\n",
       "      <td>0.0</td>\n",
       "      <td>0</td>\n",
       "      <td>0</td>\n",
       "      <td>3.8</td>\n",
       "      <td>3.8</td>\n",
       "      <td>0.15</td>\n",
       "      <td>1.2</td>\n",
       "      <td>1.2</td>\n",
       "      <td>Match Report</td>\n",
       "    </tr>\n",
       "    <tr>\n",
       "      <th>4</th>\n",
       "      <td>2021-09-11</td>\n",
       "      <td>15:00</td>\n",
       "      <td>Premier League</td>\n",
       "      <td>Matchweek 4</td>\n",
       "      <td>Sat</td>\n",
       "      <td>Away</td>\n",
       "      <td>W</td>\n",
       "      <td>1</td>\n",
       "      <td>0</td>\n",
       "      <td>Leicester City</td>\n",
       "      <td>...</td>\n",
       "      <td>14.0</td>\n",
       "      <td>0.0</td>\n",
       "      <td>0</td>\n",
       "      <td>0</td>\n",
       "      <td>2.9</td>\n",
       "      <td>2.9</td>\n",
       "      <td>0.12</td>\n",
       "      <td>-1.9</td>\n",
       "      <td>-1.9</td>\n",
       "      <td>Match Report</td>\n",
       "    </tr>\n",
       "  </tbody>\n",
       "</table>\n",
       "<p>5 rows × 26 columns</p>\n",
       "</div>"
      ],
      "text/plain": [
       "         Date   Time              Comp                Round  Day    Venue  \\\n",
       "0  2021-08-07  17:15  Community Shield  FA Community Shield  Sat  Neutral   \n",
       "1  2021-08-15  16:30    Premier League          Matchweek 1  Sun     Away   \n",
       "2  2021-08-21  15:00    Premier League          Matchweek 2  Sat     Home   \n",
       "3  2021-08-28  12:30    Premier League          Matchweek 3  Sat     Home   \n",
       "4  2021-09-11  15:00    Premier League          Matchweek 4  Sat     Away   \n",
       "\n",
       "  Result GF GA        Opponent  ...  Dist   FK  PK  PKatt   xG  npxG  npxG/Sh  \\\n",
       "0      L  0  1  Leicester City  ...   NaN  NaN   0      0  NaN   NaN      NaN   \n",
       "1      L  0  1       Tottenham  ...  16.9  1.0   0      0  1.9   1.9     0.11   \n",
       "2      W  5  0    Norwich City  ...  17.3  1.0   0      0  2.7   2.7     0.17   \n",
       "3      W  5  0         Arsenal  ...  14.3  0.0   0      0  3.8   3.8     0.15   \n",
       "4      W  1  0  Leicester City  ...  14.0  0.0   0      0  2.9   2.9     0.12   \n",
       "\n",
       "   G-xG  np:G-xG  Match Report  \n",
       "0   NaN      NaN  Match Report  \n",
       "1  -1.9     -1.9  Match Report  \n",
       "2   1.3      1.3  Match Report  \n",
       "3   1.2      1.2  Match Report  \n",
       "4  -1.9     -1.9  Match Report  \n",
       "\n",
       "[5 rows x 26 columns]"
      ]
     },
     "execution_count": 251,
     "metadata": {},
     "output_type": "execute_result"
    }
   ],
   "source": [
    "shooting.head()"
   ]
  },
  {
   "cell_type": "markdown",
   "id": "5f614369-939e-414e-911c-518068af5554",
   "metadata": {},
   "source": [
    "## Combine Matches and Shooting DFs"
   ]
  },
  {
   "cell_type": "code",
   "execution_count": 252,
   "id": "4b6f3efe-32ff-41e0-922c-560ca53395d6",
   "metadata": {},
   "outputs": [
    {
     "data": {
      "text/plain": [
       "(array([False, False, False, False, False, False, False, False, False,\n",
       "        False, False, False, False, False, False, False, False, False,\n",
       "        False, False, False, False, False, False, False, False, False,\n",
       "        False, False, False, False, False, False]),\n",
       " (58, 33))"
      ]
     },
     "execution_count": 252,
     "metadata": {},
     "output_type": "execute_result"
    }
   ],
   "source": [
    "# left merge of matches wrt shooting stats\n",
    "team_data = matches.merge(shooting, how='left')\n",
    "team_data.columns.duplicated(), team_data.shape"
   ]
  },
  {
   "cell_type": "markdown",
   "id": "c9a6c1c2-97c6-4114-b01b-12c4b46e3dab",
   "metadata": {},
   "source": [
    "# Scraping Data for Multiple Seasons and Teams"
   ]
  },
  {
   "cell_type": "code",
   "execution_count": 253,
   "id": "227cc6ad-24cc-4d82-ace4-332b19aa942b",
   "metadata": {},
   "outputs": [],
   "source": [
    "import time"
   ]
  },
  {
   "cell_type": "code",
   "execution_count": 254,
   "id": "f990b1ef-f6b5-41de-9613-679c1c17e84a",
   "metadata": {},
   "outputs": [],
   "source": [
    "#get a list of the years to scrape, like the last decade\n",
    "# initialize an empty list \n",
    "years = list(range(2022,2011, -1))\n",
    "all_matches = [] "
   ]
  },
  {
   "cell_type": "raw",
   "id": "8f14c822-b9de-4bd3-9321-7f5cd3c26472",
   "metadata": {},
   "source": [
    "#loop through the years in list range to get the same info we got for a single season in previous steps\n",
    "\n",
    "for year in years[:1]:\n",
    "    data = re.get(standings_url)\n",
    "    soup = BeautifulSoup(data.text) # to parse the standings_url\n",
    "    standings_table = soup.select('table.stats_table')[0] \n",
    "    links = standings_table.find_all('a')\n",
    "    links = [l for l in links if '/squads/' in l]\n",
    "    team_urls = [f'https://fbref.com/{l}' for l in links] #absolute links for the squads links\n",
    "    #previous_season = soup.select('a.prev')[0].get('href')\n",
    "    #stading_urls = f'https://fbref.com/{previous_season}'\n",
    "    \n",
    "#now loop through each teams' urls to get match logs per team\n",
    "    for team_url in team_urls:\n",
    "        team_name = team_url.split('/')[-1].replace('-Stats','').replace('-',' ') #to remove all fluff and not needed dashes in names\n",
    "        data = re.get(team_urls[0])\n",
    "        matches = pd.read_html(data.text, match=\"Scores & Fixtures\")[0]\n",
    "        soup = BeautifulSoup(data.text)\n",
    "        links = soup.find_all('a')\n",
    "        links = [l.get('href') for l in links]\n",
    "        links = [l for l in links if l and 'all_comps/shooting' in l]\n",
    "        shooting_url = [f'https://fbref.com/{l}' for l in links][0]\n",
    "        shooting = pd.read_html(shooting_url)\n",
    "        shooting = shooting[0] \n",
    "        shooting.columns = shooting.columns.droplevel()\n",
    "        \n",
    "# wrap both loops using try to get a single data frame with all in it\n",
    "        \n",
    "        try:\n",
    "            team_data = matches.merge(shooting, how='left')\n",
    "        except ValueError: # ignore any value errors the operation might raise, meaning to skip over teams with no available shooting info\n",
    "            continue\n",
    "            \n",
    "# filter throygh only those values for PL\n",
    "        team_data = team_data[team_data['Comp']== 'Premier League']\n",
    "        team_data['Season'] = year # years in the loop\n",
    "        team_data['Team'] = team_name\n",
    "        all_matches.append(team_data)\n",
    "        time.sleep(1) # Delay execution for a given number of seconds, to avoid any blocking from the site so we don't scrape too fast and hinder web performance\n",
    "        match_df = pd.concat(all_matches)\n"
   ]
  },
  {
   "cell_type": "code",
   "execution_count": 255,
   "id": "10a2c853-6016-45bf-852a-3375793c9300",
   "metadata": {},
   "outputs": [],
   "source": [
    "for year in years[:1]:\n",
    "    data = re.get(standings_url)\n",
    "    soup = BeautifulSoup(data.text)\n",
    "    data = re.get(standings_url)\n",
    "    standings_table = soup.select('table.stats_table')[0]\n",
    "\n",
    "    links = [l.get(\"href\") for l in standings_table.find_all('a')]\n",
    "    links = [l for l in links if '/squads/' in l]\n",
    "    team_urls = [f\"https://fbref.com{l}\" for l in links]\n",
    "    \n",
    "    previous_season = soup.select(\"a.prev\")[0].get(\"href\")\n",
    "    standings_url = f\"https://fbref.com/{previous_season}\"\n",
    "    \n",
    "    for team_url in team_urls:\n",
    "        team_name = team_url.split(\"/\")[-1].replace(\"-Stats\", \"\").replace(\"-\", \" \")\n",
    "        data = re.get(team_url)\n",
    "        matches = pd.read_html(data.text, match=\"Scores & Fixtures\")[0]\n",
    "        soup = BeautifulSoup(data.text)\n",
    "        links = [l.get(\"href\") for l in soup.find_all('a')]\n",
    "        links = [l for l in links if l and 'all_comps/shooting/' in l]\n",
    "        data = re.get(f\"https://fbref.com{links[0]}\")\n",
    "        shooting = pd.read_html(data.text, match=\"Shooting\")[0]\n",
    "        shooting.columns = shooting.columns.droplevel()\n",
    "        \n",
    "        team_data = matches.merge(shooting[[\"Date\", \"Sh\", \"SoT\", \"Dist\", \"FK\", \"PK\", \"PKatt\"]], on=\"Date\")\n",
    "        team_data = team_data[team_data[\"Comp\"] == \"Premier League\"]\n",
    "        \n",
    "        team_data[\"Season\"] = year\n",
    "        team_data[\"Team\"] = team_name\n",
    "        all_matches.append(team_data)\n",
    "        matches_df = pd.concat(all_matches)"
   ]
  },
  {
   "cell_type": "code",
   "execution_count": 258,
   "id": "7e2d6549-8af4-4a6a-9fa9-13053c0a4d7f",
   "metadata": {},
   "outputs": [],
   "source": [
    "matches_df.columns = [c.lower() for c in matches_df.columns] #make the column names lowercase"
   ]
  },
  {
   "cell_type": "code",
   "execution_count": 259,
   "id": "7d1cbc81-e76e-420c-8ff5-4e30ab5bd906",
   "metadata": {},
   "outputs": [],
   "source": [
    "matches_df.to_csv('Matches.csv')"
   ]
  },
  {
   "cell_type": "code",
   "execution_count": null,
   "id": "c2d30dcd-55c3-4dbc-bdd6-4d8d9152569d",
   "metadata": {},
   "outputs": [],
   "source": []
  }
 ],
 "metadata": {
  "kernelspec": {
   "display_name": "Python 3 (ipykernel)",
   "language": "python",
   "name": "python3"
  },
  "language_info": {
   "codemirror_mode": {
    "name": "ipython",
    "version": 3
   },
   "file_extension": ".py",
   "mimetype": "text/x-python",
   "name": "python",
   "nbconvert_exporter": "python",
   "pygments_lexer": "ipython3",
   "version": "3.9.7"
  }
 },
 "nbformat": 4,
 "nbformat_minor": 5
}
