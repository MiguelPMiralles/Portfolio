{
 "cells": [
  {
   "cell_type": "markdown",
   "id": "d93cea9a-7ade-4ba0-a3ef-8d442a9d22a6",
   "metadata": {},
   "source": [
    "### Portfolio Optimization"
   ]
  },
  {
   "cell_type": "markdown",
   "id": "b808fe17-ce8d-4099-b153-8b018af93bd7",
   "metadata": {},
   "source": [
    "This notebook aims at applying the fundmentals of [Modern Portfolio Optimization](https://www.investopedia.com/terms/m/modernportfoliotheory.asp). This approach, hypothetized by Nobel-winning economist Harry Markwoitz, was devised to provide investors with a plan to construct diversified portoflios that yield the maximum returns possible while keeping risk under control. There are two main statistical operations at play when constructing a portoflio under these coordinates, those are the variance and the correlation. For that, the [Sharpe Ratio](https://www.investopedia.com/terms/s/sharperatio.asp) will be used. \n",
    "\n",
    "In containing risk, it is adviseable to diversified the securities that comprise a given portfolio. Thus, the total expected return is the result of the sum of the returns for each asset. It follows that for each asset, a given weight for returns must be placed. \n",
    "All of the above will converge in the calculation of the 'sweet spot' for the risk-return relation (their optimal weights) and also the set of portfolio combinations with the best return-to-risk relation, this being the ['efficient frontier'](https://www.investopedia.com/terms/e/efficientfrontier.asp) for the portfolio. "
   ]
  },
  {
   "cell_type": "markdown",
   "id": "79ab31b8-3905-4bd9-98b3-4b8757ffc92a",
   "metadata": {},
   "source": [
    "A method of optimizing the portfolio will be shown here, a Monte Carlo simulation."
   ]
  },
  {
   "cell_type": "markdown",
   "id": "2beb73e8-07ce-4229-bdfa-79d0897ec805",
   "metadata": {},
   "source": [
    "#### Preparing and Processing the Data"
   ]
  },
  {
   "cell_type": "markdown",
   "id": "2da42113-ccfc-4e90-b325-bbd1f851b394",
   "metadata": {},
   "source": [
    "For this notebook, I am going to resort to the information found at [Yahoo Finance](https://finance.yahoo.com/). The mock portfolio contains the following assets: Nike Inc. (NKE), Costco Wholesale Corporation (COST), The Walt Disney Company (DIS), Visa Inc. (V), and Walmart Inc. (WMT)."
   ]
  },
  {
   "cell_type": "code",
   "execution_count": 258,
   "id": "8344b940-ec42-4e3d-b65d-911c117bed88",
   "metadata": {},
   "outputs": [],
   "source": [
    "# import necessary libraries\n",
    "import pandas as pd\n",
    "import numpy as np\n",
    "import yfinance as yf\n",
    "import matplotlib.pyplot as plt\n",
    "import math\n",
    "from scipy.optimize import minimize"
   ]
  },
  {
   "cell_type": "code",
   "execution_count": 259,
   "id": "8bb6a060-93f2-40ba-8f97-53ced77e5ab2",
   "metadata": {},
   "outputs": [
    {
     "name": "stdout",
     "output_type": "stream",
     "text": [
      "[*********************100%***********************]  1 of 1 completed\n",
      "[*********************100%***********************]  1 of 1 completed\n",
      "[*********************100%***********************]  1 of 1 completed\n",
      "[*********************100%***********************]  1 of 1 completed\n",
      "[*********************100%***********************]  1 of 1 completed\n"
     ]
    }
   ],
   "source": [
    "# load data\n",
    "\n",
    "nke = yf.download('NKE')['Adj Close']\n",
    "cost= yf.download('COST')['Adj Close']\n",
    "dis= yf.download('DIS')['Adj Close']\n",
    "v= yf.download('V')['Adj Close']\n",
    "wmt= yf.download('WMT')['Adj Close']"
   ]
  },
  {
   "cell_type": "markdown",
   "id": "d31935e7-7f31-494c-a51c-2507a5d28c3c",
   "metadata": {},
   "source": [
    "For the purposes of this analysis, I will only take the adjusted closing price (closing price sans dividends). Let's wrap everyting into a single data frame. "
   ]
  },
  {
   "cell_type": "code",
   "execution_count": 260,
   "id": "b562ace7-17d3-4205-8e6a-0c31c05ef752",
   "metadata": {},
   "outputs": [
    {
     "data": {
      "text/html": [
       "<div>\n",
       "<style scoped>\n",
       "    .dataframe tbody tr th:only-of-type {\n",
       "        vertical-align: middle;\n",
       "    }\n",
       "\n",
       "    .dataframe tbody tr th {\n",
       "        vertical-align: top;\n",
       "    }\n",
       "\n",
       "    .dataframe thead th {\n",
       "        text-align: right;\n",
       "    }\n",
       "</style>\n",
       "<table border=\"1\" class=\"dataframe\">\n",
       "  <thead>\n",
       "    <tr style=\"text-align: right;\">\n",
       "      <th></th>\n",
       "      <th>NKE</th>\n",
       "      <th>COST</th>\n",
       "      <th>DIS</th>\n",
       "      <th>V</th>\n",
       "      <th>WMT</th>\n",
       "    </tr>\n",
       "    <tr>\n",
       "      <th>Date</th>\n",
       "      <th></th>\n",
       "      <th></th>\n",
       "      <th></th>\n",
       "      <th></th>\n",
       "      <th></th>\n",
       "    </tr>\n",
       "  </thead>\n",
       "  <tbody>\n",
       "    <tr>\n",
       "      <th>1962-01-02</th>\n",
       "      <td>NaN</td>\n",
       "      <td>NaN</td>\n",
       "      <td>0.058263</td>\n",
       "      <td>NaN</td>\n",
       "      <td>NaN</td>\n",
       "    </tr>\n",
       "    <tr>\n",
       "      <th>1962-01-03</th>\n",
       "      <td>NaN</td>\n",
       "      <td>NaN</td>\n",
       "      <td>0.059045</td>\n",
       "      <td>NaN</td>\n",
       "      <td>NaN</td>\n",
       "    </tr>\n",
       "    <tr>\n",
       "      <th>1962-01-04</th>\n",
       "      <td>NaN</td>\n",
       "      <td>NaN</td>\n",
       "      <td>0.059045</td>\n",
       "      <td>NaN</td>\n",
       "      <td>NaN</td>\n",
       "    </tr>\n",
       "    <tr>\n",
       "      <th>1962-01-05</th>\n",
       "      <td>NaN</td>\n",
       "      <td>NaN</td>\n",
       "      <td>0.059240</td>\n",
       "      <td>NaN</td>\n",
       "      <td>NaN</td>\n",
       "    </tr>\n",
       "    <tr>\n",
       "      <th>1962-01-08</th>\n",
       "      <td>NaN</td>\n",
       "      <td>NaN</td>\n",
       "      <td>0.059045</td>\n",
       "      <td>NaN</td>\n",
       "      <td>NaN</td>\n",
       "    </tr>\n",
       "  </tbody>\n",
       "</table>\n",
       "</div>"
      ],
      "text/plain": [
       "            NKE  COST       DIS   V  WMT\n",
       "Date                                    \n",
       "1962-01-02  NaN   NaN  0.058263 NaN  NaN\n",
       "1962-01-03  NaN   NaN  0.059045 NaN  NaN\n",
       "1962-01-04  NaN   NaN  0.059045 NaN  NaN\n",
       "1962-01-05  NaN   NaN  0.059240 NaN  NaN\n",
       "1962-01-08  NaN   NaN  0.059045 NaN  NaN"
      ]
     },
     "execution_count": 260,
     "metadata": {},
     "output_type": "execute_result"
    }
   ],
   "source": [
    "# wrap everyting into a single data frame\n",
    "portfolio = pd.concat([nke, cost, dis, v, wmt], axis=1)\n",
    "#rename the columns to show portfolio's tickers\n",
    "portfolio.columns = ['NKE', 'COST', 'DIS', 'V', 'WMT']\n",
    "portfolio.head()"
   ]
  },
  {
   "cell_type": "markdown",
   "id": "6fff8370-6562-4585-9241-651133bd1b60",
   "metadata": {},
   "source": [
    "One thing I did not account for when picking the assets is that not all went public at the same time. Actually, just the Disney Company has records going back as far as the early sixties. Let's see how many of those are there in the data frame."
   ]
  },
  {
   "cell_type": "code",
   "execution_count": 261,
   "id": "6d893ce6-4eb9-4a10-aa7f-eeaa3a092d88",
   "metadata": {},
   "outputs": [
    {
     "data": {
      "text/plain": [
       "NKE      4746\n",
       "COST     6161\n",
       "DIS         1\n",
       "V       11633\n",
       "WMT      2660\n",
       "dtype: int64"
      ]
     },
     "execution_count": 261,
     "metadata": {},
     "output_type": "execute_result"
    }
   ],
   "source": [
    "portfolio.isnull().sum()"
   ]
  },
  {
   "cell_type": "markdown",
   "id": "c1f8cf41-fd40-4daa-b55f-cc2b216f3d32",
   "metadata": {},
   "source": [
    "This indicates that these companies went public at different instances in time. This is to keep in mind when obtaining daily returns."
   ]
  },
  {
   "cell_type": "markdown",
   "id": "98fc81a1-ecf5-448a-a410-b978605aac83",
   "metadata": {},
   "source": [
    "#### Obtaining Daily Returns"
   ]
  },
  {
   "cell_type": "code",
   "execution_count": 262,
   "id": "ea7501d9-43d4-4614-8391-0df0b857c99b",
   "metadata": {},
   "outputs": [],
   "source": [
    "# get the daily return change and drop all NaN values, those generated by the shift and also because of lack of data\n",
    "portfolio_returns = portfolio.pct_change().dropna()"
   ]
  },
  {
   "cell_type": "markdown",
   "id": "5e7d0e17-d483-40e2-b20c-4c2cb54f6705",
   "metadata": {},
   "source": [
    "By calculating the percentual change and dropping all 'NaN' values, the data set is reset to the date for which data is complete for all tickers. This provides with about 12 years' worth of return records. "
   ]
  },
  {
   "cell_type": "code",
   "execution_count": 263,
   "id": "61d6725b-677d-4d13-b30e-b9cd51a319b0",
   "metadata": {},
   "outputs": [
    {
     "data": {
      "text/html": [
       "<div>\n",
       "<style scoped>\n",
       "    .dataframe tbody tr th:only-of-type {\n",
       "        vertical-align: middle;\n",
       "    }\n",
       "\n",
       "    .dataframe tbody tr th {\n",
       "        vertical-align: top;\n",
       "    }\n",
       "\n",
       "    .dataframe thead th {\n",
       "        text-align: right;\n",
       "    }\n",
       "</style>\n",
       "<table border=\"1\" class=\"dataframe\">\n",
       "  <thead>\n",
       "    <tr style=\"text-align: right;\">\n",
       "      <th></th>\n",
       "      <th>NKE</th>\n",
       "      <th>COST</th>\n",
       "      <th>DIS</th>\n",
       "      <th>V</th>\n",
       "      <th>WMT</th>\n",
       "    </tr>\n",
       "    <tr>\n",
       "      <th>Date</th>\n",
       "      <th></th>\n",
       "      <th></th>\n",
       "      <th></th>\n",
       "      <th></th>\n",
       "      <th></th>\n",
       "    </tr>\n",
       "  </thead>\n",
       "  <tbody>\n",
       "    <tr>\n",
       "      <th>2008-03-20</th>\n",
       "      <td>0.087983</td>\n",
       "      <td>0.041721</td>\n",
       "      <td>0.021127</td>\n",
       "      <td>0.138938</td>\n",
       "      <td>0.048248</td>\n",
       "    </tr>\n",
       "    <tr>\n",
       "      <th>2008-03-24</th>\n",
       "      <td>0.026907</td>\n",
       "      <td>0.032797</td>\n",
       "      <td>0.004389</td>\n",
       "      <td>-0.071795</td>\n",
       "      <td>0.007515</td>\n",
       "    </tr>\n",
       "    <tr>\n",
       "      <th>2008-03-25</th>\n",
       "      <td>-0.010278</td>\n",
       "      <td>0.016641</td>\n",
       "      <td>0.001249</td>\n",
       "      <td>0.058932</td>\n",
       "      <td>-0.010815</td>\n",
       "    </tr>\n",
       "    <tr>\n",
       "      <th>2008-03-26</th>\n",
       "      <td>-0.030715</td>\n",
       "      <td>0.000451</td>\n",
       "      <td>-0.009975</td>\n",
       "      <td>0.011225</td>\n",
       "      <td>-0.002828</td>\n",
       "    </tr>\n",
       "    <tr>\n",
       "      <th>2008-03-27</th>\n",
       "      <td>-0.004376</td>\n",
       "      <td>-0.020414</td>\n",
       "      <td>-0.011965</td>\n",
       "      <td>-0.016416</td>\n",
       "      <td>-0.010019</td>\n",
       "    </tr>\n",
       "    <tr>\n",
       "      <th>...</th>\n",
       "      <td>...</td>\n",
       "      <td>...</td>\n",
       "      <td>...</td>\n",
       "      <td>...</td>\n",
       "      <td>...</td>\n",
       "    </tr>\n",
       "    <tr>\n",
       "      <th>2022-03-14</th>\n",
       "      <td>-0.041262</td>\n",
       "      <td>-0.002787</td>\n",
       "      <td>-0.020645</td>\n",
       "      <td>0.018403</td>\n",
       "      <td>0.013937</td>\n",
       "    </tr>\n",
       "    <tr>\n",
       "      <th>2022-03-15</th>\n",
       "      <td>0.015565</td>\n",
       "      <td>0.031125</td>\n",
       "      <td>0.040068</td>\n",
       "      <td>0.029002</td>\n",
       "      <td>0.012010</td>\n",
       "    </tr>\n",
       "    <tr>\n",
       "      <th>2022-03-16</th>\n",
       "      <td>0.048492</td>\n",
       "      <td>0.001973</td>\n",
       "      <td>0.029359</td>\n",
       "      <td>0.027797</td>\n",
       "      <td>-0.002950</td>\n",
       "    </tr>\n",
       "    <tr>\n",
       "      <th>2022-03-17</th>\n",
       "      <td>0.017733</td>\n",
       "      <td>0.017299</td>\n",
       "      <td>0.009628</td>\n",
       "      <td>0.007457</td>\n",
       "      <td>0.001519</td>\n",
       "    </tr>\n",
       "    <tr>\n",
       "      <th>2022-03-18</th>\n",
       "      <td>0.030060</td>\n",
       "      <td>0.015485</td>\n",
       "      <td>0.005951</td>\n",
       "      <td>0.026517</td>\n",
       "      <td>0.002965</td>\n",
       "    </tr>\n",
       "  </tbody>\n",
       "</table>\n",
       "<p>3525 rows × 5 columns</p>\n",
       "</div>"
      ],
      "text/plain": [
       "                 NKE      COST       DIS         V       WMT\n",
       "Date                                                        \n",
       "2008-03-20  0.087983  0.041721  0.021127  0.138938  0.048248\n",
       "2008-03-24  0.026907  0.032797  0.004389 -0.071795  0.007515\n",
       "2008-03-25 -0.010278  0.016641  0.001249  0.058932 -0.010815\n",
       "2008-03-26 -0.030715  0.000451 -0.009975  0.011225 -0.002828\n",
       "2008-03-27 -0.004376 -0.020414 -0.011965 -0.016416 -0.010019\n",
       "...              ...       ...       ...       ...       ...\n",
       "2022-03-14 -0.041262 -0.002787 -0.020645  0.018403  0.013937\n",
       "2022-03-15  0.015565  0.031125  0.040068  0.029002  0.012010\n",
       "2022-03-16  0.048492  0.001973  0.029359  0.027797 -0.002950\n",
       "2022-03-17  0.017733  0.017299  0.009628  0.007457  0.001519\n",
       "2022-03-18  0.030060  0.015485  0.005951  0.026517  0.002965\n",
       "\n",
       "[3525 rows x 5 columns]"
      ]
     },
     "execution_count": 263,
     "metadata": {},
     "output_type": "execute_result"
    }
   ],
   "source": [
    "portfolio_returns"
   ]
  },
  {
   "cell_type": "markdown",
   "id": "59771158-459c-42b1-b6f7-2b644bebcf10",
   "metadata": {},
   "source": [
    "#### Monte Carlo Simulation"
   ]
  },
  {
   "cell_type": "markdown",
   "id": "8c57d138-43b5-45ef-b78c-b327e0ca148b",
   "metadata": {},
   "source": [
    "The point of implementing sa Monte Carlo simulation is to randomly sample for an array of weights for the portfolio to then map them out their return, risk and volatility. With such layout, we can pick the best combination available, the one that maximizes return while minimizing risk. "
   ]
  },
  {
   "cell_type": "markdown",
   "id": "a2bec7a9-3732-4148-9c41-890d7c86cdb9",
   "metadata": {},
   "source": [
    "First, I will obtain the logarithmic returns, taken the returns as a continuos variable. "
   ]
  },
  {
   "cell_type": "code",
   "execution_count": 264,
   "id": "912c8197-bbcc-43fb-96d6-6b932d3a948b",
   "metadata": {},
   "outputs": [
    {
     "data": {
      "text/html": [
       "<div>\n",
       "<style scoped>\n",
       "    .dataframe tbody tr th:only-of-type {\n",
       "        vertical-align: middle;\n",
       "    }\n",
       "\n",
       "    .dataframe tbody tr th {\n",
       "        vertical-align: top;\n",
       "    }\n",
       "\n",
       "    .dataframe thead th {\n",
       "        text-align: right;\n",
       "    }\n",
       "</style>\n",
       "<table border=\"1\" class=\"dataframe\">\n",
       "  <thead>\n",
       "    <tr style=\"text-align: right;\">\n",
       "      <th></th>\n",
       "      <th>NKE</th>\n",
       "      <th>COST</th>\n",
       "      <th>DIS</th>\n",
       "      <th>V</th>\n",
       "      <th>WMT</th>\n",
       "    </tr>\n",
       "    <tr>\n",
       "      <th>Date</th>\n",
       "      <th></th>\n",
       "      <th></th>\n",
       "      <th></th>\n",
       "      <th></th>\n",
       "      <th></th>\n",
       "    </tr>\n",
       "  </thead>\n",
       "  <tbody>\n",
       "    <tr>\n",
       "      <th>2008-03-20</th>\n",
       "      <td>0.084326</td>\n",
       "      <td>0.040874</td>\n",
       "      <td>0.020907</td>\n",
       "      <td>0.130096</td>\n",
       "      <td>0.047120</td>\n",
       "    </tr>\n",
       "    <tr>\n",
       "      <th>2008-03-24</th>\n",
       "      <td>0.026551</td>\n",
       "      <td>0.032271</td>\n",
       "      <td>0.004379</td>\n",
       "      <td>-0.074502</td>\n",
       "      <td>0.007486</td>\n",
       "    </tr>\n",
       "    <tr>\n",
       "      <th>2008-03-25</th>\n",
       "      <td>-0.010331</td>\n",
       "      <td>0.016504</td>\n",
       "      <td>0.001248</td>\n",
       "      <td>0.057261</td>\n",
       "      <td>-0.010874</td>\n",
       "    </tr>\n",
       "    <tr>\n",
       "      <th>2008-03-26</th>\n",
       "      <td>-0.031197</td>\n",
       "      <td>0.000451</td>\n",
       "      <td>-0.010025</td>\n",
       "      <td>0.011163</td>\n",
       "      <td>-0.002832</td>\n",
       "    </tr>\n",
       "    <tr>\n",
       "      <th>2008-03-27</th>\n",
       "      <td>-0.004385</td>\n",
       "      <td>-0.020625</td>\n",
       "      <td>-0.012037</td>\n",
       "      <td>-0.016553</td>\n",
       "      <td>-0.010069</td>\n",
       "    </tr>\n",
       "    <tr>\n",
       "      <th>...</th>\n",
       "      <td>...</td>\n",
       "      <td>...</td>\n",
       "      <td>...</td>\n",
       "      <td>...</td>\n",
       "      <td>...</td>\n",
       "    </tr>\n",
       "    <tr>\n",
       "      <th>2022-03-14</th>\n",
       "      <td>-0.042138</td>\n",
       "      <td>-0.002791</td>\n",
       "      <td>-0.020861</td>\n",
       "      <td>0.018235</td>\n",
       "      <td>0.013841</td>\n",
       "    </tr>\n",
       "    <tr>\n",
       "      <th>2022-03-15</th>\n",
       "      <td>0.015445</td>\n",
       "      <td>0.030650</td>\n",
       "      <td>0.039286</td>\n",
       "      <td>0.028590</td>\n",
       "      <td>0.011938</td>\n",
       "    </tr>\n",
       "    <tr>\n",
       "      <th>2022-03-16</th>\n",
       "      <td>0.047353</td>\n",
       "      <td>0.001971</td>\n",
       "      <td>0.028936</td>\n",
       "      <td>0.027417</td>\n",
       "      <td>-0.002954</td>\n",
       "    </tr>\n",
       "    <tr>\n",
       "      <th>2022-03-17</th>\n",
       "      <td>0.017578</td>\n",
       "      <td>0.017151</td>\n",
       "      <td>0.009582</td>\n",
       "      <td>0.007430</td>\n",
       "      <td>0.001518</td>\n",
       "    </tr>\n",
       "    <tr>\n",
       "      <th>2022-03-18</th>\n",
       "      <td>0.029617</td>\n",
       "      <td>0.015366</td>\n",
       "      <td>0.005933</td>\n",
       "      <td>0.026171</td>\n",
       "      <td>0.002961</td>\n",
       "    </tr>\n",
       "  </tbody>\n",
       "</table>\n",
       "<p>3525 rows × 5 columns</p>\n",
       "</div>"
      ],
      "text/plain": [
       "                 NKE      COST       DIS         V       WMT\n",
       "Date                                                        \n",
       "2008-03-20  0.084326  0.040874  0.020907  0.130096  0.047120\n",
       "2008-03-24  0.026551  0.032271  0.004379 -0.074502  0.007486\n",
       "2008-03-25 -0.010331  0.016504  0.001248  0.057261 -0.010874\n",
       "2008-03-26 -0.031197  0.000451 -0.010025  0.011163 -0.002832\n",
       "2008-03-27 -0.004385 -0.020625 -0.012037 -0.016553 -0.010069\n",
       "...              ...       ...       ...       ...       ...\n",
       "2022-03-14 -0.042138 -0.002791 -0.020861  0.018235  0.013841\n",
       "2022-03-15  0.015445  0.030650  0.039286  0.028590  0.011938\n",
       "2022-03-16  0.047353  0.001971  0.028936  0.027417 -0.002954\n",
       "2022-03-17  0.017578  0.017151  0.009582  0.007430  0.001518\n",
       "2022-03-18  0.029617  0.015366  0.005933  0.026171  0.002961\n",
       "\n",
       "[3525 rows x 5 columns]"
      ]
     },
     "execution_count": 264,
     "metadata": {},
     "output_type": "execute_result"
    }
   ],
   "source": [
    "# obtain the logarithmic returns for the daily returns of the adjusted close price\n",
    "log_returns = np.log1p(portfolio_returns)\n",
    "# if the above dataframe is printed, we can see both the daily returns and their log transformation are pretty similar\n",
    "log_returns"
   ]
  },
  {
   "cell_type": "markdown",
   "id": "85110f9c-e6db-446b-b601-fcbe16afa54d",
   "metadata": {},
   "source": [
    "Next comes the generation of random weights so they can be combined multiple times (in the 1000s)."
   ]
  },
  {
   "cell_type": "markdown",
   "id": "1c5fbf42-92fe-42cf-a853-49279e586386",
   "metadata": {},
   "source": [
    "#### Random Weight Generation"
   ]
  },
  {
   "cell_type": "code",
   "execution_count": 265,
   "id": "7d011900-2b5a-4d31-9913-1b44b2b79c11",
   "metadata": {},
   "outputs": [],
   "source": [
    "# even though we have normalized weights for the length of the portfolio, the following definition would give more flexibility\n",
    "# to calculate the Monte Carlo simulation\n",
    "N = len(portfolio.columns)\n",
    "def gen_weights(N):\n",
    "    weights = np.random.random(N)\n",
    "    return weights / np.sum(weights)"
   ]
  },
  {
   "cell_type": "markdown",
   "id": "a333b479-8ecf-4ed3-aad7-a5b200c23cde",
   "metadata": {},
   "source": [
    "Now that the weights are ready, let's get the returns for a given weight and also the volatility for a given weight. The volatility will be calculated taking the covariance of assets in the portfolio."
   ]
  },
  {
   "cell_type": "markdown",
   "id": "4f506c31-82c9-4a7e-b143-41132735f540",
   "metadata": {},
   "source": [
    "#### Obtaining the Returns and Volatility"
   ]
  },
  {
   "cell_type": "code",
   "execution_count": 266,
   "id": "1fc55e39-67bb-413f-b320-27ae8ff7382d",
   "metadata": {},
   "outputs": [],
   "source": [
    "# function to get the returns for a given weight given the logarithmic returns\n",
    "def return_calc(log_returns, weights):\n",
    "    return np.sum(log_returns.mean()*weights) * 252 # annualized returns / this  sum of average log returns \n",
    "                                                    # by the product of the set of weights produces an array of the same length as the volatility\n",
    "                                                    # which it will be used to calculate the Sharpe Ratio "
   ]
  },
  {
   "cell_type": "code",
   "execution_count": 267,
   "id": "e7b37076-f210-4154-bbf8-9af5db61c8f3",
   "metadata": {},
   "outputs": [
    {
     "data": {
      "text/html": [
       "<div>\n",
       "<style scoped>\n",
       "    .dataframe tbody tr th:only-of-type {\n",
       "        vertical-align: middle;\n",
       "    }\n",
       "\n",
       "    .dataframe tbody tr th {\n",
       "        vertical-align: top;\n",
       "    }\n",
       "\n",
       "    .dataframe thead th {\n",
       "        text-align: right;\n",
       "    }\n",
       "</style>\n",
       "<table border=\"1\" class=\"dataframe\">\n",
       "  <thead>\n",
       "    <tr style=\"text-align: right;\">\n",
       "      <th></th>\n",
       "      <th>NKE</th>\n",
       "      <th>COST</th>\n",
       "      <th>DIS</th>\n",
       "      <th>V</th>\n",
       "      <th>WMT</th>\n",
       "    </tr>\n",
       "  </thead>\n",
       "  <tbody>\n",
       "    <tr>\n",
       "      <th>NKE</th>\n",
       "      <td>0.000335</td>\n",
       "      <td>0.000118</td>\n",
       "      <td>0.000175</td>\n",
       "      <td>0.000168</td>\n",
       "      <td>0.000086</td>\n",
       "    </tr>\n",
       "    <tr>\n",
       "      <th>COST</th>\n",
       "      <td>0.000118</td>\n",
       "      <td>0.000192</td>\n",
       "      <td>0.000113</td>\n",
       "      <td>0.000115</td>\n",
       "      <td>0.000103</td>\n",
       "    </tr>\n",
       "    <tr>\n",
       "      <th>DIS</th>\n",
       "      <td>0.000175</td>\n",
       "      <td>0.000113</td>\n",
       "      <td>0.000326</td>\n",
       "      <td>0.000184</td>\n",
       "      <td>0.000086</td>\n",
       "    </tr>\n",
       "    <tr>\n",
       "      <th>V</th>\n",
       "      <td>0.000168</td>\n",
       "      <td>0.000115</td>\n",
       "      <td>0.000184</td>\n",
       "      <td>0.000360</td>\n",
       "      <td>0.000084</td>\n",
       "    </tr>\n",
       "    <tr>\n",
       "      <th>WMT</th>\n",
       "      <td>0.000086</td>\n",
       "      <td>0.000103</td>\n",
       "      <td>0.000086</td>\n",
       "      <td>0.000084</td>\n",
       "      <td>0.000164</td>\n",
       "    </tr>\n",
       "  </tbody>\n",
       "</table>\n",
       "</div>"
      ],
      "text/plain": [
       "           NKE      COST       DIS         V       WMT\n",
       "NKE   0.000335  0.000118  0.000175  0.000168  0.000086\n",
       "COST  0.000118  0.000192  0.000113  0.000115  0.000103\n",
       "DIS   0.000175  0.000113  0.000326  0.000184  0.000086\n",
       "V     0.000168  0.000115  0.000184  0.000360  0.000084\n",
       "WMT   0.000086  0.000103  0.000086  0.000084  0.000164"
      ]
     },
     "execution_count": 267,
     "metadata": {},
     "output_type": "execute_result"
    }
   ],
   "source": [
    "# covariance matrix of assets in portfolio\n",
    "portfolio_cov = log_returns.cov()\n",
    "portfolio_cov"
   ]
  },
  {
   "cell_type": "code",
   "execution_count": 268,
   "id": "48217b77-0beb-4ca5-9937-9047018b16a3",
   "metadata": {},
   "outputs": [],
   "source": [
    "# function to get the volatility\n",
    "def volatility(weights, portfolio_cov):\n",
    "    annualized_cov= np.dot(portfolio_cov*252, weights)\n",
    "    vol= np.dot(weights.transpose(), annualized_cov)\n",
    "    return np.sqrt(vol)"
   ]
  },
  {
   "cell_type": "markdown",
   "id": "f8f103b7-b319-488b-b72a-ff07ede4d7a1",
   "metadata": {},
   "source": [
    "#### Running the Monte Carlo Simulation"
   ]
  },
  {
   "cell_type": "markdown",
   "id": "556e8b3d-7cdf-4a85-819f-40bbeb0c134d",
   "metadata": {},
   "source": [
    "What comes now is the generation of iterations to assess the expected return and the expected volatilty given the Sharpe Ratio (which will serves as a sort of bechmark or contrast metric to determine where the frontier stands)."
   ]
  },
  {
   "cell_type": "code",
   "execution_count": 269,
   "id": "ef996d38-14e0-43d0-8fc3-1b4fdcde09d7",
   "metadata": {},
   "outputs": [],
   "source": [
    "mc_returns = []\n",
    "mc_volatility = []\n",
    "mc_weights = []\n",
    "\n",
    "for sim in range(9000):\n",
    "    weights = gen_weights(N=5)\n",
    "    mc_weights.append(weights)\n",
    "    mc_returns.append(return_calc(log_returns, weights))\n",
    "    mc_volatility.append(volatility(weights, portfolio_cov))"
   ]
  },
  {
   "cell_type": "markdown",
   "id": "9673e45c-c1d7-4558-a5ab-f1950184027b",
   "metadata": {},
   "source": [
    "With the flow above defined, let's get now the contrast metric, the Share Ratio. In order to do it so, we have to divide simulated returns by the simulated volatility."
   ]
  },
  {
   "cell_type": "code",
   "execution_count": 270,
   "id": "73cabe65-fe33-4e32-af8c-a6c005ee19ca",
   "metadata": {},
   "outputs": [],
   "source": [
    "# returns and volatilty for the simulation are lists, so they can be passed as arrays\n",
    "mc_sr = np.array(mc_returns) / np.array(mc_volatility)\n"
   ]
  },
  {
   "cell_type": "markdown",
   "id": "cf4e5f63-912d-42bf-aed1-2fa75bc880dd",
   "metadata": {},
   "source": [
    "#### Findings"
   ]
  },
  {
   "cell_type": "markdown",
   "id": "b649f9cb-ec92-4b9c-903f-7faae59565bc",
   "metadata": {},
   "source": [
    "Let's now visualize the simulation in relation to the Sharpe Ratio. "
   ]
  },
  {
   "cell_type": "code",
   "execution_count": 271,
   "id": "48572ffb-61b1-4bdc-9863-dec58c7c8622",
   "metadata": {},
   "outputs": [
    {
     "data": {
      "text/plain": [
       "<matplotlib.colorbar.Colorbar at 0x207645c49d0>"
      ]
     },
     "execution_count": 271,
     "metadata": {},
     "output_type": "execute_result"
    },
    {
     "data": {
      "image/png": "[encoded data removed]",
      "text/plain": [
       "<Figure size 1008x432 with 2 Axes>"
      ]
     },
     "metadata": {
      "needs_background": "light"
     },
     "output_type": "display_data"
    }
   ],
   "source": [
    "plt.figure(figsize=(14,6))\n",
    "plt.scatter(mc_returns, mc_volatility, c=mc_sr)\n",
    "plt.ylabel('RETURNS')\n",
    "plt.xlabel('VOLATILITY')\n",
    "plt.colorbar(label='SHARPE RATIO')"
   ]
  },
  {
   "cell_type": "markdown",
   "id": "bdda3289-5269-4a93-b02b-e572cee6e2f2",
   "metadata": {},
   "source": [
    "This is how the simulation looks, but where does the fronter lie? This is where the Sharpe Ratio comes at play. Let's obtain the maximum value for 'mc_sr' and the values at such index position. That should show us the optimal weights (expressed in percentual terms) for the assets in this portfolio. Given this simulation, most of the money shpuld be put on CostCo, followed by the Walt Disney Company and Nike."
   ]
  },
  {
   "cell_type": "code",
   "execution_count": 273,
   "id": "411c1bbc-e56b-417a-a4e2-160d954010dc",
   "metadata": {},
   "outputs": [
    {
     "data": {
      "text/plain": [
       "array([14.87915178, 53.92606959,  0.93712011, 24.02635032,  6.2313082 ])"
      ]
     },
     "execution_count": 273,
     "metadata": {},
     "output_type": "execute_result"
    }
   ],
   "source": [
    "optimal_weights = mc_weights[np.argmax(mc_sr)] * 100\n",
    "optimal_weights"
   ]
  },
  {
   "cell_type": "code",
   "execution_count": null,
   "id": "a3ab603c-02a2-48c6-982f-cf53af379e17",
   "metadata": {},
   "outputs": [],
   "source": []
  }
 ],
 "metadata": {
  "kernelspec": {
   "display_name": "Python 3",
   "language": "python",
   "name": "python3"
  },
  "language_info": {
   "codemirror_mode": {
    "name": "ipython",
    "version": 3
   },
   "file_extension": ".py",
   "mimetype": "text/x-python",
   "name": "python",
   "nbconvert_exporter": "python",
   "pygments_lexer": "ipython3",
   "version": "3.8.8"
  }
 },
 "nbformat": 4,
 "nbformat_minor": 5
}
